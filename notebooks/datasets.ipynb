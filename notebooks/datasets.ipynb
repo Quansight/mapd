{
 "cells": [
  {
   "cell_type": "markdown",
   "metadata": {},
   "source": [
    "# Migrate Vega datasets to Ibis."
   ]
  },
  {
   "cell_type": "code",
   "execution_count": 1,
   "metadata": {},
   "outputs": [],
   "source": [
    "import vega_datasets"
   ]
  },
  {
   "cell_type": "code",
   "execution_count": 2,
   "metadata": {},
   "outputs": [],
   "source": [
    "import ibis.mapd\n",
    "from ibis.pandas.client import  infer_pandas_schema\n",
    "from pandas import Series, Index, DataFrame"
   ]
  },
  {
   "cell_type": "code",
   "execution_count": 3,
   "metadata": {},
   "outputs": [],
   "source": [
    "def try_to_load(dataset):\n",
    "    \"\"\"Some datasets will not load.\"\"\"\n",
    "    try: return dataset()\n",
    "    except: return DataFrame()"
   ]
  },
  {
   "cell_type": "code",
   "execution_count": 4,
   "metadata": {},
   "outputs": [],
   "source": [
    "def load_vega_datasets(limit=0):\n",
    "    return {\n",
    "        object: try_to_load(getattr(vega_datasets.data, object)) \n",
    "        for i, object in enumerate(dir(vega_datasets.data))\n",
    "        if not limit or i < limit\n",
    "    }"
   ]
  },
  {
   "cell_type": "code",
   "execution_count": 5,
   "metadata": {},
   "outputs": [],
   "source": [
    "MAPPING = {\n",
    "    'year': 'year_', 'Year': 'year_', 'value': 'value_', \n",
    "    'DATE': 'date_', 'Date': 'date_', 'date': 'date_',\n",
    "    'time': 'time_', 'count': 'count_', \"group\": \"group_\",\n",
    "    'end': 'end_', \"start\": \"start_\", \"key\": \"key_\", \"id\": \"id_\",\n",
    "    'month': 'month_'\n",
    "}"
   ]
  },
  {
   "cell_type": "code",
   "execution_count": 22,
   "metadata": {},
   "outputs": [],
   "source": [
    "from importnb import Notebook\n",
    "\n",
    "with Notebook():\n",
    "    try:\n",
    "        from . import truncate_tweets\n",
    "    except:\n",
    "        import truncate_tweets"
   ]
  },
  {
   "cell_type": "code",
   "execution_count": 18,
   "metadata": {},
   "outputs": [],
   "source": [
    "def preprocess_df(df):\n",
    "    global MAPPING\n",
    "    df.columns = df.columns.astype(str).str.replace(' ', '_').str.replace('-', '_').str.replace('\"', '')\n",
    "\n",
    "    df = df.rename(columns=MAPPING)\n",
    "    \n",
    "    if 'Title' in df.columns:\n",
    "        \"\"\"In movies the integers mess things up\"\"\"\n",
    "        df['Title'] = df['Title'].astype(str)\n",
    "\n",
    "    \"\"\"Rename the columns\"\"\"\n",
    "    df = df[df.columns[list(df.columns.astype(str).map(lambda x: x[0].isalpha()))]]\n",
    "    return df\n",
    "    "
   ]
  },
  {
   "cell_type": "code",
   "execution_count": 19,
   "metadata": {},
   "outputs": [],
   "source": [
    "def load_data(client, table_name, df): \n",
    "    df = df.pipe(preprocess_df)\n",
    "    client.create_table(table_name, schema=infer_pandas_schema(df))    \n",
    "    client.load_data(table_name, df, method='columnar', create=False)"
   ]
  },
  {
   "cell_type": "code",
   "execution_count": 20,
   "metadata": {},
   "outputs": [],
   "source": [
    "def migrate(client, **data):\n",
    "    global MAPPING\n",
    "    for key, value in data.items():\n",
    "        if len(value):\n",
    "            try: client.drop_table(key)\n",
    "            except: ...\n",
    "            \n",
    "            if not isinstance(value, DataFrame) or not len(value.columns): \n",
    "                \"\"\"Skip empty frames\"\"\"\n",
    "                continue\n",
    "            \n",
    "            if key in ('unemployment', 'weather', 'movies'):\n",
    "                \"\"\"Explicitly ignore these datasets.\"\"\"\n",
    "                continue\n",
    "\n",
    "            load_data(client, key, value)\n",
    "    return client"
   ]
  },
  {
   "cell_type": "markdown",
   "metadata": {},
   "source": [
    "# Other VegaLite datasets"
   ]
  },
  {
   "cell_type": "code",
   "execution_count": 21,
   "metadata": {},
   "outputs": [],
   "source": [
    "from altair.vegalite.v2.examples import simple_bar_chart\n",
    "\n",
    "extras = {\n",
    "    \"simple_bar_chart\": simple_bar_chart.data\n",
    "}"
   ]
  },
  {
   "cell_type": "markdown",
   "metadata": {},
   "source": [
    "# MapD"
   ]
  },
  {
   "cell_type": "code",
   "execution_count": 15,
   "metadata": {},
   "outputs": [],
   "source": [
    "default = dict(\n",
    "    host='192.168.99.100', user='mapd', password='HyperInteractive',\n",
    "    port=32769, database='mapd')\n",
    "\n",
    "def mapd(**host):\n",
    "    return ibis.mapd.connect(**(host or default))\n",
    "\n",
    "def build_mapd():    \n",
    "    with mapd(**host) as mapd:\n",
    "        mapd.load_data = mapd.con.load_table\n",
    "        migrate(mapd, **extras)\n",
    "        migrate(mapd, tweets=truncate_tweets.sample(1000))\n",
    "        migrate(mapd, **load_vega_datasets())\n",
    "    return host"
   ]
  },
  {
   "cell_type": "markdown",
   "metadata": {},
   "source": [
    "# Pandas"
   ]
  },
  {
   "cell_type": "code",
   "execution_count": 27,
   "metadata": {},
   "outputs": [],
   "source": [
    "def build_pandas():\n",
    "    pandas = ibis.pandas.connect({})\n",
    "    pandas = migrate(pandas, **extras, **load_vega_datasets())\n",
    "    pandas = migrate(pandas, tweets=truncate_tweets.sample(1000)[-1])\n",
    "    return pandas"
   ]
  }
 ],
 "metadata": {
  "kernelspec": {
   "display_name": "p6",
   "language": "python",
   "name": "other-env"
  },
  "language_info": {
   "codemirror_mode": {
    "name": "ipython",
    "version": 3
   },
   "file_extension": ".py",
   "mimetype": "text/x-python",
   "name": "python",
   "nbconvert_exporter": "python",
   "pygments_lexer": "ipython3",
   "version": "3.6.3"
  }
 },
 "nbformat": 4,
 "nbformat_minor": 2
}
