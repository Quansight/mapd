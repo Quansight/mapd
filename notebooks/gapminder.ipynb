{
 "cells": [
  {
   "cell_type": "code",
   "execution_count": 1,
   "metadata": {},
   "outputs": [],
   "source": [
    "import mapd_renderer\n",
    "import ibis\n",
    "import altair as alt\n",
    "from vega_datasets import data"
   ]
  },
  {
   "cell_type": "code",
   "execution_count": 2,
   "metadata": {},
   "outputs": [],
   "source": [
    "TABLE_NAME = \"gapminder_health_income\""
   ]
  },
  {
   "cell_type": "code",
   "execution_count": 3,
   "metadata": {},
   "outputs": [],
   "source": [
    "conn = ibis.mapd.connect(host='qs-dev.mapd.com', port='9092', \n",
    "    user='mapd', password='HyperInteractive', \n",
    "    database='mapd', protocol='http')"
   ]
  },
  {
   "cell_type": "code",
   "execution_count": 4,
   "metadata": {},
   "outputs": [
    {
     "data": {
      "text/plain": [
       "DatabaseTable[table]\n",
       "  name: gapminder_health_income\n",
       "  schema:\n",
       "    country : string\n",
       "    income : int64\n",
       "    health : double\n",
       "    population : int64"
      ]
     },
     "execution_count": 4,
     "metadata": {},
     "output_type": "execute_result"
    }
   ],
   "source": [
    "conn.table(TABLE_NAME)"
   ]
  },
  {
   "cell_type": "code",
   "execution_count": 5,
   "metadata": {},
   "outputs": [],
   "source": [
    "t = conn.table(TABLE_NAME)\n",
    "expr = t[\n",
    "    ibis.row_id(),\n",
    "    t.income,\n",
    "    t.health,\n",
    "    t.population,\n",
    "]"
   ]
  },
  {
   "cell_type": "code",
   "execution_count": 6,
   "metadata": {},
   "outputs": [],
   "source": [
    "def chart(source):\n",
    "    return alt.Chart(source).mark_circle(fill='#800000', opacity=0.1).encode(\n",
    "        alt.X(\n",
    "            'income:Q',\n",
    "            scale=alt.Scale(type='log', domain=[100,100000], range='width')\n",
    "        ),\n",
    "        alt.Y(\n",
    "            'health:Q',\n",
    "            scale=alt.Scale(type='linear', domain=[45,85], range='height')\n",
    "        ),\n",
    "        alt.Size(\n",
    "            'population:Q',\n",
    "            scale=alt.Scale(type='log',domain=[100, 20000])\n",
    "\n",
    "        )\n",
    "    )"
   ]
  },
  {
   "cell_type": "code",
   "execution_count": 7,
   "metadata": {},
   "outputs": [
    {
     "data": {
      "application/vnd.vegalite.v2+json": {
       "$schema": "https://vega.github.io/schema/vega-lite/v2.4.1.json",
       "config": {
        "view": {
         "height": 300,
         "width": 400
        }
       },
       "data": {
        "values": [
         {
          "health": 75.4,
          "income": 26665,
          "population": 2878405,
          "rowid": 96
         },
         {
          "health": 57.63,
          "income": 1925,
          "population": 32526562,
          "rowid": 0
         },
         {
          "health": 65.5,
          "income": 4099,
          "population": 27409893,
          "rowid": 64
         },
         {
          "health": 82,
          "income": 44892,
          "population": 9779426,
          "rowid": 160
         },
         {
          "health": 76,
          "income": 10620,
          "population": 2896679,
          "rowid": 1
         },
         {
          "health": 81.1,
          "income": 88314,
          "population": 567110,
          "rowid": 97
         },
         {
          "health": 76.5,
          "income": 13434,
          "population": 39666519,
          "rowid": 2
         },
         {
          "health": 82.9,
          "income": 56118,
          "population": 8298663,
          "rowid": 161
         },
         {
          "health": 77,
          "income": 12547,
          "population": 2078453,
          "rowid": 98
         },
         {
          "health": 84.1,
          "income": 46577,
          "population": 70473,
          "rowid": 3
         },
         {
          "health": 70.26,
          "income": 4637,
          "population": 18502413,
          "rowid": 162
         },
         {
          "health": 79.8,
          "income": 25430,
          "population": 10954617,
          "rowid": 65
         },
         {
          "health": 64.7,
          "income": 1400,
          "population": 24235390,
          "rowid": 99
         },
         {
          "health": 75.8,
          "income": 14833,
          "population": 625781,
          "rowid": 112
         },
         {
          "health": 71.7,
          "income": 11593,
          "population": 106825,
          "rowid": 66
         },
         {
          "health": 73.1,
          "income": 7279,
          "population": 16342897,
          "rowid": 67
         },
         {
          "health": 80.4,
          "income": 41240,
          "population": 11299192,
          "rowid": 16
         },
         {
          "health": 82.4,
          "income": 31590,
          "population": 8064036,
          "rowid": 80
         },
         {
          "health": 74.7,
          "income": 7319,
          "population": 34377511,
          "rowid": 113
         },
         {
          "health": 70,
          "income": 8501,
          "population": 359287,
          "rowid": 17
         },
         {
          "health": 60.6,
          "income": 2529,
          "population": 7619321,
          "rowid": 128
         },
         {
          "health": 71,
          "income": 2582,
          "population": 8481855,
          "rowid": 163
         },
         {
          "health": 56.4,
          "income": 1176,
          "population": 27977863,
          "rowid": 114
         },
         {
          "health": 81.4,
          "income": 38225,
          "population": 64715810,
          "rowid": 176
         },
         {
          "health": 67.9,
          "income": 4012,
          "population": 53897154,
          "rowid": 115
         },
         {
          "health": 65.5,
          "income": 1830,
          "population": 10879829,
          "rowid": 18
         },
         {
          "health": 73.9,
          "income": 8219,
          "population": 6639123,
          "rowid": 129
         },
         {
          "health": 82.1,
          "income": 33297,
          "population": 59797685,
          "rowid": 81
         },
         {
          "health": 79.1,
          "income": 53354,
          "population": 321773631,
          "rowid": 177
         },
         {
          "health": 60.22,
          "income": 799,
          "population": 17215232,
          "rowid": 100
         },
         {
          "health": 70.2,
          "income": 7983,
          "population": 774830,
          "rowid": 19
         },
         {
          "health": 75.5,
          "income": 8606,
          "population": 2793335,
          "rowid": 82
         },
         {
          "health": 77.5,
          "income": 11903,
          "population": 31376670,
          "rowid": 130
         },
         {
          "health": 83.5,
          "income": 36162,
          "population": 126573481,
          "rowid": 83
         },
         {
          "health": 75.1,
          "income": 24320,
          "population": 30331007,
          "rowid": 101
         },
         {
          "health": 70.2,
          "income": 6876,
          "population": 100699395,
          "rowid": 131
         },
         {
          "health": 60.8,
          "income": 1225,
          "population": 12608590,
          "rowid": 68
         },
         {
          "health": 77.3,
          "income": 20438,
          "population": 3431555,
          "rowid": 178
         },
         {
          "health": 58.5,
          "income": 2085,
          "population": 6453184,
          "rowid": 144
         },
         {
          "health": 79.5,
          "income": 14408,
          "population": 363657,
          "rowid": 102
         },
         {
          "health": 53.4,
          "income": 1386,
          "population": 1844325,
          "rowid": 69
         },
         {
          "health": 70.1,
          "income": 5598,
          "population": 29893488,
          "rowid": 179
         },
         {
          "health": 57.6,
          "income": 1684,
          "population": 17599694,
          "rowid": 103
         },
         {
          "health": 82.1,
          "income": 80794,
          "population": 5603740,
          "rowid": 145
         },
         {
          "health": 63.43,
          "income": 2571,
          "population": 53470420,
          "rowid": 164
         },
         {
          "health": 61,
          "income": 7615,
          "population": 25021974,
          "rowid": 4
         },
         {
          "health": 61,
          "income": 10040,
          "population": 2458830,
          "rowid": 116
         },
         {
          "health": 75.1,
          "income": 14512,
          "population": 67959359,
          "rowid": 165
         },
         {
          "health": 71.2,
          "income": 2352,
          "population": 28513700,
          "rowid": 117
         },
         {
          "health": 75.2,
          "income": 21049,
          "population": 91818,
          "rowid": 5
         },
         {
          "health": 76.2,
          "income": 17344,
          "population": 43416755,
          "rowid": 6
         },
         {
          "health": 76.4,
          "income": 27204,
          "population": 5426258,
          "rowid": 146
         },
         {
          "health": 80.2,
          "income": 28550,
          "population": 2067526,
          "rowid": 147
         },
         {
          "health": 74.4,
          "income": 7763,
          "population": 3017712,
          "rowid": 7
         },
         {
          "health": 72.4,
          "income": 2086,
          "population": 1184765,
          "rowid": 166
         },
         {
          "health": 64.23,
          "income": 1433,
          "population": 7304578,
          "rowid": 167
         },
         {
          "health": 80.6,
          "income": 45784,
          "population": 16924929,
          "rowid": 118
         },
         {
          "health": 80.6,
          "income": 34186,
          "population": 4528526,
          "rowid": 119
         },
         {
          "health": 72.3,
          "income": 6295,
          "population": 10724705,
          "rowid": 20
         },
         {
          "health": 77.9,
          "income": 9833,
          "population": 3810416,
          "rowid": 21
         },
         {
          "health": 64.4,
          "income": 6816,
          "population": 767085,
          "rowid": 70
         },
         {
          "health": 65.3,
          "income": 1710,
          "population": 10711067,
          "rowid": 71
         },
         {
          "health": 66.4,
          "income": 17196,
          "population": 2262485,
          "rowid": 22
         },
         {
          "health": 77.3,
          "income": 24787,
          "population": 38611794,
          "rowid": 132
         },
         {
          "health": 82.1,
          "income": 30265,
          "population": 418670,
          "rowid": 104
         },
         {
          "health": 75.6,
          "income": 15441,
          "population": 207847528,
          "rowid": 23
         },
         {
          "health": 78.3,
          "income": 11752,
          "population": 7594547,
          "rowid": 84
         },
         {
          "health": 65.1,
          "income": 3661,
          "population": 52993,
          "rowid": 105
         },
         {
          "health": 81.8,
          "income": 44056,
          "population": 23968973,
          "rowid": 8
         },
         {
          "health": 65.7,
          "income": 3877,
          "population": 4067564,
          "rowid": 106
         },
         {
          "health": 73.9,
          "income": 18350,
          "population": 1273212,
          "rowid": 107
         },
         {
          "health": 68.2,
          "income": 23468,
          "population": 17625226,
          "rowid": 85
         },
         {
          "health": 65,
          "income": 2912,
          "population": 264652,
          "rowid": 180
         },
         {
          "health": 66.63,
          "income": 2898,
          "population": 46050302,
          "rowid": 86
         },
         {
          "health": 75.8,
          "income": 15753,
          "population": 31108083,
          "rowid": 181
         },
         {
          "health": 76.8,
          "income": 4712,
          "population": 6082032,
          "rowid": 120
         },
         {
          "health": 53.8,
          "income": 599,
          "population": 4900274,
          "rowid": 32
         },
         {
          "health": 62.4,
          "income": 1824,
          "population": 112423,
          "rowid": 87
         },
         {
          "health": 79.8,
          "income": 26437,
          "population": 10349803,
          "rowid": 133
         },
         {
          "health": 76.5,
          "income": 5623,
          "population": 93447601,
          "rowid": 182
         },
         {
          "health": 72.4,
          "income": 4270,
          "population": 8075060,
          "rowid": 72
         },
         {
          "health": 57.7,
          "income": 2191,
          "population": 14037472,
          "rowid": 33
         },
         {
          "health": 62.2,
          "income": 943,
          "population": 19899120,
          "rowid": 121
         },
         {
          "health": 76.2,
          "income": 24200,
          "population": 9855023,
          "rowid": 73
         },
         {
          "health": 61.33,
          "income": 5727,
          "population": 182201962,
          "rowid": 122
         },
         {
          "health": 82,
          "income": 132877,
          "population": 2235355,
          "rowid": 134
         },
         {
          "health": 76.8,
          "income": 19203,
          "population": 19511324,
          "rowid": 135
         },
         {
          "health": 82.8,
          "income": 42182,
          "population": 329425,
          "rowid": 74
         },
         {
          "health": 79.3,
          "income": 22465,
          "population": 17948141,
          "rowid": 34
         },
         {
          "health": 76.9,
          "income": 13334,
          "population": 1376048943,
          "rowid": 35
         },
         {
          "health": 66.8,
          "income": 5903,
          "population": 1311050527,
          "rowid": 75
         },
         {
          "health": 75.2,
          "income": 4319,
          "population": 4668466,
          "rowid": 183
         },
         {
          "health": 64.1,
          "income": 2047,
          "population": 583591,
          "rowid": 148
         },
         {
          "health": 74.6,
          "income": 10503,
          "population": 72680,
          "rowid": 48
         },
         {
          "health": 80.7,
          "income": 82633,
          "population": 3892115,
          "rowid": 88
         },
         {
          "health": 58.7,
          "income": 624,
          "population": 10787104,
          "rowid": 149
         },
         {
          "health": 73.8,
          "income": 12837,
          "population": 10528391,
          "rowid": 49
         },
         {
          "health": 81,
          "income": 44401,
          "population": 8544586,
          "rowid": 9
         },
         {
          "health": 70.5,
          "income": 5069,
          "population": 106170,
          "rowid": 168
         },
         {
          "health": 63.72,
          "income": 12509,
          "population": 54490406,
          "rowid": 150
         },
         {
          "health": 69,
          "income": 3245,
          "population": 5939962,
          "rowid": 89
         },
         {
          "health": 80.7,
          "income": 34644,
          "population": 50293439,
          "rowid": 151
         },
         {
          "health": 71.4,
          "income": 30113,
          "population": 1360088,
          "rowid": 169
         },
         {
          "health": 71.4,
          "income": 1390,
          "population": 25155317,
          "rowid": 123
         },
         {
          "health": 77.3,
          "income": 11126,
          "population": 11253554,
          "rowid": 170
         },
         {
          "health": 74.5,
          "income": 16850,
          "population": 127017224,
          "rowid": 108
         },
         {
          "health": 73.13,
          "income": 23038,
          "population": 143456918,
          "rowid": 136
         },
         {
          "health": 76.5,
          "income": 19360,
          "population": 78665830,
          "rowid": 171
         },
         {
          "health": 67,
          "income": 3510,
          "population": 104460,
          "rowid": 109
         },
         {
          "health": 72.9,
          "income": 16986,
          "population": 9753968,
          "rowid": 10
         },
         {
          "health": 66.53,
          "income": 1549,
          "population": 11609666,
          "rowid": 137
         },
         {
          "health": 75.2,
          "income": 10996,
          "population": 16144363,
          "rowid": 50
         },
         {
          "health": 72.3,
          "income": 22818,
          "population": 388019,
          "rowid": 11
         },
         {
          "health": 71.3,
          "income": 11031,
          "population": 91508084,
          "rowid": 51
         },
         {
          "health": 78.7,
          "income": 73003,
          "population": 423188,
          "rowid": 24
         },
         {
          "health": 72.7,
          "income": 4896,
          "population": 4068897,
          "rowid": 110
         },
         {
          "health": 72.2,
          "income": 5558,
          "population": 193228,
          "rowid": 138
         },
         {
          "health": 67.6,
          "income": 3887,
          "population": 26832215,
          "rowid": 184
         },
         {
          "health": 74.9,
          "income": 16371,
          "population": 7149787,
          "rowid": 25
         },
         {
          "health": 58.96,
          "income": 4034,
          "population": 16211767,
          "rowid": 185
         },
         {
          "health": 75.8,
          "income": 12761,
          "population": 48228704,
          "rowid": 36
         },
         {
          "health": 62.8,
          "income": 1654,
          "population": 18105570,
          "rowid": 26
         },
         {
          "health": 66.4,
          "income": 5212,
          "population": 6802023,
          "rowid": 90
         },
         {
          "health": 68.8,
          "income": 3003,
          "population": 190344,
          "rowid": 139
         },
         {
          "health": 75.7,
          "income": 23282,
          "population": 1970503,
          "rowid": 91
         },
         {
          "health": 60.01,
          "income": 1801,
          "population": 15602751,
          "rowid": 186
         },
         {
          "health": 65.3,
          "income": 11819,
          "population": 2959134,
          "rowid": 111
         },
         {
          "health": 67.9,
          "income": 15865,
          "population": 5373502,
          "rowid": 172
         },
         {
          "health": 70.9,
          "income": 10504,
          "population": 257563815,
          "rowid": 76
         },
         {
          "health": 78.5,
          "income": 15573,
          "population": 79109272,
          "rowid": 77
         },
         {
          "health": 60.4,
          "income": 777,
          "population": 11178921,
          "rowid": 27
         },
         {
          "health": 58,
          "income": 3047,
          "population": 12339812,
          "rowid": 152
         },
         {
          "health": 81.7,
          "income": 32979,
          "population": 46121699,
          "rowid": 153
         },
         {
          "health": 72.1,
          "income": 14646,
          "population": 36423395,
          "rowid": 78
         },
         {
          "health": 60.8,
          "income": 1680,
          "population": 39032383,
          "rowid": 173
         },
         {
          "health": 80.4,
          "income": 47758,
          "population": 4688465,
          "rowid": 79
         },
         {
          "health": 64.1,
          "income": 1472,
          "population": 788474,
          "rowid": 37
         },
         {
          "health": 81.6,
          "income": 64304,
          "population": 5210967,
          "rowid": 124
         },
         {
          "health": 75.7,
          "income": 48226,
          "population": 4490541,
          "rowid": 125
         },
         {
          "health": 78.5,
          "income": 17050,
          "population": 5850743,
          "rowid": 92
         },
         {
          "health": 79.2,
          "income": 44138,
          "population": 1377237,
          "rowid": 12
         },
         {
          "health": 58.3,
          "income": 809,
          "population": 77266814,
          "rowid": 38
         },
         {
          "health": 70.1,
          "income": 3161,
          "population": 160995642,
          "rowid": 13
         },
         {
          "health": 66.5,
          "income": 4743,
          "population": 188924874,
          "rowid": 126
         },
         {
          "health": 61.9,
          "income": 6220,
          "population": 4620330,
          "rowid": 39
         },
         {
          "health": 76.5,
          "income": 10624,
          "population": 20715010,
          "rowid": 154
         },
         {
          "health": 48.5,
          "income": 2598,
          "population": 2135022,
          "rowid": 93
         },
         {
          "health": 63.9,
          "income": 958,
          "population": 4503438,
          "rowid": 94
         },
         {
          "health": 75.8,
          "income": 12984,
          "population": 284215,
          "rowid": 14
         },
         {
          "health": 74.1,
          "income": 7776,
          "population": 6126583,
          "rowid": 52
         },
         {
          "health": 78.2,
          "income": 20485,
          "population": 3929141,
          "rowid": 127
         },
         {
          "health": 72.1,
          "income": 8449,
          "population": 44823765,
          "rowid": 174
         },
         {
          "health": 76.6,
          "income": 60749,
          "population": 9156963,
          "rowid": 175
         },
         {
          "health": 76.2,
          "income": 17261,
          "population": 6278438,
          "rowid": 95
         },
         {
          "health": 74.5,
          "income": 9997,
          "population": 184999,
          "rowid": 155
         },
         {
          "health": 78.1,
          "income": 52469,
          "population": 31540372,
          "rowid": 140
         },
         {
          "health": 70.4,
          "income": 17415,
          "population": 9495826,
          "rowid": 15
         },
         {
          "health": 66.1,
          "income": 2251,
          "population": 15129273,
          "rowid": 141
         },
         {
          "health": 78.1,
          "income": 12908,
          "population": 8850975,
          "rowid": 142
         },
         {
          "health": 68.4,
          "income": 3267,
          "population": 15577899,
          "rowid": 28
         },
         {
          "health": 59.5,
          "income": 2897,
          "population": 23344179,
          "rowid": 29
         },
         {
          "health": 73.7,
          "income": 25684,
          "population": 96471,
          "rowid": 143
         },
         {
          "health": 72.9,
          "income": 10435,
          "population": 109462,
          "rowid": 156
         },
         {
          "health": 60.63,
          "income": 31087,
          "population": 845060,
          "rowid": 53
         },
         {
          "health": 81.7,
          "income": 43294,
          "population": 35939927,
          "rowid": 30
         },
         {
          "health": 74.6,
          "income": 6514,
          "population": 520502,
          "rowid": 31
         },
         {
          "health": 62.9,
          "income": 1129,
          "population": 5227791,
          "rowid": 54
         },
         {
          "health": 69.5,
          "income": 3975,
          "population": 40234882,
          "rowid": 157
         },
         {
          "health": 76.8,
          "income": 26812,
          "population": 1312558,
          "rowid": 55
         },
         {
          "health": 80,
          "income": 14132,
          "population": 4807850,
          "rowid": 40
         },
         {
          "health": 60.33,
          "income": 3491,
          "population": 22701556,
          "rowid": 41
         },
         {
          "health": 78,
          "income": 20260,
          "population": 4240317,
          "rowid": 42
         },
         {
          "health": 78.5,
          "income": 21291,
          "population": 11389562,
          "rowid": 43
         },
         {
          "health": 63.6,
          "income": 1520,
          "population": 99390750,
          "rowid": 56
         },
         {
          "health": 70.5,
          "income": 17125,
          "population": 542975,
          "rowid": 158
         },
         {
          "health": 51.5,
          "income": 6095,
          "population": 1286970,
          "rowid": 159
         },
         {
          "health": 66.3,
          "income": 7925,
          "population": 892145,
          "rowid": 57
         },
         {
          "health": 80.8,
          "income": 38923,
          "population": 5503457,
          "rowid": 58
         },
         {
          "health": 81.9,
          "income": 37599,
          "population": 64395345,
          "rowid": 59
         },
         {
          "health": 82.6,
          "income": 29797,
          "population": 1165300,
          "rowid": 44
         },
         {
          "health": 78.6,
          "income": 29437,
          "population": 10543186,
          "rowid": 45
         },
         {
          "health": 80.1,
          "income": 43495,
          "population": 5669081,
          "rowid": 46
         },
         {
          "health": 64.63,
          "income": 3139,
          "population": 887861,
          "rowid": 47
         },
         {
          "health": 60.53,
          "income": 18627,
          "population": 1725292,
          "rowid": 60
         },
         {
          "health": 65.1,
          "income": 1644,
          "population": 1990924,
          "rowid": 61
         },
         {
          "health": 73.3,
          "income": 7474,
          "population": 3999812,
          "rowid": 62
         },
         {
          "health": 81.1,
          "income": 44053,
          "population": 80688545,
          "rowid": 63
         }
        ]
       },
       "encoding": {
        "size": {
         "field": "population",
         "scale": {
          "domain": [
           100,
           20000
          ],
          "type": "log"
         },
         "type": "quantitative"
        },
        "x": {
         "field": "income",
         "scale": {
          "domain": [
           100,
           100000
          ],
          "range": "width",
          "type": "log"
         },
         "type": "quantitative"
        },
        "y": {
         "field": "health",
         "scale": {
          "domain": [
           45,
           85
          ],
          "range": "height",
          "type": "linear"
         },
         "type": "quantitative"
        }
       },
       "mark": {
        "fill": "#800000",
        "opacity": 0.1,
        "type": "circle"
       }
      },
      "image/png": "[encoded data removed]",
      "text/plain": [
       "<VegaLite 2 object>\n",
       "\n",
       "If you see this message, it means the renderer has not been properly enabled\n",
       "for the frontend that you are using. For more information, see\n",
       "https://altair-viz.github.io/user_guide/troubleshooting.html\n"
      ]
     },
     "execution_count": 7,
     "metadata": {},
     "output_type": "execute_result"
    }
   ],
   "source": [
    "alt.renderers.enable('default')\n",
    "chart(expr.execute())"
   ]
  },
  {
   "cell_type": "code",
   "execution_count": 8,
   "metadata": {},
   "outputs": [
    {
     "data": {
      "application/vnd.mapd.vega+json": {
       "connection": {
        "dbName": "mapd",
        "host": "qs-dev.mapd.com",
        "password": "HyperInteractive",
        "port": "9092",
        "protocol": "http",
        "user": "mapd"
       },
       "vegalite": {
        "$schema": "https://vega.github.io/schema/vega-lite/v2.4.1.json",
        "config": {
         "view": {
          "height": 300,
          "width": 400
         }
        },
        "data": {
         "name": "mapd_data"
        },
        "encoding": {
         "size": {
          "field": "population",
          "scale": {
           "domain": [
            100,
            20000
           ],
           "type": "log"
          },
          "type": "quantitative"
         },
         "x": {
          "field": "income",
          "scale": {
           "domain": [
            100,
            100000
           ],
           "range": "width",
           "type": "log"
          },
          "type": "quantitative"
         },
         "y": {
          "field": "health",
          "scale": {
           "domain": [
            45,
            85
           ],
           "range": "height",
           "type": "linear"
          },
          "type": "quantitative"
         }
        },
        "mark": {
         "fill": "#800000",
         "opacity": 0.1,
         "type": "circle"
        }
       }
      },
      "image/png": "[encoded data removed]",
      "text/plain": [
       "Chart({\n",
       "  data: 'SELECT rowid AS rowid, \"income\", \"health\", \"population\"\\nFROM gapminder_health_income',\n",
       "  encoding: EncodingWithFacet({\n",
       "    size: Size({\n",
       "      scale: Scale({\n",
       "        domain: [100, 20000],\n",
       "        type: 'log'\n",
       "      }),\n",
       "      shorthand: 'population:Q'\n",
       "    }),\n",
       "    x: X({\n",
       "      scale: Scale({\n",
       "        domain: [100, 100000],\n",
       "        range: 'width',\n",
       "        type: 'log'\n",
       "      }),\n",
       "      shorthand: 'income:Q'\n",
       "    }),\n",
       "    y: Y({\n",
       "      scale: Scale({\n",
       "        domain: [45, 85],\n",
       "        range: 'height',\n",
       "        type: 'linear'\n",
       "      }),\n",
       "      shorthand: 'health:Q'\n",
       "    })\n",
       "  }),\n",
       "  mark: MarkDef({\n",
       "    fill: '#800000',\n",
       "    opacity: 0.1,\n",
       "    type: 'circle'\n",
       "  })\n",
       "})"
      ]
     },
     "execution_count": 8,
     "metadata": {},
     "output_type": "execute_result"
    }
   ],
   "source": [
    "alt.renderers.enable('mapd', conn=conn)\n",
    "chart(expr.compile())"
   ]
  }
 ],
 "metadata": {
  "kernelspec": {
   "display_name": "Python 3",
   "language": "python",
   "name": "python3"
  },
  "language_info": {
   "codemirror_mode": {
    "name": "ipython",
    "version": 3
   },
   "file_extension": ".py",
   "mimetype": "text/x-python",
   "name": "python",
   "nbconvert_exporter": "python",
   "pygments_lexer": "ipython3",
   "version": "3.6.4"
  }
 },
 "nbformat": 4,
 "nbformat_minor": 2
}
