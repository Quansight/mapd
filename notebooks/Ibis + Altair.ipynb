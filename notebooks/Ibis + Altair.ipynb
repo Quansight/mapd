{
 "cells": [
  {
   "cell_type": "markdown",
   "metadata": {},
   "source": [
    "# Using Ibis and Altair for MapD\n",
    "\n",
    "In this notebook, we will use Ibis to build MapD query and then use Altair to compose a visualization on top of it.\n",
    "\n",
    "We will be plotting a map of a bunch of tweets.\n",
    "\n",
    "## Assembling the Query\n",
    "First, let's connect to the mapd backend and assemble the query:"
   ]
  },
  {
   "cell_type": "code",
   "execution_count": 1,
   "metadata": {},
   "outputs": [],
   "source": [
    "import mapd_renderer\n",
    "import ibis\n",
    "import altair as alt"
   ]
  },
  {
   "cell_type": "code",
   "execution_count": 2,
   "metadata": {},
   "outputs": [],
   "source": [
    "mapd_cli = ibis.mapd.connect(\n",
    "    host='metis.mapd.com', user='mapd', password='HyperInteractive',\n",
    "    port=443, database='mapd', protocol= 'https'\n",
    ")"
   ]
  },
  {
   "cell_type": "code",
   "execution_count": 3,
   "metadata": {},
   "outputs": [],
   "source": [
    "t = mapd_cli.table('tweets_nov_feb')"
   ]
  },
  {
   "cell_type": "code",
   "execution_count": 4,
   "metadata": {},
   "outputs": [
    {
     "name": "stdout",
     "output_type": "stream",
     "text": [
      "SELECT \"goog_x\" AS x, \"goog_y\" AS y, \"tweet_id\" AS rowid\n",
      "FROM tweets_nov_feb\n",
      "ORDER BY \"tweet_id\"\n",
      "LIMIT 1000\n"
     ]
    }
   ],
   "source": [
    "expr = t.sort_by(\n",
    "    t.tweet_id.name('goog_x')\n",
    ")[\n",
    "    t.goog_x.name('x'),\n",
    "    t.goog_y.name('y'),\n",
    "    t.tweet_id.name('rowid')\n",
    "].limit(1000)\n",
    "\n",
    "print(expr.compile())"
   ]
  },
  {
   "cell_type": "markdown",
   "metadata": {},
   "source": [
    "## Browser rendering\n",
    "Now, let's first try rendering this by getting a Pandas DataFrame \n",
    "and rendering this on the browser"
   ]
  },
  {
   "cell_type": "code",
   "execution_count": 5,
   "metadata": {},
   "outputs": [
    {
     "data": {
      "text/html": [
       "<div>\n",
       "<style scoped>\n",
       "    .dataframe tbody tr th:only-of-type {\n",
       "        vertical-align: middle;\n",
       "    }\n",
       "\n",
       "    .dataframe tbody tr th {\n",
       "        vertical-align: top;\n",
       "    }\n",
       "\n",
       "    .dataframe thead th {\n",
       "        text-align: right;\n",
       "    }\n",
       "</style>\n",
       "<table border=\"1\" class=\"dataframe\">\n",
       "  <thead>\n",
       "    <tr style=\"text-align: right;\">\n",
       "      <th></th>\n",
       "      <th>x</th>\n",
       "      <th>y</th>\n",
       "      <th>rowid</th>\n",
       "    </tr>\n",
       "  </thead>\n",
       "  <tbody>\n",
       "    <tr>\n",
       "      <th>0</th>\n",
       "      <td>-1.083023e+05</td>\n",
       "      <td>6701961.50</td>\n",
       "      <td>528336267080388608</td>\n",
       "    </tr>\n",
       "    <tr>\n",
       "      <th>1</th>\n",
       "      <td>-5.495324e+06</td>\n",
       "      <td>-2365806.25</td>\n",
       "      <td>528336267088785408</td>\n",
       "    </tr>\n",
       "    <tr>\n",
       "      <th>2</th>\n",
       "      <td>3.451058e+06</td>\n",
       "      <td>6877843.50</td>\n",
       "      <td>528336270981095424</td>\n",
       "    </tr>\n",
       "    <tr>\n",
       "      <th>3</th>\n",
       "      <td>-1.004463e+07</td>\n",
       "      <td>3803047.75</td>\n",
       "      <td>528336271023046656</td>\n",
       "    </tr>\n",
       "    <tr>\n",
       "      <th>4</th>\n",
       "      <td>-1.106605e+04</td>\n",
       "      <td>6709009.50</td>\n",
       "      <td>528336271052398592</td>\n",
       "    </tr>\n",
       "  </tbody>\n",
       "</table>\n",
       "</div>"
      ],
      "text/plain": [
       "              x           y               rowid\n",
       "0 -1.083023e+05  6701961.50  528336267080388608\n",
       "1 -5.495324e+06 -2365806.25  528336267088785408\n",
       "2  3.451058e+06  6877843.50  528336270981095424\n",
       "3 -1.004463e+07  3803047.75  528336271023046656\n",
       "4 -1.106605e+04  6709009.50  528336271052398592"
      ]
     },
     "execution_count": 5,
     "metadata": {},
     "output_type": "execute_result"
    }
   ],
   "source": [
    "df = expr.execute()\n",
    "df.head()"
   ]
  },
  {
   "cell_type": "markdown",
   "metadata": {},
   "source": [
    "This is a lot of data, so let's tell Altair to save it as a temporary JSON file. \n",
    "\n",
    "This way it all won't be stored in the notebook"
   ]
  },
  {
   "cell_type": "code",
   "execution_count": 6,
   "metadata": {},
   "outputs": [
    {
     "data": {
      "application/vnd.vegalite.v2+json": {
       "$schema": "https://vega.github.io/schema/vega-lite/v2.4.1.json",
       "config": {
        "view": {
         "height": 300,
         "width": 400
        }
       },
       "data": {
        "format": {
         "type": "json"
        },
        "url": "altair-data-b3d3f056-1b03-4fca-bc4f-4ce291953f52.json"
       },
       "encoding": {
        "x": {
         "field": "x",
         "scale": {
          "domain": [
           -3650484.1235206556,
           7413325.514451755
          ],
          "range": "width"
         },
         "type": "quantitative"
        },
        "y": {
         "field": "y",
         "scale": {
          "domain": [
           -5778161.9183506705,
           10471808.487466192
          ],
          "range": "height"
         },
         "type": "quantitative"
        }
       },
       "height": 564,
       "mark": {
        "clip": true,
        "color": "green",
        "size": 2,
        "type": "square"
       },
       "width": 384
      },
      "image/png": "[encoded data removed]",
      "text/plain": [
       "<VegaLite 2 object>\n",
       "\n",
       "If you see this message, it means the renderer has not been properly enabled\n",
       "for the frontend that you are using. For more information, see\n",
       "https://altair-viz.github.io/user_guide/troubleshooting.html\n"
      ]
     },
     "execution_count": 6,
     "metadata": {},
     "output_type": "execute_result"
    }
   ],
   "source": [
    "alt.data_transformers.enable('json')\n",
    "alt.Chart(df, width=384, height=564).mark_square(\n",
    "    color='green',\n",
    "    size=2,\n",
    "    clip=True\n",
    ").encode(\n",
    "    alt.X(\n",
    "        'x:Q',\n",
    "        scale=alt.Scale(domain=[-3650484.1235206556, 7413325.514451755], range='width')\n",
    "    ),\n",
    "    alt.Y(\n",
    "        'y:Q',\n",
    "        scale=alt.Scale(domain=[-5778161.9183506705, 10471808.487466192], range='height')\n",
    "    ),\n",
    ")"
   ]
  },
  {
   "cell_type": "markdown",
   "metadata": {},
   "source": [
    "## MapD Rendering\n",
    "\n",
    "That looks OK, but we seem to be missing some data! Well mapd's API has a default max row limit. Instead of increasing this, let's move all the computation to mapd, so that\n",
    "we don't have to send all the data to the client, just the rendered graphic.\n",
    "\n",
    "We enable the mapd renderer with our connection info and then Altair will treat the string we pass in as a Mapd SQL query."
   ]
  },
  {
   "cell_type": "code",
   "execution_count": 7,
   "metadata": {},
   "outputs": [
    {
     "data": {
      "application/vnd.mapd.vega+json": {
       "connection": {
        "dbName": "mapd",
        "host": "metis.mapd.com",
        "password": "HyperInteractive",
        "port": 443,
        "protocol": "https",
        "user": "mapd"
       },
       "vegalite": {
        "$schema": "https://vega.github.io/schema/vega-lite/v2.4.1.json",
        "config": {
         "view": {
          "height": 300,
          "width": 400
         }
        },
        "data": {
         "sql": "SELECT \"goog_x\" AS x, \"goog_y\" AS y, \"tweet_id\" AS rowid\nFROM tweets_nov_feb\nORDER BY \"tweet_id\"\nLIMIT 1000"
        },
        "encoding": {
         "x": {
          "field": "x",
          "scale": {
           "domain": [
            -3650484.1235206556,
            7413325.514451755
           ],
           "range": "width"
          },
          "type": "quantitative"
         },
         "y": {
          "field": "y",
          "scale": {
           "domain": [
            -5778161.9183506705,
            10471808.487466192
           ],
           "range": "height"
          },
          "type": "quantitative"
         }
        },
        "height": 564,
        "mark": {
         "clip": true,
         "color": "green",
         "size": 2,
         "type": "square"
        },
        "width": 384
       }
      },
      "text/plain": [
       "Chart({\n",
       "  data: 'SELECT \"goog_x\" AS x, \"goog_y\" AS y, \"tweet_id\" AS rowid\\nFROM tweets_nov_feb\\nORDER BY \"tweet_id\"\\nLIMIT 1000',\n",
       "  encoding: EncodingWithFacet({\n",
       "    x: X({\n",
       "      scale: Scale({\n",
       "        domain: [-3650484.1235206556, 7413325.514451755],\n",
       "        range: 'width'\n",
       "      }),\n",
       "      shorthand: 'x:Q'\n",
       "    }),\n",
       "    y: Y({\n",
       "      scale: Scale({\n",
       "        domain: [-5778161.9183506705, 10471808.487466192],\n",
       "        range: 'height'\n",
       "      }),\n",
       "      shorthand: 'y:Q'\n",
       "    })\n",
       "  }),\n",
       "  height: 564,\n",
       "  mark: MarkDef({\n",
       "    clip: True,\n",
       "    color: 'green',\n",
       "    size: 2,\n",
       "    type: 'square'\n",
       "  }),\n",
       "  width: 384\n",
       "})"
      ]
     },
     "execution_count": 7,
     "metadata": {},
     "output_type": "execute_result"
    }
   ],
   "source": [
    "alt.renderers.enable('mapd', conn=mapd_cli)\n",
    "alt.Chart(expr.compile(), width=384, height=564).mark_square(\n",
    "    color='green',\n",
    "    size=2,\n",
    "    clip=True\n",
    ").encode(\n",
    "    alt.X(\n",
    "        'x:Q',\n",
    "        scale=alt.Scale(domain=[-3650484.1235206556, 7413325.514451755], range='width')\n",
    "    ),\n",
    "    alt.Y(\n",
    "        'y:Q',\n",
    "        scale=alt.Scale(domain=[-5778161.9183506705, 10471808.487466192], range='height')\n",
    "    ),\n",
    ")"
   ]
  },
  {
   "cell_type": "markdown",
   "metadata": {},
   "source": [
    "You see that we used the exact same Altair code, but we just changed the input. However, it does look a bit different because MapDs vega backend doesn't behave the same as the standard javascript one. "
   ]
  }
 ],
 "metadata": {
  "kernelspec": {
   "display_name": "Python 3",
   "language": "python",
   "name": "python3"
  },
  "language_info": {
   "codemirror_mode": {
    "name": "ipython",
    "version": 3
   },
   "file_extension": ".py",
   "mimetype": "text/x-python",
   "name": "python",
   "nbconvert_exporter": "python",
   "pygments_lexer": "ipython3",
   "version": "3.6.4"
  }
 },
 "nbformat": 4,
 "nbformat_minor": 2
}
