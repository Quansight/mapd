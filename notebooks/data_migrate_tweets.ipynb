{
 "cells": [
  {
   "cell_type": "markdown",
   "metadata": {},
   "source": [
    "# Using Ibis and Altair for MapD\n",
    "\n",
    "In this notebook, we will use Ibis to build MapD query and then use Altair to compose a visualization on top of it.\n",
    "\n",
    "We will be plotting a map of a bunch of tweets.\n",
    "\n",
    "## Assembling the Query\n",
    "First, let's connect to the mapd backend and assemble the query:"
   ]
  },
  {
   "cell_type": "code",
   "execution_count": 1,
   "metadata": {},
   "outputs": [],
   "source": [
    "import mapd_renderer\n",
    "import ibis\n",
    "import altair as alt"
   ]
  },
  {
   "cell_type": "code",
   "execution_count": 2,
   "metadata": {},
   "outputs": [],
   "source": [
    "host = dict(\n",
    "    host='metis.mapd.com', user='mapd', password='HyperInteractive',\n",
    "    port=443, database='mapd', protocol= 'https'\n",
    ")"
   ]
  },
  {
   "cell_type": "code",
   "execution_count": 3,
   "metadata": {},
   "outputs": [],
   "source": [
    "def sample(n=1000):\n",
    "    mapd_cli = ibis.mapd.connect(**host)\n",
    "    t = mapd_cli.table('tweets_nov_feb')\n",
    "    expr = t[t.goog_x, t.goog_y, t.tweet_id]\n",
    "    sample = expr.filter([\n",
    "        expr.goog_x < 7413325.514451755,\n",
    "        expr.goog_x > -3650484.1235206556, \n",
    "        expr.goog_y < 10471808.487466192,\n",
    "        expr.goog_y > -5778161.9183506705, \n",
    "    ])\n",
    "    return mapd_cli, sample, sample.limit(1000).execute()"
   ]
  },
  {
   "cell_type": "code",
   "execution_count": 4,
   "metadata": {},
   "outputs": [],
   "source": [
    "prev, expr, df = sample()"
   ]
  },
  {
   "cell_type": "code",
   "execution_count": 5,
   "metadata": {},
   "outputs": [],
   "source": [
    "new = ibis.mapd.connect(\n",
    "    host='qs-dev.mapd.com', port='9091', \n",
    "    user='mapd', password='HyperInteractive', \n",
    "    database='mapd')"
   ]
  },
  {
   "cell_type": "code",
   "execution_count": 6,
   "metadata": {},
   "outputs": [],
   "source": [
    "if not 'tweet' in new.list_tables():\n",
    "    new.load_data('tweet', df)"
   ]
  }
 ],
 "metadata": {
  "kernelspec": {
   "display_name": "Python 3",
   "language": "python",
   "name": "python3"
  },
  "language_info": {
   "codemirror_mode": {
    "name": "ipython",
    "version": 3
   },
   "file_extension": ".py",
   "mimetype": "text/x-python",
   "name": "python",
   "nbconvert_exporter": "python",
   "pygments_lexer": "ipython3",
   "version": "3.6.3"
  }
 },
 "nbformat": 4,
 "nbformat_minor": 2
}
