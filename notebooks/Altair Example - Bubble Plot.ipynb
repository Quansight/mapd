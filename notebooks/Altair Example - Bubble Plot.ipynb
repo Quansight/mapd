{
 "cells": [
  {
   "cell_type": "markdown",
   "metadata": {},
   "source": [
    "# Bubble Plot\n",
    "\n",
    "Let's see if we can replicate the [Altair Bubble Plot example](https://altair-viz.github.io/gallery/bubble_plot.html) with a MapD backend"
   ]
  },
  {
   "cell_type": "code",
   "execution_count": 1,
   "metadata": {},
   "outputs": [],
   "source": [
    "import mapd_renderer\n",
    "import ibis\n",
    "import altair as alt"
   ]
  },
  {
   "cell_type": "code",
   "execution_count": 3,
   "metadata": {},
   "outputs": [],
   "source": [
    "TABLE_NAME = \"cars\""
   ]
  },
  {
   "cell_type": "code",
   "execution_count": 16,
   "metadata": {},
   "outputs": [],
   "source": [
    "conn = ibis.mapd.connect(host='qs-dev.mapd.com', port='9092', \n",
    "    user='mapd', password='HyperInteractive', \n",
    "    database='mapd', protocol='http')"
   ]
  },
  {
   "cell_type": "code",
   "execution_count": 17,
   "metadata": {},
   "outputs": [
    {
     "data": {
      "text/plain": [
       "DatabaseTable[table]\n",
       "  name: cars\n",
       "  schema:\n",
       "    Acceleration : double\n",
       "    Cylinders : int64\n",
       "    Displacement : double\n",
       "    Horsepower : double\n",
       "    Miles_per_Gallon : double\n",
       "    Name : string\n",
       "    Origin : string\n",
       "    Weight_in_lbs : int64\n",
       "    year_ : timestamp"
      ]
     },
     "execution_count": 17,
     "metadata": {},
     "output_type": "execute_result"
    }
   ],
   "source": [
    "conn.table(TABLE_NAME)"
   ]
  },
  {
   "cell_type": "code",
   "execution_count": 8,
   "metadata": {},
   "outputs": [],
   "source": [
    "t = mapd.table(TABLE_NAME)\n",
    "expr = t[\n",
    "    t.Horsepower,\n",
    "    t.Miles_per_Gallon,\n",
    "    t.Acceleration,\n",
    "    t.Weight_in_lbs.name('rowid')\n",
    "]"
   ]
  },
  {
   "cell_type": "code",
   "execution_count": 156,
   "metadata": {},
   "outputs": [],
   "source": [
    "def chart(source):\n",
    "    return alt.Chart(source).mark_point(fill='black', opacity=0.1).encode(\n",
    "        alt.X(\n",
    "            'Horsepower:Q',\n",
    "            scale=alt.Scale(domain=[0, 240], range='width')\n",
    "        ),\n",
    "        alt.Y(\n",
    "            'Miles_per_Gallon:Q',\n",
    "            scale=alt.Scale(domain=[0, 50], range='height')\n",
    "        ),\n",
    "        alt.Size(\n",
    "            'Acceleration:Q',\n",
    "            scale=alt.Scale(domain=[0, 20])\n",
    "        )\n",
    "    )"
   ]
  },
  {
   "cell_type": "code",
   "execution_count": 157,
   "metadata": {},
   "outputs": [
    {
     "data": {
      "application/vnd.vegalite.v2+json": {
       "$schema": "https://vega.github.io/schema/vega-lite/v2.4.1.json",
       "config": {
        "view": {
         "height": 300,
         "width": 400
        }
       },
       "data": {
        "values": [
         {
          "Acceleration": 16,
          "Horsepower": 105,
          "Miles_per_Gallon": 18,
          "rowid": 3459
         },
         {
          "Acceleration": 17.7,
          "Horsepower": 79,
          "Miles_per_Gallon": 26,
          "rowid": 2255
         },
         {
          "Acceleration": 21,
          "Horsepower": 72,
          "Miles_per_Gallon": 15,
          "rowid": 3432
         },
         {
          "Acceleration": 18.2,
          "Horsepower": 85,
          "Miles_per_Gallon": 19.8,
          "rowid": 2990
         },
         {
          "Acceleration": 12.5,
          "Horsepower": 150,
          "Miles_per_Gallon": 15,
          "rowid": 3777
         },
         {
          "Acceleration": 19.5,
          "Horsepower": 72,
          "Miles_per_Gallon": 15,
          "rowid": 3158
         },
         {
          "Acceleration": 15.3,
          "Horsepower": 83,
          "Miles_per_Gallon": 27,
          "rowid": 2202
         },
         {
          "Acceleration": 17.3,
          "Horsepower": 88,
          "Miles_per_Gallon": 22.3,
          "rowid": 2890
         },
         {
          "Acceleration": 13,
          "Horsepower": 140,
          "Miles_per_Gallon": 17.5,
          "rowid": 4215
         },
         {
          "Acceleration": 14.8,
          "Horsepower": 80,
          "Miles_per_Gallon": 30,
          "rowid": 2155
         },
         {
          "Acceleration": 11.5,
          "Horsepower": 170,
          "Miles_per_Gallon": 16,
          "rowid": 4668
         },
         {
          "Acceleration": 18.2,
          "Horsepower": 90,
          "Miles_per_Gallon": 20.2,
          "rowid": 3265
         },
         {
          "Acceleration": 11.5,
          "Horsepower": 198,
          "Miles_per_Gallon": 12,
          "rowid": 4952
         },
         {
          "Acceleration": 13,
          "Horsepower": 150,
          "Miles_per_Gallon": 16,
          "rowid": 4190
         },
         {
          "Acceleration": 16,
          "Horsepower": 100,
          "Miles_per_Gallon": 20,
          "rowid": 2914
         },
         {
          "Acceleration": 18.5,
          "Horsepower": 78,
          "Miles_per_Gallon": 23,
          "rowid": 2592
         },
         {
          "Acceleration": 16.2,
          "Horsepower": 110,
          "Miles_per_Gallon": 18.5,
          "rowid": 3645
         },
         {
          "Acceleration": 17.8,
          "Horsepower": 95,
          "Miles_per_Gallon": 17.5,
          "rowid": 3193
         },
         {
          "Acceleration": 16.6,
          "Horsepower": 110,
          "Miles_per_Gallon": 20.6,
          "rowid": 3360
         },
         {
          "Acceleration": 18.6,
          "Horsepower": 58,
          "Miles_per_Gallon": 36,
          "rowid": 1825
         },
         {
          "Acceleration": 11,
          "Horsepower": 150,
          "Miles_per_Gallon": 15,
          "rowid": 3399
         },
         {
          "Acceleration": 13.5,
          "Horsepower": 96,
          "Miles_per_Gallon": 24,
          "rowid": 2702
         },
         {
          "Acceleration": 14,
          "Horsepower": 110,
          "Miles_per_Gallon": 24,
          "rowid": 2660
         },
         {
          "Acceleration": 12.2,
          "Horsepower": 71,
          "Miles_per_Gallon": 29.5,
          "rowid": 1825
         },
         {
          "Acceleration": 20.1,
          "Horsepower": 77,
          "Miles_per_Gallon": 25.4,
          "rowid": 3530
         },
         {
          "Acceleration": 13.5,
          "Horsepower": 122,
          "Miles_per_Gallon": 20,
          "rowid": 2807
         },
         {
          "Acceleration": 16.5,
          "Horsepower": 71,
          "Miles_per_Gallon": 25,
          "rowid": 2223
         },
         {
          "Acceleration": 12,
          "Horsepower": 150,
          "Miles_per_Gallon": 13,
          "rowid": 4464
         },
         {
          "Acceleration": 15.5,
          "Horsepower": 96,
          "Miles_per_Gallon": 25.5,
          "rowid": 2300
         },
         {
          "Acceleration": 11,
          "Horsepower": 180,
          "Miles_per_Gallon": 11,
          "rowid": 3664
         },
         {
          "Acceleration": 17,
          "Horsepower": 70,
          "Miles_per_Gallon": 32,
          "rowid": 1990
         },
         {
          "Acceleration": 13,
          "Horsepower": 158,
          "Miles_per_Gallon": 13,
          "rowid": 4363
         },
         {
          "Acceleration": 13.9,
          "Horsepower": 120,
          "Miles_per_Gallon": 15.5,
          "rowid": 3962
         },
         {
          "Acceleration": 14.5,
          "Horsepower": 150,
          "Miles_per_Gallon": 13,
          "rowid": 4699
         },
         {
          "Acceleration": 17.4,
          "Horsepower": 125,
          "Miles_per_Gallon": 23,
          "rowid": 3900
         },
         {
          "Acceleration": 16.8,
          "Horsepower": 70,
          "Miles_per_Gallon": 33.5,
          "rowid": 1945
         },
         {
          "Acceleration": 12.8,
          "Horsepower": 152,
          "Miles_per_Gallon": 14.5,
          "rowid": 4215
         },
         {
          "Acceleration": 14,
          "Horsepower": 145,
          "Miles_per_Gallon": 15,
          "rowid": 4440
         },
         {
          "Acceleration": 14.5,
          "Horsepower": 78,
          "Miles_per_Gallon": 29,
          "rowid": 1940
         },
         {
          "Acceleration": 13.5,
          "Horsepower": 150,
          "Miles_per_Gallon": 14,
          "rowid": 4457
         },
         {
          "Acceleration": 14.5,
          "Horsepower": 150,
          "Miles_per_Gallon": 16,
          "rowid": 4498
         },
         {
          "Acceleration": 13,
          "Horsepower": 170,
          "Miles_per_Gallon": 13,
          "rowid": 4654
         },
         {
          "Acceleration": 16,
          "Horsepower": 140,
          "Miles_per_Gallon": 14,
          "rowid": 4638
         },
         {
          "Acceleration": 15.5,
          "Horsepower": 150,
          "Miles_per_Gallon": 14,
          "rowid": 4257
         },
         {
          "Acceleration": 12.5,
          "Horsepower": 180,
          "Miles_per_Gallon": 12,
          "rowid": 4499
         },
         {
          "Acceleration": 16,
          "Horsepower": 88,
          "Miles_per_Gallon": 24.5,
          "rowid": 2740
         },
         {
          "Acceleration": 18.2,
          "Horsepower": 75,
          "Miles_per_Gallon": 26,
          "rowid": 2265
         },
         {
          "Acceleration": 15.4,
          "Horsepower": 100,
          "Miles_per_Gallon": 22,
          "rowid": 3233
         },
         {
          "Acceleration": 13.5,
          "Horsepower": 148,
          "Miles_per_Gallon": 14,
          "rowid": 4657
         },
         {
          "Acceleration": 15,
          "Horsepower": 100,
          "Miles_per_Gallon": 18,
          "rowid": 2789
         },
         {
          "Acceleration": 24.8,
          "Horsepower": 71,
          "Miles_per_Gallon": 27.2,
          "rowid": 3190
         },
         {
          "Acceleration": 19,
          "Horsepower": 88,
          "Miles_per_Gallon": 20,
          "rowid": 2279
         },
         {
          "Acceleration": 16.5,
          "Horsepower": 95,
          "Miles_per_Gallon": 20,
          "rowid": 3102
         },
         {
          "Acceleration": 15.8,
          "Horsepower": 89,
          "Miles_per_Gallon": 25.5,
          "rowid": 2755
         },
         {
          "Acceleration": 14.5,
          "Horsepower": 105,
          "Miles_per_Gallon": 22,
          "rowid": 3353
         },
         {
          "Acceleration": 17,
          "Horsepower": null,
          "Miles_per_Gallon": 21,
          "rowid": 2875
         },
         {
          "Acceleration": 16.4,
          "Horsepower": 75,
          "Miles_per_Gallon": 28,
          "rowid": 2155
         },
         {
          "Acceleration": 21,
          "Horsepower": 110,
          "Miles_per_Gallon": 17,
          "rowid": 3907
         },
         {
          "Acceleration": 22.2,
          "Horsepower": 90,
          "Miles_per_Gallon": 23.9,
          "rowid": 3420
         },
         {
          "Acceleration": 17,
          "Horsepower": 97,
          "Miles_per_Gallon": 24,
          "rowid": 2545
         },
         {
          "Acceleration": 13.6,
          "Horsepower": 72,
          "Miles_per_Gallon": 26.5,
          "rowid": 2565
         },
         {
          "Acceleration": 15.4,
          "Horsepower": 130,
          "Miles_per_Gallon": 17,
          "rowid": 3840
         },
         {
          "Acceleration": 12.5,
          "Horsepower": 145,
          "Miles_per_Gallon": 17.5,
          "rowid": 3880
         },
         {
          "Acceleration": 19,
          "Horsepower": 110,
          "Miles_per_Gallon": 17,
          "rowid": 4060
         },
         {
          "Acceleration": 16,
          "Horsepower": 100,
          "Miles_per_Gallon": 19,
          "rowid": 2901
         },
         {
          "Acceleration": 14.5,
          "Horsepower": 150,
          "Miles_per_Gallon": 14,
          "rowid": 4237
         },
         {
          "Acceleration": 13.4,
          "Horsepower": 129,
          "Miles_per_Gallon": 17.6,
          "rowid": 3725
         },
         {
          "Acceleration": 15.7,
          "Horsepower": 102,
          "Miles_per_Gallon": 20,
          "rowid": 3150
         },
         {
          "Acceleration": 13.7,
          "Horsepower": 145,
          "Miles_per_Gallon": 15.5,
          "rowid": 4140
         },
         {
          "Acceleration": 11,
          "Horsepower": 215,
          "Miles_per_Gallon": 13,
          "rowid": 4735
         },
         {
          "Acceleration": 11,
          "Horsepower": 225,
          "Miles_per_Gallon": 12,
          "rowid": 4951
         },
         {
          "Acceleration": 11,
          "Horsepower": 175,
          "Miles_per_Gallon": 13,
          "rowid": 3821
         },
         {
          "Acceleration": 13.2,
          "Horsepower": 138,
          "Miles_per_Gallon": 16.5,
          "rowid": 3955
         },
         {
          "Acceleration": 15.2,
          "Horsepower": 135,
          "Miles_per_Gallon": 18.2,
          "rowid": 3830
         },
         {
          "Acceleration": 14.9,
          "Horsepower": 130,
          "Miles_per_Gallon": 15,
          "rowid": 4295
         },
         {
          "Acceleration": 17,
          "Horsepower": 100,
          "Miles_per_Gallon": 15,
          "rowid": 3336
         },
         {
          "Acceleration": 16.5,
          "Horsepower": 83,
          "Miles_per_Gallon": 29,
          "rowid": 2219
         },
         {
          "Acceleration": 15.5,
          "Horsepower": 67,
          "Miles_per_Gallon": 26,
          "rowid": 1963
         },
         {
          "Acceleration": 14.5,
          "Horsepower": 97,
          "Miles_per_Gallon": 18,
          "rowid": 2984
         },
         {
          "Acceleration": 17,
          "Horsepower": 63,
          "Miles_per_Gallon": 30.5,
          "rowid": 2051
         },
         {
          "Acceleration": 14,
          "Horsepower": 70,
          "Miles_per_Gallon": 29,
          "rowid": 1937
         },
         {
          "Acceleration": 19.5,
          "Horsepower": 72,
          "Miles_per_Gallon": 21,
          "rowid": 2401
         },
         {
          "Acceleration": 16.5,
          "Horsepower": 94,
          "Miles_per_Gallon": 22,
          "rowid": 2379
         },
         {
          "Acceleration": 14.5,
          "Horsepower": 78,
          "Miles_per_Gallon": 26,
          "rowid": 2300
         },
         {
          "Acceleration": 15.9,
          "Horsepower": 83,
          "Miles_per_Gallon": 33.5,
          "rowid": 2075
         },
         {
          "Acceleration": 16.5,
          "Horsepower": 52,
          "Miles_per_Gallon": 31,
          "rowid": 1649
         },
         {
          "Acceleration": 13.5,
          "Horsepower": 90,
          "Miles_per_Gallon": 18,
          "rowid": 2124
         },
         {
          "Acceleration": 18.5,
          "Horsepower": 85,
          "Miles_per_Gallon": 19,
          "rowid": 2310
         },
         {
          "Acceleration": 13.2,
          "Horsepower": 150,
          "Miles_per_Gallon": 13,
          "rowid": 3940
         },
         {
          "Acceleration": 16.4,
          "Horsepower": 67,
          "Miles_per_Gallon": 30,
          "rowid": 1985
         },
         {
          "Acceleration": 17.6,
          "Horsepower": 81,
          "Miles_per_Gallon": 24,
          "rowid": 3012
         },
         {
          "Acceleration": 17.6,
          "Horsepower": 90,
          "Miles_per_Gallon": 22.5,
          "rowid": 3085
         },
         {
          "Acceleration": 22.2,
          "Horsepower": 52,
          "Miles_per_Gallon": 29,
          "rowid": 2035
         },
         {
          "Acceleration": 22.1,
          "Horsepower": 60,
          "Miles_per_Gallon": 24.5,
          "rowid": 2164
         },
         {
          "Acceleration": 17,
          "Horsepower": 90,
          "Miles_per_Gallon": 19,
          "rowid": 3211
         },
         {
          "Acceleration": 18.5,
          "Horsepower": 105,
          "Miles_per_Gallon": 16,
          "rowid": 3897
         },
         {
          "Acceleration": 19,
          "Horsepower": 67,
          "Miles_per_Gallon": 31,
          "rowid": 1950
         },
         {
          "Acceleration": 16.5,
          "Horsepower": 105,
          "Miles_per_Gallon": 18,
          "rowid": 3121
         },
         {
          "Acceleration": 19,
          "Horsepower": 110,
          "Miles_per_Gallon": 15,
          "rowid": 3730
         },
         {
          "Acceleration": 16.5,
          "Horsepower": 80,
          "Miles_per_Gallon": 26,
          "rowid": 2451
         },
         {
          "Acceleration": 15,
          "Horsepower": 200,
          "Miles_per_Gallon": 10,
          "rowid": 4376
         },
         {
          "Acceleration": 18,
          "Horsepower": 100,
          "Miles_per_Gallon": 16,
          "rowid": 3278
         },
         {
          "Acceleration": 14.1,
          "Horsepower": 78,
          "Miles_per_Gallon": 30.5,
          "rowid": 2190
         },
         {
          "Acceleration": 21,
          "Horsepower": 65,
          "Miles_per_Gallon": 32,
          "rowid": 1836
         },
         {
          "Acceleration": 17,
          "Horsepower": 75,
          "Miles_per_Gallon": 25,
          "rowid": 2542
         },
         {
          "Acceleration": 21.9,
          "Horsepower": 88,
          "Miles_per_Gallon": 19,
          "rowid": 3270
         },
         {
          "Acceleration": 13.2,
          "Horsepower": 70,
          "Miles_per_Gallon": 34.2,
          "rowid": 2200
         },
         {
          "Acceleration": 19,
          "Horsepower": 95,
          "Miles_per_Gallon": 18,
          "rowid": 3785
         },
         {
          "Acceleration": 13.5,
          "Horsepower": 210,
          "Miles_per_Gallon": 11,
          "rowid": 4382
         },
         {
          "Acceleration": 15.5,
          "Horsepower": 110,
          "Miles_per_Gallon": 19.9,
          "rowid": 3365
         },
         {
          "Acceleration": 15.5,
          "Horsepower": 108,
          "Miles_per_Gallon": 19,
          "rowid": 2930
         },
         {
          "Acceleration": 19,
          "Horsepower": 61,
          "Miles_per_Gallon": 32,
          "rowid": 2003
         },
         {
          "Acceleration": 16.7,
          "Horsepower": 120,
          "Miles_per_Gallon": 16.5,
          "rowid": 3820
         },
         {
          "Acceleration": 18.5,
          "Horsepower": 193,
          "Miles_per_Gallon": 9,
          "rowid": 4732
         },
         {
          "Acceleration": 14.9,
          "Horsepower": 70,
          "Miles_per_Gallon": 34.5,
          "rowid": 2150
         },
         {
          "Acceleration": 16,
          "Horsepower": 100,
          "Miles_per_Gallon": 18,
          "rowid": 2945
         },
         {
          "Acceleration": 13.2,
          "Horsepower": 140,
          "Miles_per_Gallon": 19.4,
          "rowid": 3735
         },
         {
          "Acceleration": 14.5,
          "Horsepower": 88,
          "Miles_per_Gallon": 27,
          "rowid": 2130
         },
         {
          "Acceleration": 12.8,
          "Horsepower": 139,
          "Miles_per_Gallon": 20.2,
          "rowid": 3570
         },
         {
          "Acceleration": 16.4,
          "Horsepower": 110,
          "Miles_per_Gallon": 17.5,
          "rowid": 3520
         },
         {
          "Acceleration": 16.5,
          "Horsepower": 88,
          "Miles_per_Gallon": 18,
          "rowid": 3021
         },
         {
          "Acceleration": 15,
          "Horsepower": 110,
          "Miles_per_Gallon": 21,
          "rowid": 3039
         },
         {
          "Acceleration": 15,
          "Horsepower": 95,
          "Miles_per_Gallon": 23,
          "rowid": 2694
         },
         {
          "Acceleration": 14.5,
          "Horsepower": 75,
          "Miles_per_Gallon": 28,
          "rowid": 2125
         },
         {
          "Acceleration": 15.5,
          "Horsepower": 75,
          "Miles_per_Gallon": 24,
          "rowid": 2108
         },
         {
          "Acceleration": 12.1,
          "Horsepower": 180,
          "Miles_per_Gallon": 16.5,
          "rowid": 4380
         },
         {
          "Acceleration": 19.2,
          "Horsepower": 105,
          "Miles_per_Gallon": 19.2,
          "rowid": 3535
         },
         {
          "Acceleration": 13.7,
          "Horsepower": 140,
          "Miles_per_Gallon": 17.5,
          "rowid": 4080
         },
         {
          "Acceleration": 19.2,
          "Horsepower": 65,
          "Miles_per_Gallon": 31.8,
          "rowid": 2020
         },
         {
          "Acceleration": 14.7,
          "Horsepower": 69,
          "Miles_per_Gallon": 37.3,
          "rowid": 2130
         },
         {
          "Acceleration": 14,
          "Horsepower": 75,
          "Miles_per_Gallon": 26,
          "rowid": 2246
         },
         {
          "Acceleration": 13,
          "Horsepower": 150,
          "Miles_per_Gallon": 14,
          "rowid": 4096
         },
         {
          "Acceleration": 17,
          "Horsepower": 100,
          "Miles_per_Gallon": 16,
          "rowid": 3781
         },
         {
          "Acceleration": 17,
          "Horsepower": 88,
          "Miles_per_Gallon": 23,
          "rowid": 2957
         },
         {
          "Acceleration": 16.9,
          "Horsepower": 105,
          "Miles_per_Gallon": 20.5,
          "rowid": 3425
         },
         {
          "Acceleration": 18,
          "Horsepower": 110,
          "Miles_per_Gallon": 16,
          "rowid": 3632
         },
         {
          "Acceleration": 14.9,
          "Horsepower": 155,
          "Miles_per_Gallon": 16.9,
          "rowid": 4360
         },
         {
          "Acceleration": 16.5,
          "Horsepower": 105,
          "Miles_per_Gallon": 18,
          "rowid": 3613
         },
         {
          "Acceleration": 17.7,
          "Horsepower": 100,
          "Miles_per_Gallon": 19,
          "rowid": 3630
         },
         {
          "Acceleration": 11.5,
          "Horsepower": 180,
          "Miles_per_Gallon": 12,
          "rowid": 4955
         },
         {
          "Acceleration": 14,
          "Horsepower": 107,
          "Miles_per_Gallon": 21,
          "rowid": 2472
         },
         {
          "Acceleration": 14.5,
          "Horsepower": 98,
          "Miles_per_Gallon": 22,
          "rowid": 2945
         },
         {
          "Acceleration": 15.5,
          "Horsepower": 90,
          "Miles_per_Gallon": 26,
          "rowid": 2265
         },
         {
          "Acceleration": 13.5,
          "Horsepower": 115,
          "Miles_per_Gallon": 25,
          "rowid": 2671
         },
         {
          "Acceleration": 16.5,
          "Horsepower": 68,
          "Miles_per_Gallon": 30,
          "rowid": 2155
         },
         {
          "Acceleration": 14,
          "Horsepower": 140,
          "Miles_per_Gallon": 16,
          "rowid": 4141
         },
         {
          "Acceleration": 14.2,
          "Horsepower": 70,
          "Miles_per_Gallon": 29,
          "rowid": 1937
         },
         {
          "Acceleration": 17.4,
          "Horsepower": 53,
          "Miles_per_Gallon": 33,
          "rowid": 1795
         },
         {
          "Acceleration": 13,
          "Horsepower": 145,
          "Miles_per_Gallon": 15,
          "rowid": 4082
         },
         {
          "Acceleration": 15,
          "Horsepower": 97,
          "Miles_per_Gallon": 24,
          "rowid": 2489
         },
         {
          "Acceleration": 9.5,
          "Horsepower": 230,
          "Miles_per_Gallon": 16,
          "rowid": 4278
         },
         {
          "Acceleration": 17.7,
          "Horsepower": 100,
          "Miles_per_Gallon": 20,
          "rowid": 3651
         },
         {
          "Acceleration": 21,
          "Horsepower": 78,
          "Miles_per_Gallon": 18,
          "rowid": 3574
         },
         {
          "Acceleration": 19,
          "Horsepower": 98,
          "Miles_per_Gallon": 18.5,
          "rowid": 3525
         },
         {
          "Acceleration": 12,
          "Horsepower": 145,
          "Miles_per_Gallon": 13,
          "rowid": 4055
         },
         {
          "Acceleration": 14.3,
          "Horsepower": 142,
          "Miles_per_Gallon": 15.5,
          "rowid": 4054
         },
         {
          "Acceleration": 15,
          "Horsepower": 130,
          "Miles_per_Gallon": 13,
          "rowid": 3870
         },
         {
          "Acceleration": 13.5,
          "Horsepower": 110,
          "Miles_per_Gallon": 20,
          "rowid": 3221
         },
         {
          "Acceleration": 12,
          "Horsepower": 129,
          "Miles_per_Gallon": 13,
          "rowid": 3169
         },
         {
          "Acceleration": 15.5,
          "Horsepower": 93,
          "Miles_per_Gallon": 26,
          "rowid": 2391
         },
         {
          "Acceleration": 15,
          "Horsepower": 125,
          "Miles_per_Gallon": 19.2,
          "rowid": 3605
         },
         {
          "Acceleration": 16,
          "Horsepower": 75,
          "Miles_per_Gallon": 29,
          "rowid": 2171
         },
         {
          "Acceleration": 14.5,
          "Horsepower": 97,
          "Miles_per_Gallon": 22,
          "rowid": 2815
         },
         {
          "Acceleration": 14,
          "Horsepower": 150,
          "Miles_per_Gallon": 13,
          "rowid": 3755
         },
         {
          "Acceleration": 16,
          "Horsepower": 95,
          "Miles_per_Gallon": 23,
          "rowid": 2904
         },
         {
          "Acceleration": 13,
          "Horsepower": 150,
          "Miles_per_Gallon": 18.5,
          "rowid": 3940
         },
         {
          "Acceleration": 18.5,
          "Horsepower": 68,
          "Miles_per_Gallon": 31.5,
          "rowid": 2045
         },
         {
          "Acceleration": 21,
          "Horsepower": 46,
          "Miles_per_Gallon": 26,
          "rowid": 1950
         },
         {
          "Acceleration": 14.2,
          "Horsepower": 95,
          "Miles_per_Gallon": 27.5,
          "rowid": 2560
         },
         {
          "Acceleration": 14,
          "Horsepower": 150,
          "Miles_per_Gallon": 11,
          "rowid": 4997
         },
         {
          "Acceleration": 17,
          "Horsepower": 83,
          "Miles_per_Gallon": 23,
          "rowid": 2639
         },
         {
          "Acceleration": 16,
          "Horsepower": 67,
          "Miles_per_Gallon": 31,
          "rowid": 2000
         },
         {
          "Acceleration": 12.5,
          "Horsepower": 167,
          "Miles_per_Gallon": 12,
          "rowid": 4906
         },
         {
          "Acceleration": 12.8,
          "Horsepower": 110,
          "Miles_per_Gallon": 21.5,
          "rowid": 2600
         },
         {
          "Acceleration": 12,
          "Horsepower": 170,
          "Miles_per_Gallon": 13,
          "rowid": 4746
         },
         {
          "Acceleration": 17.5,
          "Horsepower": 53,
          "Miles_per_Gallon": 33,
          "rowid": 1795
         },
         {
          "Acceleration": 12,
          "Horsepower": 175,
          "Miles_per_Gallon": 13,
          "rowid": 5140
         },
         {
          "Acceleration": 16,
          "Horsepower": 95,
          "Miles_per_Gallon": 19,
          "rowid": 3264
         },
         {
          "Acceleration": 13.5,
          "Horsepower": 110,
          "Miles_per_Gallon": 21.5,
          "rowid": 2720
         },
         {
          "Acceleration": 21.5,
          "Horsepower": 48,
          "Miles_per_Gallon": 43.1,
          "rowid": 1985
         },
         {
          "Acceleration": 19.5,
          "Horsepower": 49,
          "Miles_per_Gallon": 29,
          "rowid": 1867
         },
         {
          "Acceleration": 15.5,
          "Horsepower": 86,
          "Miles_per_Gallon": 28,
          "rowid": 2464
         },
         {
          "Acceleration": 16,
          "Horsepower": 90,
          "Miles_per_Gallon": 28.4,
          "rowid": 2670
         },
         {
          "Acceleration": 15.5,
          "Horsepower": 90,
          "Miles_per_Gallon": 28,
          "rowid": 2264
         },
         {
          "Acceleration": 11.3,
          "Horsepower": 115,
          "Miles_per_Gallon": 28.8,
          "rowid": 2595
         },
         {
          "Acceleration": 11.1,
          "Horsepower": 180,
          "Miles_per_Gallon": 16,
          "rowid": 4220
         },
         {
          "Acceleration": 15.5,
          "Horsepower": 75,
          "Miles_per_Gallon": 24,
          "rowid": 2158
         },
         {
          "Acceleration": 16.9,
          "Horsepower": 81,
          "Miles_per_Gallon": 25,
          "rowid": 2220
         },
         {
          "Acceleration": 12.9,
          "Horsepower": 115,
          "Miles_per_Gallon": 26.8,
          "rowid": 2700
         },
         {
          "Acceleration": 12,
          "Horsepower": 130,
          "Miles_per_Gallon": 18,
          "rowid": 3504
         },
         {
          "Acceleration": 11.4,
          "Horsepower": 170,
          "Miles_per_Gallon": 15.5,
          "rowid": 4165
         },
         {
          "Acceleration": 14.7,
          "Horsepower": 97,
          "Miles_per_Gallon": 27.2,
          "rowid": 2300
         },
         {
          "Acceleration": 18.2,
          "Horsepower": 95,
          "Miles_per_Gallon": 20.5,
          "rowid": 3155
         },
         {
          "Acceleration": 14,
          "Horsepower": 91,
          "Miles_per_Gallon": 20,
          "rowid": 2582
         },
         {
          "Acceleration": 14,
          "Horsepower": 95,
          "Miles_per_Gallon": 25,
          "rowid": 2228
         },
         {
          "Acceleration": 12.2,
          "Horsepower": 190,
          "Miles_per_Gallon": 15.5,
          "rowid": 4325
         },
         {
          "Acceleration": 15.8,
          "Horsepower": 85,
          "Miles_per_Gallon": 20.2,
          "rowid": 2965
         },
         {
          "Acceleration": 13.2,
          "Horsepower": 90,
          "Miles_per_Gallon": 33.5,
          "rowid": 2556
         },
         {
          "Acceleration": 14.9,
          "Horsepower": 92,
          "Miles_per_Gallon": 25,
          "rowid": 2572
         },
         {
          "Acceleration": 19,
          "Horsepower": null,
          "Miles_per_Gallon": 25,
          "rowid": 2046
         },
         {
          "Acceleration": 15.4,
          "Horsepower": 88,
          "Miles_per_Gallon": 25.1,
          "rowid": 2720
         },
         {
          "Acceleration": 15.5,
          "Horsepower": 112,
          "Miles_per_Gallon": 19,
          "rowid": 2868
         },
         {
          "Acceleration": 14.5,
          "Horsepower": 149,
          "Miles_per_Gallon": 16,
          "rowid": 4335
         },
         {
          "Acceleration": 14.4,
          "Horsepower": 66,
          "Miles_per_Gallon": 36.1,
          "rowid": 1800
         },
         {
          "Acceleration": 20,
          "Horsepower": 48,
          "Miles_per_Gallon": null,
          "rowid": null
         },
         {
          "Acceleration": 11.5,
          "Horsepower": 165,
          "Miles_per_Gallon": 15,
          "rowid": 3693
         },
         {
          "Acceleration": 14,
          "Horsepower": 71,
          "Miles_per_Gallon": 31.9,
          "rowid": 1925
         },
         {
          "Acceleration": 17.2,
          "Horsepower": 100,
          "Miles_per_Gallon": 20.5,
          "rowid": 3430
         },
         {
          "Acceleration": 15.5,
          "Horsepower": 95,
          "Miles_per_Gallon": 24,
          "rowid": 2278
         },
         {
          "Acceleration": 14.5,
          "Horsepower": 75,
          "Miles_per_Gallon": 30.9,
          "rowid": 2230
         },
         {
          "Acceleration": 19.4,
          "Horsepower": 52,
          "Miles_per_Gallon": 32.8,
          "rowid": 1985
         },
         {
          "Acceleration": 18.6,
          "Horsepower": 70,
          "Miles_per_Gallon": 39.4,
          "rowid": 2070
         },
         {
          "Acceleration": 15.2,
          "Horsepower": 65,
          "Miles_per_Gallon": 34.1,
          "rowid": 1975
         },
         {
          "Acceleration": 11,
          "Horsepower": 150,
          "Miles_per_Gallon": 18,
          "rowid": 3436
         },
         {
          "Acceleration": 14.8,
          "Horsepower": 95,
          "Miles_per_Gallon": 21.1,
          "rowid": 2515
         },
         {
          "Acceleration": 16.7,
          "Horsepower": 105,
          "Miles_per_Gallon": 23.2,
          "rowid": 2745
         },
         {
          "Acceleration": 16.4,
          "Horsepower": 60,
          "Miles_per_Gallon": 36.1,
          "rowid": 1800
         },
         {
          "Acceleration": 12,
          "Horsepower": 150,
          "Miles_per_Gallon": 16,
          "rowid": 3433
         },
         {
          "Acceleration": 14.4,
          "Horsepower": 80,
          "Miles_per_Gallon": 35.7,
          "rowid": 1915
         },
         {
          "Acceleration": 13.5,
          "Horsepower": 110,
          "Miles_per_Gallon": 18,
          "rowid": 2962
         },
         {
          "Acceleration": 8,
          "Horsepower": 160,
          "Miles_per_Gallon": 14,
          "rowid": 3609
         },
         {
          "Acceleration": 17,
          "Horsepower": 80,
          "Miles_per_Gallon": 25,
          "rowid": 2126
         },
         {
          "Acceleration": 23.5,
          "Horsepower": 54,
          "Miles_per_Gallon": 23,
          "rowid": 2254
         },
         {
          "Acceleration": 19.5,
          "Horsepower": 90,
          "Miles_per_Gallon": 20,
          "rowid": 2408
         },
         {
          "Acceleration": 8,
          "Horsepower": 140,
          "Miles_per_Gallon": null,
          "rowid": null
         },
         {
          "Acceleration": 17.6,
          "Horsepower": 85,
          "Miles_per_Gallon": 23.8,
          "rowid": 2855
         },
         {
          "Acceleration": 17.2,
          "Horsepower": 90,
          "Miles_per_Gallon": 19.4,
          "rowid": 3210
         },
         {
          "Acceleration": 15.8,
          "Horsepower": 105,
          "Miles_per_Gallon": 20.6,
          "rowid": 3380
         },
         {
          "Acceleration": 15,
          "Horsepower": 80,
          "Miles_per_Gallon": 27.4,
          "rowid": 2670
         },
         {
          "Acceleration": 16.1,
          "Horsepower": 60,
          "Miles_per_Gallon": 35.1,
          "rowid": 1760
         },
         {
          "Acceleration": 14.7,
          "Horsepower": 76,
          "Miles_per_Gallon": 41.5,
          "rowid": 2144
         },
         {
          "Acceleration": 19,
          "Horsepower": 72,
          "Miles_per_Gallon": 22,
          "rowid": 2408
         },
         {
          "Acceleration": 15,
          "Horsepower": 100,
          "Miles_per_Gallon": 19,
          "rowid": 3282
         },
         {
          "Acceleration": 9.5,
          "Horsepower": 150,
          "Miles_per_Gallon": 15,
          "rowid": 3761
         },
         {
          "Acceleration": 18.8,
          "Horsepower": 60,
          "Miles_per_Gallon": 38.1,
          "rowid": 1968
         },
         {
          "Acceleration": 14,
          "Horsepower": 130,
          "Miles_per_Gallon": 13,
          "rowid": 4098
         },
         {
          "Acceleration": 16,
          "Horsepower": 140,
          "Miles_per_Gallon": 13,
          "rowid": 4294
         },
         {
          "Acceleration": 15.5,
          "Horsepower": 70,
          "Miles_per_Gallon": 32.1,
          "rowid": 2120
         },
         {
          "Acceleration": 14,
          "Horsepower": 150,
          "Miles_per_Gallon": 14,
          "rowid": 4077
         },
         {
          "Acceleration": 14.5,
          "Horsepower": 112,
          "Miles_per_Gallon": 18,
          "rowid": 2933
         },
         {
          "Acceleration": 17.8,
          "Horsepower": 67,
          "Miles_per_Gallon": 32.3,
          "rowid": 2065
         },
         {
          "Acceleration": 19.4,
          "Horsepower": 65,
          "Miles_per_Gallon": 37,
          "rowid": 1975
         },
         {
          "Acceleration": 16.4,
          "Horsepower": 65,
          "Miles_per_Gallon": 37.2,
          "rowid": 2019
         },
         {
          "Acceleration": 16.5,
          "Horsepower": 86,
          "Miles_per_Gallon": 21,
          "rowid": 2226
         },
         {
          "Acceleration": 10,
          "Horsepower": 225,
          "Miles_per_Gallon": 14,
          "rowid": 3086
         },
         {
          "Acceleration": 12,
          "Horsepower": 165,
          "Miles_per_Gallon": 13,
          "rowid": 4274
         },
         {
          "Acceleration": 10.5,
          "Horsepower": 140,
          "Miles_per_Gallon": 17,
          "rowid": 3449
         },
         {
          "Acceleration": 16.7,
          "Horsepower": 85,
          "Miles_per_Gallon": 20.8,
          "rowid": 3070
         },
         {
          "Acceleration": 18.7,
          "Horsepower": 110,
          "Miles_per_Gallon": 18.6,
          "rowid": 3620
         },
         {
          "Acceleration": 14.5,
          "Horsepower": 88,
          "Miles_per_Gallon": 18,
          "rowid": 3139
         },
         {
          "Acceleration": 17.3,
          "Horsepower": 62,
          "Miles_per_Gallon": 37.7,
          "rowid": 2050
         },
         {
          "Acceleration": 10,
          "Horsepower": 198,
          "Miles_per_Gallon": 15,
          "rowid": 4341
         },
         {
          "Acceleration": 13,
          "Horsepower": 100,
          "Miles_per_Gallon": 19,
          "rowid": 2634
         },
         {
          "Acceleration": 19.6,
          "Horsepower": 76,
          "Miles_per_Gallon": 30.7,
          "rowid": 3160
         },
         {
          "Acceleration": 9,
          "Horsepower": 220,
          "Miles_per_Gallon": 14,
          "rowid": 4354
         },
         {
          "Acceleration": 8.5,
          "Horsepower": 215,
          "Miles_per_Gallon": 14,
          "rowid": 4312
         },
         {
          "Acceleration": 14.9,
          "Horsepower": 97,
          "Miles_per_Gallon": 23.9,
          "rowid": 2405
         },
         {
          "Acceleration": 12.6,
          "Horsepower": 116,
          "Miles_per_Gallon": 25.4,
          "rowid": 2900
         },
         {
          "Acceleration": 15.5,
          "Horsepower": 105,
          "Miles_per_Gallon": 16,
          "rowid": 3439
         },
         {
          "Acceleration": 15.5,
          "Horsepower": 100,
          "Miles_per_Gallon": 17,
          "rowid": 3329
         },
         {
          "Acceleration": 12,
          "Horsepower": 175,
          "Miles_per_Gallon": 14,
          "rowid": 4385
         },
         {
          "Acceleration": 15.9,
          "Horsepower": 103,
          "Miles_per_Gallon": 20.3,
          "rowid": 2830
         },
         {
          "Acceleration": 13.6,
          "Horsepower": 125,
          "Miles_per_Gallon": 17,
          "rowid": 3140
         },
         {
          "Acceleration": 13.8,
          "Horsepower": 120,
          "Miles_per_Gallon": 24.2,
          "rowid": 2930
         },
         {
          "Acceleration": 13.5,
          "Horsepower": 150,
          "Miles_per_Gallon": 15,
          "rowid": 4135
         },
         {
          "Acceleration": 15.8,
          "Horsepower": 110,
          "Miles_per_Gallon": 22.4,
          "rowid": 3415
         },
         {
          "Acceleration": 16,
          "Horsepower": 68,
          "Miles_per_Gallon": 34.1,
          "rowid": 1985
         },
         {
          "Acceleration": 18,
          "Horsepower": 76,
          "Miles_per_Gallon": 22,
          "rowid": 2511
         },
         {
          "Acceleration": 15.5,
          "Horsepower": 88,
          "Miles_per_Gallon": 19,
          "rowid": 3302
         },
         {
          "Acceleration": 14.9,
          "Horsepower": 63,
          "Miles_per_Gallon": 34.7,
          "rowid": 2215
         },
         {
          "Acceleration": 14,
          "Horsepower": 86,
          "Miles_per_Gallon": 23,
          "rowid": 2220
         },
         {
          "Acceleration": 15.7,
          "Horsepower": 115,
          "Miles_per_Gallon": 21.6,
          "rowid": 2795
         },
         {
          "Acceleration": 15.1,
          "Horsepower": 120,
          "Miles_per_Gallon": 18.1,
          "rowid": 3410
         },
         {
          "Acceleration": 16.2,
          "Horsepower": 65,
          "Miles_per_Gallon": 34.4,
          "rowid": 2045
         },
         {
          "Acceleration": 15,
          "Horsepower": 95,
          "Miles_per_Gallon": 24,
          "rowid": 2372
         },
         {
          "Acceleration": 19.5,
          "Horsepower": 87,
          "Miles_per_Gallon": 21,
          "rowid": 2979
         },
         {
          "Acceleration": 18,
          "Horsepower": 69,
          "Miles_per_Gallon": 26,
          "rowid": 2189
         },
         {
          "Acceleration": 20.7,
          "Horsepower": 65,
          "Miles_per_Gallon": 29.9,
          "rowid": 2380
         },
         {
          "Acceleration": 13.2,
          "Horsepower": 145,
          "Miles_per_Gallon": 19.2,
          "rowid": 3425
         },
         {
          "Acceleration": 13.4,
          "Horsepower": 165,
          "Miles_per_Gallon": 17.7,
          "rowid": 3445
         },
         {
          "Acceleration": 16,
          "Horsepower": 86,
          "Miles_per_Gallon": 22,
          "rowid": 2395
         },
         {
          "Acceleration": 13,
          "Horsepower": 153,
          "Miles_per_Gallon": 14,
          "rowid": 4129
         },
         {
          "Acceleration": 19,
          "Horsepower": 105,
          "Miles_per_Gallon": 26.6,
          "rowid": 3725
         },
         {
          "Acceleration": 15.5,
          "Horsepower": 95,
          "Miles_per_Gallon": 22,
          "rowid": 2833
         },
         {
          "Acceleration": 15.5,
          "Horsepower": 97,
          "Miles_per_Gallon": 18,
          "rowid": 2774
         },
         {
          "Acceleration": 17.1,
          "Horsepower": 88,
          "Miles_per_Gallon": 20.2,
          "rowid": 3060
         },
         {
          "Acceleration": 11.5,
          "Horsepower": 150,
          "Miles_per_Gallon": 17,
          "rowid": 3672
         },
         {
          "Acceleration": 16.6,
          "Horsepower": 85,
          "Miles_per_Gallon": 17.6,
          "rowid": 3465
         },
         {
          "Acceleration": 11,
          "Horsepower": 208,
          "Miles_per_Gallon": 11,
          "rowid": 4633
         },
         {
          "Acceleration": 14,
          "Horsepower": 90,
          "Miles_per_Gallon": 28,
          "rowid": 2123
         },
         {
          "Acceleration": 19.5,
          "Horsepower": 70,
          "Miles_per_Gallon": 30,
          "rowid": 2074
         },
         {
          "Acceleration": 19.6,
          "Horsepower": 88,
          "Miles_per_Gallon": 28,
          "rowid": 2605
         },
         {
          "Acceleration": 16,
          "Horsepower": 85,
          "Miles_per_Gallon": 21,
          "rowid": 2587
         },
         {
          "Acceleration": 10,
          "Horsepower": 225,
          "Miles_per_Gallon": 14,
          "rowid": 4425
         },
         {
          "Acceleration": 16.5,
          "Horsepower": 90,
          "Miles_per_Gallon": 28,
          "rowid": 2678
         },
         {
          "Acceleration": 11.2,
          "Horsepower": 139,
          "Miles_per_Gallon": 18.1,
          "rowid": 3205
         },
         {
          "Acceleration": 14.2,
          "Horsepower": 74,
          "Miles_per_Gallon": 33,
          "rowid": 2190
         },
         {
          "Acceleration": 14.5,
          "Horsepower": 76,
          "Miles_per_Gallon": 30,
          "rowid": 2065
         },
         {
          "Acceleration": 13.5,
          "Horsepower": 155,
          "Miles_per_Gallon": 13,
          "rowid": 4502
         },
         {
          "Acceleration": 17,
          "Horsepower": 92,
          "Miles_per_Gallon": 28,
          "rowid": 2288
         },
         {
          "Acceleration": 18.1,
          "Horsepower": 88,
          "Miles_per_Gallon": 26.4,
          "rowid": 2870
         },
         {
          "Acceleration": 15.8,
          "Horsepower": 133,
          "Miles_per_Gallon": 16.2,
          "rowid": 3410
         },
         {
          "Acceleration": 20.1,
          "Horsepower": 90,
          "Miles_per_Gallon": 24.3,
          "rowid": 3003
         },
         {
          "Acceleration": 14.9,
          "Horsepower": 71,
          "Miles_per_Gallon": 31.5,
          "rowid": 1990
         },
         {
          "Acceleration": 15.8,
          "Horsepower": null,
          "Miles_per_Gallon": 34.5,
          "rowid": 2320
         },
         {
          "Acceleration": 8.5,
          "Horsepower": 190,
          "Miles_per_Gallon": 15,
          "rowid": 3850
         },
         {
          "Acceleration": 14.5,
          "Horsepower": 97,
          "Miles_per_Gallon": 23,
          "rowid": 2506
         },
         {
          "Acceleration": 14.4,
          "Horsepower": 75,
          "Miles_per_Gallon": 33.7,
          "rowid": 2210
         },
         {
          "Acceleration": 15,
          "Horsepower": 80,
          "Miles_per_Gallon": 28,
          "rowid": 2164
         },
         {
          "Acceleration": 15.5,
          "Horsepower": 100,
          "Miles_per_Gallon": 18,
          "rowid": 3288
         },
         {
          "Acceleration": 18.7,
          "Horsepower": 90,
          "Miles_per_Gallon": 19.1,
          "rowid": 3381
         },
         {
          "Acceleration": 13.8,
          "Horsepower": 67,
          "Miles_per_Gallon": 44.6,
          "rowid": 1850
         },
         {
          "Acceleration": 16.8,
          "Horsepower": 75,
          "Miles_per_Gallon": 32.4,
          "rowid": 2350
         },
         {
          "Acceleration": 16.5,
          "Horsepower": 88,
          "Miles_per_Gallon": 27,
          "rowid": 2100
         },
         {
          "Acceleration": 18.6,
          "Horsepower": 88,
          "Miles_per_Gallon": 27,
          "rowid": 2640
         },
         {
          "Acceleration": 12,
          "Horsepower": 165,
          "Miles_per_Gallon": 14,
          "rowid": 4209
         },
         {
          "Acceleration": 17.3,
          "Horsepower": null,
          "Miles_per_Gallon": 40.9,
          "rowid": 1835
         },
         {
          "Acceleration": 11.5,
          "Horsepower": 175,
          "Miles_per_Gallon": 14,
          "rowid": 4464
         },
         {
          "Acceleration": 18,
          "Horsepower": 67,
          "Miles_per_Gallon": 33.8,
          "rowid": 2145
         },
         {
          "Acceleration": 16.6,
          "Horsepower": 68,
          "Miles_per_Gallon": 29.5,
          "rowid": 2135
         },
         {
          "Acceleration": 15.4,
          "Horsepower": 115,
          "Miles_per_Gallon": 21.5,
          "rowid": 3245
         },
         {
          "Acceleration": 13.5,
          "Horsepower": 160,
          "Miles_per_Gallon": 12,
          "rowid": 4456
         },
         {
          "Acceleration": 17.5,
          "Horsepower": 115,
          "Miles_per_Gallon": null,
          "rowid": null
         },
         {
          "Acceleration": 12.5,
          "Horsepower": 190,
          "Miles_per_Gallon": 13,
          "rowid": 4422
         },
         {
          "Acceleration": 11.5,
          "Horsepower": 165,
          "Miles_per_Gallon": null,
          "rowid": null
         },
         {
          "Acceleration": 15.3,
          "Horsepower": 62,
          "Miles_per_Gallon": 29.8,
          "rowid": 1845
         },
         {
          "Acceleration": 13.5,
          "Horsepower": 153,
          "Miles_per_Gallon": 14,
          "rowid": 4154
         },
         {
          "Acceleration": 19,
          "Horsepower": 65,
          "Miles_per_Gallon": 31,
          "rowid": 1773
         },
         {
          "Acceleration": 15.8,
          "Horsepower": 78,
          "Miles_per_Gallon": 34.3,
          "rowid": 2188
         },
         {
          "Acceleration": 13.5,
          "Horsepower": 97,
          "Miles_per_Gallon": 19,
          "rowid": 2330
         },
         {
          "Acceleration": 14.5,
          "Horsepower": 88,
          "Miles_per_Gallon": 27,
          "rowid": 2130
         },
         {
          "Acceleration": 20.5,
          "Horsepower": 46,
          "Miles_per_Gallon": 26,
          "rowid": 1835
         },
         {
          "Acceleration": 15.5,
          "Horsepower": 90,
          "Miles_per_Gallon": 29.8,
          "rowid": 2711
         },
         {
          "Acceleration": 18,
          "Horsepower": 88,
          "Miles_per_Gallon": 34,
          "rowid": 2395
         },
         {
          "Acceleration": 18,
          "Horsepower": 69,
          "Miles_per_Gallon": 35,
          "rowid": 1613
         },
         {
          "Acceleration": 16.2,
          "Horsepower": 85,
          "Miles_per_Gallon": 31,
          "rowid": 2575
         },
         {
          "Acceleration": 17.5,
          "Horsepower": 87,
          "Miles_per_Gallon": 25,
          "rowid": 2672
         },
         {
          "Acceleration": 17.5,
          "Horsepower": 75,
          "Miles_per_Gallon": 31.3,
          "rowid": 2542
         },
         {
          "Acceleration": 12.5,
          "Horsepower": 150,
          "Miles_per_Gallon": 15,
          "rowid": 3892
         },
         {
          "Acceleration": 16,
          "Horsepower": 84,
          "Miles_per_Gallon": 29,
          "rowid": 2525
         },
         {
          "Acceleration": 14.5,
          "Horsepower": 90,
          "Miles_per_Gallon": 24,
          "rowid": 2430
         },
         {
          "Acceleration": 19,
          "Horsepower": 60,
          "Miles_per_Gallon": 27,
          "rowid": 1834
         },
         {
          "Acceleration": 20.5,
          "Horsepower": 70,
          "Miles_per_Gallon": 26,
          "rowid": 1955
         },
         {
          "Acceleration": 14.8,
          "Horsepower": 100,
          "Miles_per_Gallon": 32.9,
          "rowid": 2615
         },
         {
          "Acceleration": 15,
          "Horsepower": 92,
          "Miles_per_Gallon": 37,
          "rowid": 2434
         },
         {
          "Acceleration": 11.4,
          "Horsepower": 132,
          "Miles_per_Gallon": 32.7,
          "rowid": 2910
         },
         {
          "Acceleration": 11,
          "Horsepower": 153,
          "Miles_per_Gallon": null,
          "rowid": null
         },
         {
          "Acceleration": 13,
          "Horsepower": 175,
          "Miles_per_Gallon": 13,
          "rowid": 4100
         },
         {
          "Acceleration": 10.5,
          "Horsepower": 175,
          "Miles_per_Gallon": null,
          "rowid": null
         },
         {
          "Acceleration": 11.5,
          "Horsepower": 150,
          "Miles_per_Gallon": 14,
          "rowid": 3672
         },
         {
          "Acceleration": 12.5,
          "Horsepower": 100,
          "Miles_per_Gallon": 23.7,
          "rowid": 2420
         },
         {
          "Acceleration": 15.1,
          "Horsepower": 88,
          "Miles_per_Gallon": 35,
          "rowid": 2500
         },
         {
          "Acceleration": 11,
          "Horsepower": 175,
          "Miles_per_Gallon": null,
          "rowid": null
         },
         {
          "Acceleration": 13,
          "Horsepower": 145,
          "Miles_per_Gallon": 13,
          "rowid": 3988
         },
         {
          "Acceleration": 10,
          "Horsepower": 170,
          "Miles_per_Gallon": 15,
          "rowid": 3563
         },
         {
          "Acceleration": 14.5,
          "Horsepower": 137,
          "Miles_per_Gallon": 14,
          "rowid": 4042
         },
         {
          "Acceleration": 17.5,
          "Horsepower": 95,
          "Miles_per_Gallon": 25,
          "rowid": 2375
         },
         {
          "Acceleration": 14.3,
          "Horsepower": null,
          "Miles_per_Gallon": 23.6,
          "rowid": 2905
         },
         {
          "Acceleration": 15.2,
          "Horsepower": 75,
          "Miles_per_Gallon": 32.2,
          "rowid": 2265
         },
         {
          "Acceleration": 12.5,
          "Horsepower": 113,
          "Miles_per_Gallon": 26,
          "rowid": 2234
         },
         {
          "Acceleration": 15,
          "Horsepower": 90,
          "Miles_per_Gallon": 21,
          "rowid": 2648
         },
         {
          "Acceleration": 17.9,
          "Horsepower": 65,
          "Miles_per_Gallon": 46.6,
          "rowid": 2110
         },
         {
          "Acceleration": 14,
          "Horsepower": 215,
          "Miles_per_Gallon": 10,
          "rowid": 4615
         },
         {
          "Acceleration": 18.3,
          "Horsepower": 74,
          "Miles_per_Gallon": 31.6,
          "rowid": 2635
         },
         {
          "Acceleration": 14.4,
          "Horsepower": 105,
          "Miles_per_Gallon": 27.9,
          "rowid": 2800
         },
         {
          "Acceleration": 19.2,
          "Horsepower": 65,
          "Miles_per_Gallon": 40.8,
          "rowid": 2110
         },
         {
          "Acceleration": 20.4,
          "Horsepower": 80,
          "Miles_per_Gallon": 28.1,
          "rowid": 3230
         },
         {
          "Acceleration": 18.2,
          "Horsepower": 68,
          "Miles_per_Gallon": 37,
          "rowid": 2025
         },
         {
          "Acceleration": 17,
          "Horsepower": 72,
          "Miles_per_Gallon": 32.4,
          "rowid": 2290
         },
         {
          "Acceleration": 15.7,
          "Horsepower": 84,
          "Miles_per_Gallon": 27.2,
          "rowid": 2490
         },
         {
          "Acceleration": 17.6,
          "Horsepower": 68,
          "Miles_per_Gallon": 31,
          "rowid": 1970
         },
         {
          "Acceleration": 15.4,
          "Horsepower": 110,
          "Miles_per_Gallon": null,
          "rowid": null
         },
         {
          "Acceleration": 18,
          "Horsepower": 90,
          "Miles_per_Gallon": 27,
          "rowid": 2735
         },
         {
          "Acceleration": 16.4,
          "Horsepower": 84,
          "Miles_per_Gallon": 26.6,
          "rowid": 2635
         },
         {
          "Acceleration": 14.4,
          "Horsepower": 92,
          "Miles_per_Gallon": 25.8,
          "rowid": 2620
         },
         {
          "Acceleration": 16.4,
          "Horsepower": 92,
          "Miles_per_Gallon": 24,
          "rowid": 2865
         },
         {
          "Acceleration": 20.5,
          "Horsepower": null,
          "Miles_per_Gallon": 23,
          "rowid": 3035
         },
         {
          "Acceleration": 14.7,
          "Horsepower": 63,
          "Miles_per_Gallon": 38,
          "rowid": 2125
         },
         {
          "Acceleration": 21.7,
          "Horsepower": 48,
          "Miles_per_Gallon": 44.3,
          "rowid": 2085
         },
         {
          "Acceleration": 23.7,
          "Horsepower": 48,
          "Miles_per_Gallon": 43.4,
          "rowid": 2335
         },
         {
          "Acceleration": 17.3,
          "Horsepower": 70,
          "Miles_per_Gallon": 36,
          "rowid": 2125
         },
         {
          "Acceleration": 17.3,
          "Horsepower": 90,
          "Miles_per_Gallon": 27,
          "rowid": 2950
         },
         {
          "Acceleration": 19.9,
          "Horsepower": 67,
          "Miles_per_Gallon": 36.4,
          "rowid": 2950
         },
         {
          "Acceleration": 21.8,
          "Horsepower": 67,
          "Miles_per_Gallon": 30,
          "rowid": 3250
         },
         {
          "Acceleration": 15.3,
          "Horsepower": 74,
          "Miles_per_Gallon": 36,
          "rowid": 1980
         },
         {
          "Acceleration": 15.6,
          "Horsepower": 86,
          "Miles_per_Gallon": 27,
          "rowid": 2790
         },
         {
          "Acceleration": 24.6,
          "Horsepower": 52,
          "Miles_per_Gallon": 44,
          "rowid": 2130
         },
         {
          "Acceleration": 12.6,
          "Horsepower": 110,
          "Miles_per_Gallon": 23.5,
          "rowid": 2725
         },
         {
          "Acceleration": 11.6,
          "Horsepower": 84,
          "Miles_per_Gallon": 32,
          "rowid": 2295
         },
         {
          "Acceleration": 14.5,
          "Horsepower": 88,
          "Miles_per_Gallon": 36,
          "rowid": 2160
         },
         {
          "Acceleration": 12.9,
          "Horsepower": 84,
          "Miles_per_Gallon": 30,
          "rowid": 2385
         },
         {
          "Acceleration": 16.9,
          "Horsepower": 58,
          "Miles_per_Gallon": 39.1,
          "rowid": 1755
         },
         {
          "Acceleration": 16.4,
          "Horsepower": 64,
          "Miles_per_Gallon": 39,
          "rowid": 1875
         },
         {
          "Acceleration": 14.5,
          "Horsepower": 75,
          "Miles_per_Gallon": 36,
          "rowid": 2205
         },
         {
          "Acceleration": 16.9,
          "Horsepower": 70,
          "Miles_per_Gallon": 34,
          "rowid": 2245
         },
         {
          "Acceleration": 15,
          "Horsepower": 67,
          "Miles_per_Gallon": 38,
          "rowid": 1965
         },
         {
          "Acceleration": 18.6,
          "Horsepower": 79,
          "Miles_per_Gallon": 28,
          "rowid": 2625
         },
         {
          "Acceleration": 19.4,
          "Horsepower": 82,
          "Miles_per_Gallon": 31,
          "rowid": 2720
         },
         {
          "Acceleration": 15.7,
          "Horsepower": 67,
          "Miles_per_Gallon": 32,
          "rowid": 1965
         },
         {
          "Acceleration": 16.2,
          "Horsepower": 67,
          "Miles_per_Gallon": 38,
          "rowid": 1995
         },
         {
          "Acceleration": 16.4,
          "Horsepower": 110,
          "Miles_per_Gallon": 25,
          "rowid": 2945
         },
         {
          "Acceleration": 17,
          "Horsepower": 85,
          "Miles_per_Gallon": 38,
          "rowid": 3015
         },
         {
          "Acceleration": 14.5,
          "Horsepower": 92,
          "Miles_per_Gallon": 26,
          "rowid": 2585
         },
         {
          "Acceleration": 14.7,
          "Horsepower": 112,
          "Miles_per_Gallon": 22,
          "rowid": 2835
         },
         {
          "Acceleration": 13.9,
          "Horsepower": 96,
          "Miles_per_Gallon": 32,
          "rowid": 2665
         },
         {
          "Acceleration": 13,
          "Horsepower": 84,
          "Miles_per_Gallon": 36,
          "rowid": 2370
         }
        ]
       },
       "encoding": {
        "size": {
         "field": "Acceleration",
         "scale": {
          "domain": [
           0,
           20
          ]
         },
         "type": "quantitative"
        },
        "x": {
         "field": "Horsepower",
         "scale": {
          "domain": [
           0,
           240
          ],
          "range": "width"
         },
         "type": "quantitative"
        },
        "y": {
         "field": "Miles_per_Gallon",
         "scale": {
          "domain": [
           0,
           50
          ],
          "range": "height"
         },
         "type": "quantitative"
        }
       },
       "mark": {
        "fill": "black",
        "opacity": 0.1,
        "type": "point"
       }
      },
      "image/png": "[encoded data removed]",
      "text/plain": [
       "<VegaLite 2 object>\n",
       "\n",
       "If you see this message, it means the renderer has not been properly enabled\n",
       "for the frontend that you are using. For more information, see\n",
       "https://altair-viz.github.io/user_guide/troubleshooting.html\n"
      ]
     },
     "execution_count": 157,
     "metadata": {},
     "output_type": "execute_result"
    }
   ],
   "source": [
    "alt.renderers.enable('default')\n",
    "chart(expr.execute())"
   ]
  },
  {
   "cell_type": "code",
   "execution_count": 158,
   "metadata": {},
   "outputs": [
    {
     "data": {
      "application/vnd.mapd.vega+json": {
       "connection": {
        "dbName": "mapd",
        "host": "qs-dev.mapd.com",
        "password": "HyperInteractive",
        "port": "9092",
        "protocol": "http",
        "user": "mapd"
       },
       "vegalite": {
        "$schema": "https://vega.github.io/schema/vega-lite/v2.4.1.json",
        "config": {
         "view": {
          "height": 300,
          "width": 400
         }
        },
        "data": {
         "name": "mapd_data"
        },
        "encoding": {
         "size": {
          "field": "Acceleration",
          "scale": {
           "domain": [
            0,
            20
           ]
          },
          "type": "quantitative"
         },
         "x": {
          "field": "Horsepower",
          "scale": {
           "domain": [
            0,
            240
           ],
           "range": "width"
          },
          "type": "quantitative"
         },
         "y": {
          "field": "Miles_per_Gallon",
          "scale": {
           "domain": [
            0,
            50
           ],
           "range": "height"
          },
          "type": "quantitative"
         }
        },
        "mark": {
         "fill": "black",
         "opacity": 0.1,
         "type": "point"
        }
       }
      },
      "image/png": "[encoded data removed]",
      "text/plain": [
       "Chart({\n",
       "  data: 'SELECT \"Horsepower\", \"Miles_per_Gallon\", \"Acceleration\",\\n       \"Weight_in_lbs\" AS rowid\\nFROM cars',\n",
       "  encoding: EncodingWithFacet({\n",
       "    size: Size({\n",
       "      scale: Scale({\n",
       "        domain: [0, 20]\n",
       "      }),\n",
       "      shorthand: 'Acceleration:Q'\n",
       "    }),\n",
       "    x: X({\n",
       "      scale: Scale({\n",
       "        domain: [0, 240],\n",
       "        range: 'width'\n",
       "      }),\n",
       "      shorthand: 'Horsepower:Q'\n",
       "    }),\n",
       "    y: Y({\n",
       "      scale: Scale({\n",
       "        domain: [0, 50],\n",
       "        range: 'height'\n",
       "      }),\n",
       "      shorthand: 'Miles_per_Gallon:Q'\n",
       "    })\n",
       "  }),\n",
       "  mark: MarkDef({\n",
       "    fill: 'black',\n",
       "    opacity: 0.1,\n",
       "    type: 'point'\n",
       "  })\n",
       "})"
      ]
     },
     "execution_count": 158,
     "metadata": {},
     "output_type": "execute_result"
    }
   ],
   "source": [
    "alt.renderers.enable('mapd', conn=conn)\n",
    "chart(expr.compile())"
   ]
  }
 ],
 "metadata": {
  "kernelspec": {
   "display_name": "Python 3",
   "language": "python",
   "name": "python3"
  },
  "language_info": {
   "codemirror_mode": {
    "name": "ipython",
    "version": 3
   },
   "file_extension": ".py",
   "mimetype": "text/x-python",
   "name": "python",
   "nbconvert_exporter": "python",
   "pygments_lexer": "ipython3",
   "version": "3.6.5"
  }
 },
 "nbformat": 4,
 "nbformat_minor": 2
}
