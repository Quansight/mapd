{
 "cells": [
  {
   "cell_type": "markdown",
   "metadata": {},
   "source": [
    "# Bubble Plot\n",
    "\n",
    "Let's see if we can replicate the [Altair Bubble Plot example](https://altair-viz.github.io/gallery/bubble_plot.html) with a MapD backend"
   ]
  },
  {
   "cell_type": "code",
   "execution_count": 1,
   "metadata": {},
   "outputs": [],
   "source": [
    "import mapd_renderer\n",
    "import ibis\n",
    "import altair as alt"
   ]
  },
  {
   "cell_type": "code",
   "execution_count": 2,
   "metadata": {},
   "outputs": [],
   "source": [
    "TABLE_NAME = \"cars\""
   ]
  },
  {
   "cell_type": "code",
   "execution_count": 3,
   "metadata": {},
   "outputs": [],
   "source": [
    "conn = ibis.mapd.connect(host='qs-dev.mapd.com', port='9092', \n",
    "    user='mapd', password='HyperInteractive', \n",
    "    database='mapd', protocol='http')"
   ]
  },
  {
   "cell_type": "code",
   "execution_count": 4,
   "metadata": {},
   "outputs": [
    {
     "data": {
      "text/plain": [
       "DatabaseTable[table]\n",
       "  name: cars\n",
       "  schema:\n",
       "    Acceleration : double\n",
       "    Cylinders : int64\n",
       "    Displacement : double\n",
       "    Horsepower : double\n",
       "    Miles_per_Gallon : double\n",
       "    Name : string\n",
       "    Origin : string\n",
       "    Weight_in_lbs : int64\n",
       "    year_ : timestamp"
      ]
     },
     "execution_count": 4,
     "metadata": {},
     "output_type": "execute_result"
    }
   ],
   "source": [
    "conn.table(TABLE_NAME)"
   ]
  },
  {
   "cell_type": "code",
   "execution_count": 6,
   "metadata": {},
   "outputs": [],
   "source": [
    "t = conn.table(TABLE_NAME)\n",
    "expr = t[\n",
    "    t.Horsepower,\n",
    "    t.Miles_per_Gallon,\n",
    "    t.Acceleration,\n",
    "    ibis.row_id()\n",
    "]"
   ]
  },
  {
   "cell_type": "code",
   "execution_count": 7,
   "metadata": {},
   "outputs": [],
   "source": [
    "def chart(source):\n",
    "    return alt.Chart(source).mark_point(fill='black', opacity=0.1).encode(\n",
    "        alt.X(\n",
    "            'Horsepower:Q',\n",
    "            scale=alt.Scale(domain=[0, 240], range='width')\n",
    "        ),\n",
    "        alt.Y(\n",
    "            'Miles_per_Gallon:Q',\n",
    "            scale=alt.Scale(domain=[0, 50], range='height')\n",
    "        ),\n",
    "        alt.Size(\n",
    "            'Acceleration:Q',\n",
    "            scale=alt.Scale(domain=[0, 20])\n",
    "        )\n",
    "    )"
   ]
  },
  {
   "cell_type": "code",
   "execution_count": 8,
   "metadata": {},
   "outputs": [
    {
     "data": {
      "application/vnd.vegalite.v2+json": {
       "$schema": "https://vega.github.io/schema/vega-lite/v2.4.1.json",
       "config": {
        "view": {
         "height": 300,
         "width": 400
        }
       },
       "data": {
        "values": [
         {
          "Acceleration": 14.8,
          "Horsepower": 80,
          "Miles_per_Gallon": 30,
          "rowid": 224
         },
         {
          "Acceleration": 15,
          "Horsepower": 200,
          "Miles_per_Gallon": 10,
          "rowid": 32
         },
         {
          "Acceleration": 16.1,
          "Horsepower": 60,
          "Miles_per_Gallon": 35.1,
          "rowid": 352
         },
         {
          "Acceleration": 13.5,
          "Horsepower": 210,
          "Miles_per_Gallon": 11,
          "rowid": 33
         },
         {
          "Acceleration": 15.5,
          "Horsepower": 110,
          "Miles_per_Gallon": 19.9,
          "rowid": 256
         },
         {
          "Acceleration": 12,
          "Horsepower": 130,
          "Miles_per_Gallon": 18,
          "rowid": 0
         },
         {
          "Acceleration": 17.8,
          "Horsepower": 67,
          "Miles_per_Gallon": 32.3,
          "rowid": 353
         },
         {
          "Acceleration": 18.5,
          "Horsepower": 193,
          "Miles_per_Gallon": 9,
          "rowid": 34
         },
         {
          "Acceleration": 13.2,
          "Horsepower": 140,
          "Miles_per_Gallon": 19.4,
          "rowid": 257
         },
         {
          "Acceleration": 12.5,
          "Horsepower": 150,
          "Miles_per_Gallon": 15,
          "rowid": 96
         },
         {
          "Acceleration": 18.6,
          "Horsepower": 58,
          "Miles_per_Gallon": 36,
          "rowid": 225
         },
         {
          "Acceleration": 11.5,
          "Horsepower": 165,
          "Miles_per_Gallon": 15,
          "rowid": 1
         },
         {
          "Acceleration": 15.5,
          "Horsepower": 96,
          "Miles_per_Gallon": 25.5,
          "rowid": 226
         },
         {
          "Acceleration": 12.8,
          "Horsepower": 139,
          "Miles_per_Gallon": 20.2,
          "rowid": 258
         },
         {
          "Acceleration": 19.4,
          "Horsepower": 65,
          "Miles_per_Gallon": 37,
          "rowid": 354
         },
         {
          "Acceleration": 11.5,
          "Horsepower": 198,
          "Miles_per_Gallon": 12,
          "rowid": 97
         },
         {
          "Acceleration": 12,
          "Horsepower": 150,
          "Miles_per_Gallon": 13,
          "rowid": 98
         },
         {
          "Acceleration": 19.2,
          "Horsepower": 105,
          "Miles_per_Gallon": 19.2,
          "rowid": 259
         },
         {
          "Acceleration": 11,
          "Horsepower": 150,
          "Miles_per_Gallon": 18,
          "rowid": 2
         },
         {
          "Acceleration": 12,
          "Horsepower": 150,
          "Miles_per_Gallon": 16,
          "rowid": 3
         },
         {
          "Acceleration": 17.3,
          "Horsepower": 62,
          "Miles_per_Gallon": 37.7,
          "rowid": 355
         },
         {
          "Acceleration": 14.5,
          "Horsepower": 88,
          "Miles_per_Gallon": 27,
          "rowid": 35
         },
         {
          "Acceleration": 18.2,
          "Horsepower": 68,
          "Miles_per_Gallon": 37,
          "rowid": 384
         },
         {
          "Acceleration": 16.8,
          "Horsepower": 70,
          "Miles_per_Gallon": 33.5,
          "rowid": 227
         },
         {
          "Acceleration": 13,
          "Horsepower": 150,
          "Miles_per_Gallon": 14,
          "rowid": 48
         },
         {
          "Acceleration": 8,
          "Horsepower": 160,
          "Miles_per_Gallon": 14,
          "rowid": 16
         },
         {
          "Acceleration": 19.6,
          "Horsepower": 76,
          "Miles_per_Gallon": 30.7,
          "rowid": 368
         },
         {
          "Acceleration": 13.7,
          "Horsepower": 140,
          "Miles_per_Gallon": 17.5,
          "rowid": 272
         },
         {
          "Acceleration": 12.6,
          "Horsepower": 116,
          "Miles_per_Gallon": 25.4,
          "rowid": 369
         },
         {
          "Acceleration": 13,
          "Horsepower": 158,
          "Miles_per_Gallon": 13,
          "rowid": 99
         },
         {
          "Acceleration": 8,
          "Horsepower": 140,
          "Miles_per_Gallon": null,
          "rowid": 17
         },
         {
          "Acceleration": 11.5,
          "Horsepower": 180,
          "Miles_per_Gallon": 12,
          "rowid": 49
         },
         {
          "Acceleration": 9.5,
          "Horsepower": 150,
          "Miles_per_Gallon": 15,
          "rowid": 18
         },
         {
          "Acceleration": 12,
          "Horsepower": 170,
          "Miles_per_Gallon": 13,
          "rowid": 50
         },
         {
          "Acceleration": 16.5,
          "Horsepower": 68,
          "Miles_per_Gallon": 30,
          "rowid": 273
         },
         {
          "Acceleration": 17.6,
          "Horsepower": 68,
          "Miles_per_Gallon": 31,
          "rowid": 385
         },
         {
          "Acceleration": 16,
          "Horsepower": 105,
          "Miles_per_Gallon": 18,
          "rowid": 160
         },
         {
          "Acceleration": 13,
          "Horsepower": 170,
          "Miles_per_Gallon": 13,
          "rowid": 112
         },
         {
          "Acceleration": 13.8,
          "Horsepower": 120,
          "Miles_per_Gallon": 24.2,
          "rowid": 370
         },
         {
          "Acceleration": 12,
          "Horsepower": 175,
          "Miles_per_Gallon": 13,
          "rowid": 51
         },
         {
          "Acceleration": 14.5,
          "Horsepower": 78,
          "Miles_per_Gallon": 29,
          "rowid": 240
         },
         {
          "Acceleration": 15.8,
          "Horsepower": 110,
          "Miles_per_Gallon": 22.4,
          "rowid": 371
         },
         {
          "Acceleration": 15.5,
          "Horsepower": 90,
          "Miles_per_Gallon": 28,
          "rowid": 36
         },
         {
          "Acceleration": 14.2,
          "Horsepower": 95,
          "Miles_per_Gallon": 27.5,
          "rowid": 274
         },
         {
          "Acceleration": 16,
          "Horsepower": 88,
          "Miles_per_Gallon": 24.5,
          "rowid": 241
         },
         {
          "Acceleration": 14.7,
          "Horsepower": 97,
          "Miles_per_Gallon": 27.2,
          "rowid": 275
         },
         {
          "Acceleration": 14.7,
          "Horsepower": 63,
          "Miles_per_Gallon": 38,
          "rowid": 386
         },
         {
          "Acceleration": 14,
          "Horsepower": 95,
          "Miles_per_Gallon": 25,
          "rowid": 37
         },
         {
          "Acceleration": 21,
          "Horsepower": 72,
          "Miles_per_Gallon": 15,
          "rowid": 161
         },
         {
          "Acceleration": 17.3,
          "Horsepower": 70,
          "Miles_per_Gallon": 36,
          "rowid": 387
         },
         {
          "Acceleration": 10,
          "Horsepower": 225,
          "Miles_per_Gallon": 14,
          "rowid": 19
         },
         {
          "Acceleration": 18.2,
          "Horsepower": 75,
          "Miles_per_Gallon": 26,
          "rowid": 242
         },
         {
          "Acceleration": 19.5,
          "Horsepower": 72,
          "Miles_per_Gallon": 15,
          "rowid": 162
         },
         {
          "Acceleration": 15.5,
          "Horsepower": 95,
          "Miles_per_Gallon": 24,
          "rowid": 64
         },
         {
          "Acceleration": 15.8,
          "Horsepower": 89,
          "Miles_per_Gallon": 25.5,
          "rowid": 243
         },
         {
          "Acceleration": 16,
          "Horsepower": 68,
          "Miles_per_Gallon": 34.1,
          "rowid": 356
         },
         {
          "Acceleration": 10.5,
          "Horsepower": 140,
          "Miles_per_Gallon": 17,
          "rowid": 4
         },
         {
          "Acceleration": 18.2,
          "Horsepower": 95,
          "Miles_per_Gallon": 20.5,
          "rowid": 260
         },
         {
          "Acceleration": 11.5,
          "Horsepower": 170,
          "Miles_per_Gallon": 16,
          "rowid": 163
         },
         {
          "Acceleration": 10,
          "Horsepower": 198,
          "Miles_per_Gallon": 15,
          "rowid": 5
         },
         {
          "Acceleration": 19,
          "Horsepower": null,
          "Miles_per_Gallon": 25,
          "rowid": 38
         },
         {
          "Acceleration": 18.2,
          "Horsepower": 85,
          "Miles_per_Gallon": 19.8,
          "rowid": 288
         },
         {
          "Acceleration": 12.5,
          "Horsepower": 145,
          "Miles_per_Gallon": 17.5,
          "rowid": 228
         },
         {
          "Acceleration": 17.3,
          "Horsepower": 88,
          "Miles_per_Gallon": 22.3,
          "rowid": 289
         },
         {
          "Acceleration": 15.8,
          "Horsepower": 85,
          "Miles_per_Gallon": 20.2,
          "rowid": 261
         },
         {
          "Acceleration": 19,
          "Horsepower": 110,
          "Miles_per_Gallon": 17,
          "rowid": 229
         },
         {
          "Acceleration": 12.5,
          "Horsepower": 180,
          "Miles_per_Gallon": 12,
          "rowid": 113
         },
         {
          "Acceleration": 9,
          "Horsepower": 220,
          "Miles_per_Gallon": 14,
          "rowid": 6
         },
         {
          "Acceleration": 20,
          "Horsepower": 48,
          "Miles_per_Gallon": null,
          "rowid": 39
         },
         {
          "Acceleration": 17.3,
          "Horsepower": 90,
          "Miles_per_Gallon": 27,
          "rowid": 400
         },
         {
          "Acceleration": 13.7,
          "Horsepower": 145,
          "Miles_per_Gallon": 15.5,
          "rowid": 230
         },
         {
          "Acceleration": 15,
          "Horsepower": 100,
          "Miles_per_Gallon": 18,
          "rowid": 114
         },
         {
          "Acceleration": 8.5,
          "Horsepower": 215,
          "Miles_per_Gallon": 14,
          "rowid": 7
         },
         {
          "Acceleration": 17,
          "Horsepower": 80,
          "Miles_per_Gallon": 25,
          "rowid": 65
         },
         {
          "Acceleration": 17.7,
          "Horsepower": 79,
          "Miles_per_Gallon": 26,
          "rowid": 192
         },
         {
          "Acceleration": 15,
          "Horsepower": 95,
          "Miles_per_Gallon": 24,
          "rowid": 20
         },
         {
          "Acceleration": 13.5,
          "Horsepower": 110,
          "Miles_per_Gallon": 18,
          "rowid": 52
         },
         {
          "Acceleration": 14.9,
          "Horsepower": 130,
          "Miles_per_Gallon": 15,
          "rowid": 231
         },
         {
          "Acceleration": 15.3,
          "Horsepower": 83,
          "Miles_per_Gallon": 27,
          "rowid": 193
         },
         {
          "Acceleration": 15.4,
          "Horsepower": 88,
          "Miles_per_Gallon": 25.1,
          "rowid": 262
         },
         {
          "Acceleration": 16,
          "Horsepower": 100,
          "Miles_per_Gallon": 20,
          "rowid": 176
         },
         {
          "Acceleration": 17.2,
          "Horsepower": 100,
          "Miles_per_Gallon": 20.5,
          "rowid": 263
         },
         {
          "Acceleration": 19,
          "Horsepower": 88,
          "Miles_per_Gallon": 20,
          "rowid": 115
         },
         {
          "Acceleration": 14.9,
          "Horsepower": 63,
          "Miles_per_Gallon": 34.7,
          "rowid": 357
         },
         {
          "Acceleration": 14.5,
          "Horsepower": 75,
          "Miles_per_Gallon": 30.9,
          "rowid": 276
         },
         {
          "Acceleration": 19,
          "Horsepower": 72,
          "Miles_per_Gallon": 22,
          "rowid": 53
         },
         {
          "Acceleration": 18.5,
          "Horsepower": 78,
          "Miles_per_Gallon": 23,
          "rowid": 177
         },
         {
          "Acceleration": 16.2,
          "Horsepower": 65,
          "Miles_per_Gallon": 34.4,
          "rowid": 358
         },
         {
          "Acceleration": 14.8,
          "Horsepower": 95,
          "Miles_per_Gallon": 21.1,
          "rowid": 277
         },
         {
          "Acceleration": 15,
          "Horsepower": 100,
          "Miles_per_Gallon": 19,
          "rowid": 54
         },
         {
          "Acceleration": 15.6,
          "Horsepower": 86,
          "Miles_per_Gallon": 27,
          "rowid": 401
         },
         {
          "Acceleration": 17,
          "Horsepower": 63,
          "Miles_per_Gallon": 30.5,
          "rowid": 244
         },
         {
          "Acceleration": 14.5,
          "Horsepower": 150,
          "Miles_per_Gallon": 14,
          "rowid": 100
         },
         {
          "Acceleration": 11,
          "Horsepower": 215,
          "Miles_per_Gallon": 13,
          "rowid": 101
         },
         {
          "Acceleration": 16.7,
          "Horsepower": 105,
          "Miles_per_Gallon": 23.2,
          "rowid": 278
         },
         {
          "Acceleration": 14.5,
          "Horsepower": 88,
          "Miles_per_Gallon": 18,
          "rowid": 55
         },
         {
          "Acceleration": 20.7,
          "Horsepower": 65,
          "Miles_per_Gallon": 29.9,
          "rowid": 359
         },
         {
          "Acceleration": 15.5,
          "Horsepower": 95,
          "Miles_per_Gallon": 22,
          "rowid": 21
         },
         {
          "Acceleration": 13.5,
          "Horsepower": 96,
          "Miles_per_Gallon": 24,
          "rowid": 178
         },
         {
          "Acceleration": 24.6,
          "Horsepower": 52,
          "Miles_per_Gallon": 44,
          "rowid": 402
         },
         {
          "Acceleration": 15.9,
          "Horsepower": 83,
          "Miles_per_Gallon": 33.5,
          "rowid": 245
         },
         {
          "Acceleration": 16.4,
          "Horsepower": 67,
          "Miles_per_Gallon": 30,
          "rowid": 246
         },
         {
          "Acceleration": 18.2,
          "Horsepower": 90,
          "Miles_per_Gallon": 20.2,
          "rowid": 290
         },
         {
          "Acceleration": 23.5,
          "Horsepower": 54,
          "Miles_per_Gallon": 23,
          "rowid": 66
         },
         {
          "Acceleration": 15.5,
          "Horsepower": 97,
          "Miles_per_Gallon": 18,
          "rowid": 22
         },
         {
          "Acceleration": 17.6,
          "Horsepower": 85,
          "Miles_per_Gallon": 23.8,
          "rowid": 279
         },
         {
          "Acceleration": 13,
          "Horsepower": 100,
          "Miles_per_Gallon": 19,
          "rowid": 40
         },
         {
          "Acceleration": 19.5,
          "Horsepower": 90,
          "Miles_per_Gallon": 20,
          "rowid": 67
         },
         {
          "Acceleration": 11,
          "Horsepower": 225,
          "Miles_per_Gallon": 12,
          "rowid": 102
         },
         {
          "Acceleration": 17.2,
          "Horsepower": 90,
          "Miles_per_Gallon": 19.4,
          "rowid": 264
         },
         {
          "Acceleration": 16,
          "Horsepower": 85,
          "Miles_per_Gallon": 21,
          "rowid": 23
         },
         {
          "Acceleration": 11.6,
          "Horsepower": 84,
          "Miles_per_Gallon": 32,
          "rowid": 403
         },
         {
          "Acceleration": 14.5,
          "Horsepower": 88,
          "Miles_per_Gallon": 36,
          "rowid": 388
         },
         {
          "Acceleration": 14,
          "Horsepower": 130,
          "Miles_per_Gallon": 13,
          "rowid": 80
         },
         {
          "Acceleration": 16.6,
          "Horsepower": 110,
          "Miles_per_Gallon": 20.6,
          "rowid": 291
         },
         {
          "Acceleration": 14.1,
          "Horsepower": 78,
          "Miles_per_Gallon": 30.5,
          "rowid": 247
         },
         {
          "Acceleration": 15.5,
          "Horsepower": 105,
          "Miles_per_Gallon": 16,
          "rowid": 41
         },
         {
          "Acceleration": 16,
          "Horsepower": 140,
          "Miles_per_Gallon": 13,
          "rowid": 81
         },
         {
          "Acceleration": 11,
          "Horsepower": 175,
          "Miles_per_Gallon": 13,
          "rowid": 103
         },
         {
          "Acceleration": 15.8,
          "Horsepower": 105,
          "Miles_per_Gallon": 20.6,
          "rowid": 265
         },
         {
          "Acceleration": 13,
          "Horsepower": 140,
          "Miles_per_Gallon": 17.5,
          "rowid": 194
         },
         {
          "Acceleration": 11,
          "Horsepower": 150,
          "Miles_per_Gallon": 15,
          "rowid": 128
         },
         {
          "Acceleration": 20.1,
          "Horsepower": 77,
          "Miles_per_Gallon": 25.4,
          "rowid": 304
         },
         {
          "Acceleration": 19,
          "Horsepower": 105,
          "Miles_per_Gallon": 26.6,
          "rowid": 372
         },
         {
          "Acceleration": 16.7,
          "Horsepower": 85,
          "Miles_per_Gallon": 20.8,
          "rowid": 266
         },
         {
          "Acceleration": 10,
          "Horsepower": 225,
          "Miles_per_Gallon": 14,
          "rowid": 8
         },
         {
          "Acceleration": 17.1,
          "Horsepower": 88,
          "Miles_per_Gallon": 20.2,
          "rowid": 373
         },
         {
          "Acceleration": 8.5,
          "Horsepower": 190,
          "Miles_per_Gallon": 15,
          "rowid": 9
         },
         {
          "Acceleration": 15.5,
          "Horsepower": 100,
          "Miles_per_Gallon": 17,
          "rowid": 42
         },
         {
          "Acceleration": 16.4,
          "Horsepower": 110,
          "Miles_per_Gallon": 17.5,
          "rowid": 232
         },
         {
          "Acceleration": 14.5,
          "Horsepower": 75,
          "Miles_per_Gallon": 36,
          "rowid": 389
         },
         {
          "Acceleration": 17.4,
          "Horsepower": 125,
          "Miles_per_Gallon": 23,
          "rowid": 305
         },
         {
          "Acceleration": 19.5,
          "Horsepower": 72,
          "Miles_per_Gallon": 21,
          "rowid": 116
         },
         {
          "Acceleration": 16.6,
          "Horsepower": 85,
          "Miles_per_Gallon": 17.6,
          "rowid": 374
         },
         {
          "Acceleration": 15.5,
          "Horsepower": 88,
          "Miles_per_Gallon": 19,
          "rowid": 43
         },
         {
          "Acceleration": 16.9,
          "Horsepower": 105,
          "Miles_per_Gallon": 20.5,
          "rowid": 233
         },
         {
          "Acceleration": 24.8,
          "Horsepower": 71,
          "Miles_per_Gallon": 27.2,
          "rowid": 306
         },
         {
          "Acceleration": 13,
          "Horsepower": 150,
          "Miles_per_Gallon": 16,
          "rowid": 195
         },
         {
          "Acceleration": 14,
          "Horsepower": 110,
          "Miles_per_Gallon": 24,
          "rowid": 129
         },
         {
          "Acceleration": 22.2,
          "Horsepower": 90,
          "Miles_per_Gallon": 23.9,
          "rowid": 307
         },
         {
          "Acceleration": 18.7,
          "Horsepower": 110,
          "Miles_per_Gallon": 18.6,
          "rowid": 267
         },
         {
          "Acceleration": 16.2,
          "Horsepower": 110,
          "Miles_per_Gallon": 18.5,
          "rowid": 208
         },
         {
          "Acceleration": 17.5,
          "Horsepower": 115,
          "Miles_per_Gallon": null,
          "rowid": 10
         },
         {
          "Acceleration": 15.4,
          "Horsepower": 130,
          "Miles_per_Gallon": 17,
          "rowid": 292
         },
         {
          "Acceleration": 14,
          "Horsepower": 86,
          "Miles_per_Gallon": 23,
          "rowid": 56
         },
         {
          "Acceleration": 16.5,
          "Horsepower": 71,
          "Miles_per_Gallon": 25,
          "rowid": 179
         },
         {
          "Acceleration": 19.6,
          "Horsepower": 88,
          "Miles_per_Gallon": 28,
          "rowid": 375
         },
         {
          "Acceleration": 16.9,
          "Horsepower": 70,
          "Miles_per_Gallon": 34,
          "rowid": 390
         },
         {
          "Acceleration": 14,
          "Horsepower": 150,
          "Miles_per_Gallon": 14,
          "rowid": 82
         },
         {
          "Acceleration": 14,
          "Horsepower": 90,
          "Miles_per_Gallon": 28,
          "rowid": 57
         },
         {
          "Acceleration": 17.7,
          "Horsepower": 100,
          "Miles_per_Gallon": 19,
          "rowid": 234
         },
         {
          "Acceleration": 13.5,
          "Horsepower": 122,
          "Miles_per_Gallon": 20,
          "rowid": 130
         },
         {
          "Acceleration": 16.5,
          "Horsepower": 94,
          "Miles_per_Gallon": 22,
          "rowid": 117
         },
         {
          "Acceleration": 19,
          "Horsepower": 98,
          "Miles_per_Gallon": 18.5,
          "rowid": 235
         },
         {
          "Acceleration": 17.8,
          "Horsepower": 95,
          "Miles_per_Gallon": 17.5,
          "rowid": 209
         },
         {
          "Acceleration": 14.5,
          "Horsepower": 112,
          "Miles_per_Gallon": 18,
          "rowid": 83
         },
         {
          "Acceleration": 11.5,
          "Horsepower": 165,
          "Miles_per_Gallon": null,
          "rowid": 11
         },
         {
          "Acceleration": 14,
          "Horsepower": 145,
          "Miles_per_Gallon": 15,
          "rowid": 164
         },
         {
          "Acceleration": 12.2,
          "Horsepower": 71,
          "Miles_per_Gallon": 29.5,
          "rowid": 210
         },
         {
          "Acceleration": 19.5,
          "Horsepower": 70,
          "Miles_per_Gallon": 30,
          "rowid": 58
         },
         {
          "Acceleration": 14.5,
          "Horsepower": 97,
          "Miles_per_Gallon": 22,
          "rowid": 248
         },
         {
          "Acceleration": 14.5,
          "Horsepower": 76,
          "Miles_per_Gallon": 30,
          "rowid": 59
         },
         {
          "Acceleration": 14.2,
          "Horsepower": 74,
          "Miles_per_Gallon": 33,
          "rowid": 360
         },
         {
          "Acceleration": 13.5,
          "Horsepower": 90,
          "Miles_per_Gallon": 18,
          "rowid": 118
         },
         {
          "Acceleration": 15,
          "Horsepower": 67,
          "Miles_per_Gallon": 38,
          "rowid": 391
         },
         {
          "Acceleration": 13.4,
          "Horsepower": 129,
          "Miles_per_Gallon": 17.6,
          "rowid": 293
         },
         {
          "Acceleration": 15.5,
          "Horsepower": 100,
          "Miles_per_Gallon": 18,
          "rowid": 44
         },
         {
          "Acceleration": 12.8,
          "Horsepower": 110,
          "Miles_per_Gallon": 21.5,
          "rowid": 249
         },
         {
          "Acceleration": 13.5,
          "Horsepower": 110,
          "Miles_per_Gallon": 21.5,
          "rowid": 250
         },
         {
          "Acceleration": 14.5,
          "Horsepower": 88,
          "Miles_per_Gallon": 27,
          "rowid": 24
         },
         {
          "Acceleration": 12,
          "Horsepower": 165,
          "Miles_per_Gallon": 14,
          "rowid": 45
         },
         {
          "Acceleration": 16.5,
          "Horsepower": 86,
          "Miles_per_Gallon": 21,
          "rowid": 68
         },
         {
          "Acceleration": 14.5,
          "Horsepower": 150,
          "Miles_per_Gallon": 16,
          "rowid": 165
         },
         {
          "Acceleration": 13.5,
          "Horsepower": 148,
          "Miles_per_Gallon": 14,
          "rowid": 166
         },
         {
          "Acceleration": 12,
          "Horsepower": 165,
          "Miles_per_Gallon": 13,
          "rowid": 69
         },
         {
          "Acceleration": 15.8,
          "Horsepower": null,
          "Miles_per_Gallon": 34.5,
          "rowid": 361
         },
         {
          "Acceleration": 20.5,
          "Horsepower": 46,
          "Miles_per_Gallon": 26,
          "rowid": 25
         },
         {
          "Acceleration": 18.6,
          "Horsepower": 79,
          "Miles_per_Gallon": 28,
          "rowid": 404
         },
         {
          "Acceleration": 21.5,
          "Horsepower": 48,
          "Miles_per_Gallon": 43.1,
          "rowid": 251
         },
         {
          "Acceleration": 13.2,
          "Horsepower": 138,
          "Miles_per_Gallon": 16.5,
          "rowid": 294
         },
         {
          "Acceleration": 14.9,
          "Horsepower": 97,
          "Miles_per_Gallon": 23.9,
          "rowid": 280
         },
         {
          "Acceleration": 15.9,
          "Horsepower": 103,
          "Miles_per_Gallon": 20.3,
          "rowid": 281
         },
         {
          "Acceleration": 14.4,
          "Horsepower": 75,
          "Miles_per_Gallon": 33.7,
          "rowid": 362
         },
         {
          "Acceleration": 17,
          "Horsepower": 70,
          "Miles_per_Gallon": 32,
          "rowid": 211
         },
         {
          "Acceleration": 18.5,
          "Horsepower": 85,
          "Miles_per_Gallon": 19,
          "rowid": 119
         },
         {
          "Acceleration": 11.5,
          "Horsepower": 175,
          "Miles_per_Gallon": 14,
          "rowid": 46
         },
         {
          "Acceleration": 21,
          "Horsepower": 110,
          "Miles_per_Gallon": 17,
          "rowid": 167
         },
         {
          "Acceleration": 17,
          "Horsepower": 97,
          "Miles_per_Gallon": 24,
          "rowid": 180
         },
         {
          "Acceleration": 17.5,
          "Horsepower": 87,
          "Miles_per_Gallon": 25,
          "rowid": 26
         },
         {
          "Acceleration": 13.9,
          "Horsepower": 120,
          "Miles_per_Gallon": 15.5,
          "rowid": 196
         },
         {
          "Acceleration": 16.8,
          "Horsepower": 75,
          "Miles_per_Gallon": 32.4,
          "rowid": 363
         },
         {
          "Acceleration": 16.5,
          "Horsepower": 105,
          "Miles_per_Gallon": 18,
          "rowid": 104
         },
         {
          "Acceleration": 11.1,
          "Horsepower": 180,
          "Miles_per_Gallon": 16,
          "rowid": 236
         },
         {
          "Acceleration": 13.6,
          "Horsepower": 125,
          "Miles_per_Gallon": 17,
          "rowid": 282
         },
         {
          "Acceleration": 11.4,
          "Horsepower": 170,
          "Miles_per_Gallon": 15.5,
          "rowid": 237
         },
         {
          "Acceleration": 15.7,
          "Horsepower": 115,
          "Miles_per_Gallon": 21.6,
          "rowid": 283
         },
         {
          "Acceleration": 13.5,
          "Horsepower": 153,
          "Miles_per_Gallon": 14,
          "rowid": 47
         },
         {
          "Acceleration": 14.5,
          "Horsepower": 90,
          "Miles_per_Gallon": 24,
          "rowid": 27
         },
         {
          "Acceleration": 15.2,
          "Horsepower": 135,
          "Miles_per_Gallon": 18.2,
          "rowid": 295
         },
         {
          "Acceleration": 13.2,
          "Horsepower": 70,
          "Miles_per_Gallon": 34.2,
          "rowid": 308
         },
         {
          "Acceleration": 12,
          "Horsepower": 175,
          "Miles_per_Gallon": 14,
          "rowid": 70
         },
         {
          "Acceleration": 18.6,
          "Horsepower": 88,
          "Miles_per_Gallon": 27,
          "rowid": 376
         },
         {
          "Acceleration": 11,
          "Horsepower": 153,
          "Miles_per_Gallon": null,
          "rowid": 12
         },
         {
          "Acceleration": 19.4,
          "Horsepower": 82,
          "Miles_per_Gallon": 31,
          "rowid": 405
         },
         {
          "Acceleration": 19,
          "Horsepower": 65,
          "Miles_per_Gallon": 31,
          "rowid": 60
         },
         {
          "Acceleration": 18,
          "Horsepower": 88,
          "Miles_per_Gallon": 34,
          "rowid": 377
         },
         {
          "Acceleration": 14.5,
          "Horsepower": 97,
          "Miles_per_Gallon": 18,
          "rowid": 181
         },
         {
          "Acceleration": 12.2,
          "Horsepower": 190,
          "Miles_per_Gallon": 15.5,
          "rowid": 238
         },
         {
          "Acceleration": 14,
          "Horsepower": 70,
          "Miles_per_Gallon": 29,
          "rowid": 182
         },
         {
          "Acceleration": 14.5,
          "Horsepower": 149,
          "Miles_per_Gallon": 16,
          "rowid": 239
         },
         {
          "Acceleration": 12.8,
          "Horsepower": 152,
          "Miles_per_Gallon": 14.5,
          "rowid": 197
         },
         {
          "Acceleration": 16.5,
          "Horsepower": 90,
          "Miles_per_Gallon": 28,
          "rowid": 320
         },
         {
          "Acceleration": 10.5,
          "Horsepower": 175,
          "Miles_per_Gallon": null,
          "rowid": 13
         },
         {
          "Acceleration": 14.9,
          "Horsepower": 70,
          "Miles_per_Gallon": 34.5,
          "rowid": 309
         },
         {
          "Acceleration": 16.2,
          "Horsepower": 85,
          "Miles_per_Gallon": 31,
          "rowid": 378
         },
         {
          "Acceleration": 18,
          "Horsepower": 100,
          "Miles_per_Gallon": 16,
          "rowid": 105
         },
         {
          "Acceleration": 15.4,
          "Horsepower": 100,
          "Miles_per_Gallon": 22,
          "rowid": 198
         },
         {
          "Acceleration": 17,
          "Horsepower": 90,
          "Miles_per_Gallon": 19,
          "rowid": 183
         },
         {
          "Acceleration": 14.5,
          "Horsepower": 105,
          "Miles_per_Gallon": 22,
          "rowid": 199
         },
         {
          "Acceleration": 18.5,
          "Horsepower": 105,
          "Miles_per_Gallon": 16,
          "rowid": 168
         },
         {
          "Acceleration": 18,
          "Horsepower": 69,
          "Miles_per_Gallon": 35,
          "rowid": 61
         },
         {
          "Acceleration": 19.2,
          "Horsepower": 65,
          "Miles_per_Gallon": 31.8,
          "rowid": 310
         },
         {
          "Acceleration": 16,
          "Horsepower": 84,
          "Miles_per_Gallon": 29,
          "rowid": 379
         },
         {
          "Acceleration": 14.7,
          "Horsepower": 69,
          "Miles_per_Gallon": 37.3,
          "rowid": 311
         },
         {
          "Acceleration": 13.5,
          "Horsepower": 150,
          "Miles_per_Gallon": 15,
          "rowid": 71
         },
         {
          "Acceleration": 16,
          "Horsepower": 100,
          "Miles_per_Gallon": 18,
          "rowid": 106
         },
         {
          "Acceleration": 14.4,
          "Horsepower": 66,
          "Miles_per_Gallon": 36.1,
          "rowid": 252
         },
         {
          "Acceleration": 19,
          "Horsepower": 110,
          "Miles_per_Gallon": 15,
          "rowid": 169
         },
         {
          "Acceleration": 19,
          "Horsepower": 60,
          "Miles_per_Gallon": 27,
          "rowid": 62
         },
         {
          "Acceleration": 16.5,
          "Horsepower": 88,
          "Miles_per_Gallon": 18,
          "rowid": 107
         },
         {
          "Acceleration": 15.1,
          "Horsepower": 120,
          "Miles_per_Gallon": 18.1,
          "rowid": 268
         },
         {
          "Acceleration": 13.2,
          "Horsepower": 145,
          "Miles_per_Gallon": 19.2,
          "rowid": 269
         },
         {
          "Acceleration": 18.1,
          "Horsepower": 88,
          "Miles_per_Gallon": 26.4,
          "rowid": 321
         },
         {
          "Acceleration": 19.4,
          "Horsepower": 52,
          "Miles_per_Gallon": 32.8,
          "rowid": 253
         },
         {
          "Acceleration": 20.5,
          "Horsepower": 70,
          "Miles_per_Gallon": 26,
          "rowid": 63
         },
         {
          "Acceleration": 18.6,
          "Horsepower": 70,
          "Miles_per_Gallon": 39.4,
          "rowid": 254
         },
         {
          "Acceleration": 14.9,
          "Horsepower": 155,
          "Miles_per_Gallon": 16.9,
          "rowid": 296
         },
         {
          "Acceleration": 11,
          "Horsepower": 180,
          "Miles_per_Gallon": 11,
          "rowid": 131
         },
         {
          "Acceleration": 14.3,
          "Horsepower": 142,
          "Miles_per_Gallon": 15.5,
          "rowid": 297
         },
         {
          "Acceleration": 14,
          "Horsepower": 107,
          "Miles_per_Gallon": 21,
          "rowid": 120
         },
         {
          "Acceleration": 14.5,
          "Horsepower": 150,
          "Miles_per_Gallon": 13,
          "rowid": 144
         },
         {
          "Acceleration": 18,
          "Horsepower": 76,
          "Miles_per_Gallon": 22,
          "rowid": 84
         },
         {
          "Acceleration": 15.5,
          "Horsepower": 90,
          "Miles_per_Gallon": 26,
          "rowid": 121
         },
         {
          "Acceleration": 20.1,
          "Horsepower": 90,
          "Miles_per_Gallon": 24.3,
          "rowid": 322
         },
         {
          "Acceleration": 16.4,
          "Horsepower": 60,
          "Miles_per_Gallon": 36.1,
          "rowid": 255
         },
         {
          "Acceleration": 14.8,
          "Horsepower": 100,
          "Miles_per_Gallon": 32.9,
          "rowid": 364
         },
         {
          "Acceleration": 19,
          "Horsepower": 95,
          "Miles_per_Gallon": 18,
          "rowid": 170
         },
         {
          "Acceleration": 18.3,
          "Horsepower": 74,
          "Miles_per_Gallon": 31.6,
          "rowid": 365
         },
         {
          "Acceleration": 15,
          "Horsepower": 110,
          "Miles_per_Gallon": 21,
          "rowid": 171
         },
         {
          "Acceleration": 13.4,
          "Horsepower": 165,
          "Miles_per_Gallon": 17.7,
          "rowid": 270
         },
         {
          "Acceleration": 15,
          "Horsepower": 125,
          "Miles_per_Gallon": 19.2,
          "rowid": 298
         },
         {
          "Acceleration": 11.2,
          "Horsepower": 139,
          "Miles_per_Gallon": 18.1,
          "rowid": 271
         },
         {
          "Acceleration": 11,
          "Horsepower": 175,
          "Miles_per_Gallon": null,
          "rowid": 14
         },
         {
          "Acceleration": 19.5,
          "Horsepower": 87,
          "Miles_per_Gallon": 21,
          "rowid": 85
         },
         {
          "Acceleration": 16.4,
          "Horsepower": 75,
          "Miles_per_Gallon": 28,
          "rowid": 212
         },
         {
          "Acceleration": 13,
          "Horsepower": 145,
          "Miles_per_Gallon": 15,
          "rowid": 122
         },
         {
          "Acceleration": 13.6,
          "Horsepower": 72,
          "Miles_per_Gallon": 26.5,
          "rowid": 213
         },
         {
          "Acceleration": 9.5,
          "Horsepower": 230,
          "Miles_per_Gallon": 16,
          "rowid": 123
         },
         {
          "Acceleration": 10,
          "Horsepower": 170,
          "Miles_per_Gallon": 15,
          "rowid": 15
         },
         {
          "Acceleration": 18,
          "Horsepower": 69,
          "Miles_per_Gallon": 26,
          "rowid": 86
         },
         {
          "Acceleration": 13,
          "Horsepower": 150,
          "Miles_per_Gallon": 18.5,
          "rowid": 299
         },
         {
          "Acceleration": 16,
          "Horsepower": 86,
          "Miles_per_Gallon": 22,
          "rowid": 87
         },
         {
          "Acceleration": 15.7,
          "Horsepower": 102,
          "Miles_per_Gallon": 20,
          "rowid": 214
         },
         {
          "Acceleration": 15.8,
          "Horsepower": 133,
          "Miles_per_Gallon": 16.2,
          "rowid": 284
         },
         {
          "Acceleration": 14.9,
          "Horsepower": 71,
          "Miles_per_Gallon": 31.5,
          "rowid": 285
         },
         {
          "Acceleration": 17.5,
          "Horsepower": 95,
          "Miles_per_Gallon": 25,
          "rowid": 28
         },
         {
          "Acceleration": 16,
          "Horsepower": 95,
          "Miles_per_Gallon": 23,
          "rowid": 108
         },
         {
          "Acceleration": 12.5,
          "Horsepower": 113,
          "Miles_per_Gallon": 26,
          "rowid": 29
         },
         {
          "Acceleration": 13.2,
          "Horsepower": 150,
          "Miles_per_Gallon": 13,
          "rowid": 215
         },
         {
          "Acceleration": 20.4,
          "Horsepower": 80,
          "Miles_per_Gallon": 28.1,
          "rowid": 366
         },
         {
          "Acceleration": 18.7,
          "Horsepower": 90,
          "Miles_per_Gallon": 19.1,
          "rowid": 323
         },
         {
          "Acceleration": 15.7,
          "Horsepower": 67,
          "Miles_per_Gallon": 32,
          "rowid": 392
         },
         {
          "Acceleration": 15,
          "Horsepower": 95,
          "Miles_per_Gallon": 23,
          "rowid": 184
         },
         {
          "Acceleration": 13.5,
          "Horsepower": 150,
          "Miles_per_Gallon": 14,
          "rowid": 145
         },
         {
          "Acceleration": 17,
          "Horsepower": 88,
          "Miles_per_Gallon": 23,
          "rowid": 185
         },
         {
          "Acceleration": 16,
          "Horsepower": 140,
          "Miles_per_Gallon": 14,
          "rowid": 146
         },
         {
          "Acceleration": 16,
          "Horsepower": 90,
          "Miles_per_Gallon": 28.4,
          "rowid": 312
         },
         {
          "Acceleration": 17.6,
          "Horsepower": 81,
          "Miles_per_Gallon": 24,
          "rowid": 200
         },
         {
          "Acceleration": 21,
          "Horsepower": 46,
          "Miles_per_Gallon": 26,
          "rowid": 109
         },
         {
          "Acceleration": 16.6,
          "Horsepower": 68,
          "Miles_per_Gallon": 29.5,
          "rowid": 286
         },
         {
          "Acceleration": 13.8,
          "Horsepower": 67,
          "Miles_per_Gallon": 44.6,
          "rowid": 336
         },
         {
          "Acceleration": 15.4,
          "Horsepower": 115,
          "Miles_per_Gallon": 21.5,
          "rowid": 287
         },
         {
          "Acceleration": 17.6,
          "Horsepower": 90,
          "Miles_per_Gallon": 22.5,
          "rowid": 201
         },
         {
          "Acceleration": 15.4,
          "Horsepower": 110,
          "Miles_per_Gallon": null,
          "rowid": 367
         },
         {
          "Acceleration": 15,
          "Horsepower": 90,
          "Miles_per_Gallon": 21,
          "rowid": 30
         },
         {
          "Acceleration": 13,
          "Horsepower": 153,
          "Miles_per_Gallon": 14,
          "rowid": 72
         },
         {
          "Acceleration": 14,
          "Horsepower": 215,
          "Miles_per_Gallon": 10,
          "rowid": 31
         },
         {
          "Acceleration": 16.2,
          "Horsepower": 67,
          "Miles_per_Gallon": 38,
          "rowid": 393
         },
         {
          "Acceleration": 11.3,
          "Horsepower": 115,
          "Miles_per_Gallon": 28.8,
          "rowid": 313
         },
         {
          "Acceleration": 18,
          "Horsepower": 90,
          "Miles_per_Gallon": 27,
          "rowid": 380
         },
         {
          "Acceleration": 16.4,
          "Horsepower": 110,
          "Miles_per_Gallon": 25,
          "rowid": 394
         },
         {
          "Acceleration": 14.5,
          "Horsepower": 98,
          "Miles_per_Gallon": 22,
          "rowid": 186
         },
         {
          "Acceleration": 15.5,
          "Horsepower": 150,
          "Miles_per_Gallon": 14,
          "rowid": 147
         },
         {
          "Acceleration": 17.3,
          "Horsepower": null,
          "Miles_per_Gallon": 40.9,
          "rowid": 337
         },
         {
          "Acceleration": 16.5,
          "Horsepower": 95,
          "Miles_per_Gallon": 20,
          "rowid": 132
         },
         {
          "Acceleration": 22.2,
          "Horsepower": 52,
          "Miles_per_Gallon": 29,
          "rowid": 202
         },
         {
          "Acceleration": 13.5,
          "Horsepower": 115,
          "Miles_per_Gallon": 25,
          "rowid": 187
         },
         {
          "Acceleration": 22.1,
          "Horsepower": 60,
          "Miles_per_Gallon": 24.5,
          "rowid": 203
         },
         {
          "Acceleration": 12.9,
          "Horsepower": 115,
          "Miles_per_Gallon": 26.8,
          "rowid": 314
         },
         {
          "Acceleration": 11.5,
          "Horsepower": 150,
          "Miles_per_Gallon": 17,
          "rowid": 73
         },
         {
          "Acceleration": 14,
          "Horsepower": 150,
          "Miles_per_Gallon": 11,
          "rowid": 110
         },
         {
          "Acceleration": 18,
          "Horsepower": 67,
          "Miles_per_Gallon": 33.8,
          "rowid": 338
         },
         {
          "Acceleration": 16.4,
          "Horsepower": 92,
          "Miles_per_Gallon": 24,
          "rowid": 381
         },
         {
          "Acceleration": 20.5,
          "Horsepower": null,
          "Miles_per_Gallon": 23,
          "rowid": 382
         },
         {
          "Acceleration": 11,
          "Horsepower": 208,
          "Miles_per_Gallon": 11,
          "rowid": 74
         },
         {
          "Acceleration": 21.9,
          "Horsepower": 88,
          "Miles_per_Gallon": 19,
          "rowid": 216
         },
         {
          "Acceleration": 12.5,
          "Horsepower": 167,
          "Miles_per_Gallon": 12,
          "rowid": 111
         },
         {
          "Acceleration": 17,
          "Horsepower": 85,
          "Miles_per_Gallon": 38,
          "rowid": 395
         },
         {
          "Acceleration": 15.5,
          "Horsepower": 108,
          "Miles_per_Gallon": 19,
          "rowid": 217
         },
         {
          "Acceleration": 14.5,
          "Horsepower": 92,
          "Miles_per_Gallon": 26,
          "rowid": 396
         },
         {
          "Acceleration": 15.3,
          "Horsepower": 62,
          "Miles_per_Gallon": 29.8,
          "rowid": 339
         },
         {
          "Acceleration": 17,
          "Horsepower": null,
          "Miles_per_Gallon": 21,
          "rowid": 133
         },
         {
          "Acceleration": 16,
          "Horsepower": 100,
          "Miles_per_Gallon": 19,
          "rowid": 134
         },
         {
          "Acceleration": 13.2,
          "Horsepower": 90,
          "Miles_per_Gallon": 33.5,
          "rowid": 315
         },
         {
          "Acceleration": 19.5,
          "Horsepower": 49,
          "Miles_per_Gallon": 29,
          "rowid": 124
         },
         {
          "Acceleration": 14,
          "Horsepower": 71,
          "Miles_per_Gallon": 31.9,
          "rowid": 300
         },
         {
          "Acceleration": 13.5,
          "Horsepower": 155,
          "Miles_per_Gallon": 13,
          "rowid": 75
         },
         {
          "Acceleration": 15.5,
          "Horsepower": 75,
          "Miles_per_Gallon": 24,
          "rowid": 125
         },
         {
          "Acceleration": 16.7,
          "Horsepower": 120,
          "Miles_per_Gallon": 16.5,
          "rowid": 218
         },
         {
          "Acceleration": 12.1,
          "Horsepower": 180,
          "Miles_per_Gallon": 16.5,
          "rowid": 219
         },
         {
          "Acceleration": 14.7,
          "Horsepower": 112,
          "Miles_per_Gallon": 22,
          "rowid": 397
         },
         {
          "Acceleration": 13.9,
          "Horsepower": 96,
          "Miles_per_Gallon": 32,
          "rowid": 398
         },
         {
          "Acceleration": 17,
          "Horsepower": 100,
          "Miles_per_Gallon": 15,
          "rowid": 135
         },
         {
          "Acceleration": 14,
          "Horsepower": 91,
          "Miles_per_Gallon": 20,
          "rowid": 126
         },
         {
          "Acceleration": 16.5,
          "Horsepower": 83,
          "Miles_per_Gallon": 29,
          "rowid": 148
         },
         {
          "Acceleration": 15.2,
          "Horsepower": 65,
          "Miles_per_Gallon": 34.1,
          "rowid": 301
         },
         {
          "Acceleration": 17,
          "Horsepower": 92,
          "Miles_per_Gallon": 28,
          "rowid": 88
         },
         {
          "Acceleration": 15.8,
          "Horsepower": 78,
          "Miles_per_Gallon": 34.3,
          "rowid": 324
         },
         {
          "Acceleration": 15.5,
          "Horsepower": 112,
          "Miles_per_Gallon": 19,
          "rowid": 127
         },
         {
          "Acceleration": 15.5,
          "Horsepower": 90,
          "Miles_per_Gallon": 29.8,
          "rowid": 325
         },
         {
          "Acceleration": 14.4,
          "Horsepower": 80,
          "Miles_per_Gallon": 35.7,
          "rowid": 302
         },
         {
          "Acceleration": 15.5,
          "Horsepower": 67,
          "Miles_per_Gallon": 26,
          "rowid": 149
         },
         {
          "Acceleration": 14.5,
          "Horsepower": 78,
          "Miles_per_Gallon": 26,
          "rowid": 150
         },
         {
          "Acceleration": 14.5,
          "Horsepower": 97,
          "Miles_per_Gallon": 23,
          "rowid": 89
         },
         {
          "Acceleration": 14.2,
          "Horsepower": 70,
          "Miles_per_Gallon": 29,
          "rowid": 204
         },
         {
          "Acceleration": 15.3,
          "Horsepower": 74,
          "Miles_per_Gallon": 36,
          "rowid": 383
         },
         {
          "Acceleration": 15,
          "Horsepower": 80,
          "Miles_per_Gallon": 27.4,
          "rowid": 303
         },
         {
          "Acceleration": 17.4,
          "Horsepower": 53,
          "Miles_per_Gallon": 33,
          "rowid": 205
         },
         {
          "Acceleration": 15,
          "Horsepower": 80,
          "Miles_per_Gallon": 28,
          "rowid": 90
         },
         {
          "Acceleration": 13,
          "Horsepower": 84,
          "Miles_per_Gallon": 36,
          "rowid": 399
         },
         {
          "Acceleration": 17.5,
          "Horsepower": 75,
          "Miles_per_Gallon": 31.3,
          "rowid": 326
         },
         {
          "Acceleration": 16.5,
          "Horsepower": 52,
          "Miles_per_Gallon": 31,
          "rowid": 151
         },
         {
          "Acceleration": 14.7,
          "Horsepower": 76,
          "Miles_per_Gallon": 41.5,
          "rowid": 316
         },
         {
          "Acceleration": 15,
          "Horsepower": 92,
          "Miles_per_Gallon": 37,
          "rowid": 327
         },
         {
          "Acceleration": 19,
          "Horsepower": 67,
          "Miles_per_Gallon": 31,
          "rowid": 136
         },
         {
          "Acceleration": 13.5,
          "Horsepower": 110,
          "Miles_per_Gallon": 20,
          "rowid": 172
         },
         {
          "Acceleration": 12,
          "Horsepower": 129,
          "Miles_per_Gallon": 13,
          "rowid": 173
         },
         {
          "Acceleration": 16.5,
          "Horsepower": 88,
          "Miles_per_Gallon": 27,
          "rowid": 91
         },
         {
          "Acceleration": 17.7,
          "Horsepower": 100,
          "Miles_per_Gallon": 20,
          "rowid": 206
         },
         {
          "Acceleration": 18.8,
          "Horsepower": 60,
          "Miles_per_Gallon": 38.1,
          "rowid": 317
         },
         {
          "Acceleration": 21,
          "Horsepower": 78,
          "Miles_per_Gallon": 18,
          "rowid": 207
         },
         {
          "Acceleration": 13.5,
          "Horsepower": 160,
          "Miles_per_Gallon": 12,
          "rowid": 76
         },
         {
          "Acceleration": 16,
          "Horsepower": 75,
          "Miles_per_Gallon": 29,
          "rowid": 174
         },
         {
          "Acceleration": 17,
          "Horsepower": 83,
          "Miles_per_Gallon": 23,
          "rowid": 175
         },
         {
          "Acceleration": 15.5,
          "Horsepower": 70,
          "Miles_per_Gallon": 32.1,
          "rowid": 318
         },
         {
          "Acceleration": 12.5,
          "Horsepower": 190,
          "Miles_per_Gallon": 13,
          "rowid": 77
         },
         {
          "Acceleration": 16.5,
          "Horsepower": 80,
          "Miles_per_Gallon": 26,
          "rowid": 137
         },
         {
          "Acceleration": 16.4,
          "Horsepower": 65,
          "Miles_per_Gallon": 37.2,
          "rowid": 319
         },
         {
          "Acceleration": 12,
          "Horsepower": 145,
          "Miles_per_Gallon": 13,
          "rowid": 220
         },
         {
          "Acceleration": 17.5,
          "Horsepower": 53,
          "Miles_per_Gallon": 33,
          "rowid": 188
         },
         {
          "Acceleration": 15.5,
          "Horsepower": 86,
          "Miles_per_Gallon": 28,
          "rowid": 189
         },
         {
          "Acceleration": 15,
          "Horsepower": 130,
          "Miles_per_Gallon": 13,
          "rowid": 221
         },
         {
          "Acceleration": 13.5,
          "Horsepower": 97,
          "Miles_per_Gallon": 19,
          "rowid": 78
         },
         {
          "Acceleration": 21,
          "Horsepower": 65,
          "Miles_per_Gallon": 32,
          "rowid": 138
         },
         {
          "Acceleration": 11.4,
          "Horsepower": 132,
          "Miles_per_Gallon": 32.7,
          "rowid": 340
         },
         {
          "Acceleration": 16.9,
          "Horsepower": 81,
          "Miles_per_Gallon": 25,
          "rowid": 190
         },
         {
          "Acceleration": 14.9,
          "Horsepower": 92,
          "Miles_per_Gallon": 25,
          "rowid": 191
         },
         {
          "Acceleration": 12.5,
          "Horsepower": 100,
          "Miles_per_Gallon": 23.7,
          "rowid": 341
         },
         {
          "Acceleration": 12.5,
          "Horsepower": 150,
          "Miles_per_Gallon": 15,
          "rowid": 79
         },
         {
          "Acceleration": 14,
          "Horsepower": 150,
          "Miles_per_Gallon": 13,
          "rowid": 222
         },
         {
          "Acceleration": 13,
          "Horsepower": 175,
          "Miles_per_Gallon": 13,
          "rowid": 92
         },
         {
          "Acceleration": 15.1,
          "Horsepower": 88,
          "Miles_per_Gallon": 35,
          "rowid": 342
         },
         {
          "Acceleration": 11.5,
          "Horsepower": 150,
          "Miles_per_Gallon": 14,
          "rowid": 93
         },
         {
          "Acceleration": 18.5,
          "Horsepower": 68,
          "Miles_per_Gallon": 31.5,
          "rowid": 223
         },
         {
          "Acceleration": 14.3,
          "Horsepower": null,
          "Miles_per_Gallon": 23.6,
          "rowid": 343
         },
         {
          "Acceleration": 13,
          "Horsepower": 145,
          "Miles_per_Gallon": 13,
          "rowid": 94
         },
         {
          "Acceleration": 15.2,
          "Horsepower": 75,
          "Miles_per_Gallon": 32.2,
          "rowid": 328
         },
         {
          "Acceleration": 14.5,
          "Horsepower": 137,
          "Miles_per_Gallon": 14,
          "rowid": 95
         },
         {
          "Acceleration": 17,
          "Horsepower": 75,
          "Miles_per_Gallon": 25,
          "rowid": 139
         },
         {
          "Acceleration": 17.9,
          "Horsepower": 65,
          "Miles_per_Gallon": 46.6,
          "rowid": 329
         },
         {
          "Acceleration": 19,
          "Horsepower": 61,
          "Miles_per_Gallon": 32,
          "rowid": 152
         },
         {
          "Acceleration": 14.4,
          "Horsepower": 105,
          "Miles_per_Gallon": 27.9,
          "rowid": 330
         },
         {
          "Acceleration": 19.2,
          "Horsepower": 65,
          "Miles_per_Gallon": 40.8,
          "rowid": 331
         },
         {
          "Acceleration": 14.5,
          "Horsepower": 75,
          "Miles_per_Gallon": 28,
          "rowid": 153
         },
         {
          "Acceleration": 17,
          "Horsepower": 72,
          "Miles_per_Gallon": 32.4,
          "rowid": 344
         },
         {
          "Acceleration": 15.7,
          "Horsepower": 84,
          "Miles_per_Gallon": 27.2,
          "rowid": 345
         },
         {
          "Acceleration": 16.4,
          "Horsepower": 84,
          "Miles_per_Gallon": 26.6,
          "rowid": 346
         },
         {
          "Acceleration": 15.5,
          "Horsepower": 75,
          "Miles_per_Gallon": 24,
          "rowid": 154
         },
         {
          "Acceleration": 14.4,
          "Horsepower": 92,
          "Miles_per_Gallon": 25.8,
          "rowid": 347
         },
         {
          "Acceleration": 14,
          "Horsepower": 75,
          "Miles_per_Gallon": 26,
          "rowid": 155
         },
         {
          "Acceleration": 21.7,
          "Horsepower": 48,
          "Miles_per_Gallon": 44.3,
          "rowid": 332
         },
         {
          "Acceleration": 23.7,
          "Horsepower": 48,
          "Miles_per_Gallon": 43.4,
          "rowid": 333
         },
         {
          "Acceleration": 17,
          "Horsepower": 100,
          "Miles_per_Gallon": 16,
          "rowid": 140
         },
         {
          "Acceleration": 18,
          "Horsepower": 110,
          "Miles_per_Gallon": 16,
          "rowid": 141
         },
         {
          "Acceleration": 19.9,
          "Horsepower": 67,
          "Miles_per_Gallon": 36.4,
          "rowid": 334
         },
         {
          "Acceleration": 21.8,
          "Horsepower": 67,
          "Miles_per_Gallon": 30,
          "rowid": 335
         },
         {
          "Acceleration": 16.5,
          "Horsepower": 105,
          "Miles_per_Gallon": 18,
          "rowid": 142
         },
         {
          "Acceleration": 12.6,
          "Horsepower": 110,
          "Miles_per_Gallon": 23.5,
          "rowid": 348
         },
         {
          "Acceleration": 14,
          "Horsepower": 140,
          "Miles_per_Gallon": 16,
          "rowid": 143
         },
         {
          "Acceleration": 12.9,
          "Horsepower": 84,
          "Miles_per_Gallon": 30,
          "rowid": 349
         },
         {
          "Acceleration": 16.9,
          "Horsepower": 58,
          "Miles_per_Gallon": 39.1,
          "rowid": 350
         },
         {
          "Acceleration": 16.4,
          "Horsepower": 64,
          "Miles_per_Gallon": 39,
          "rowid": 351
         },
         {
          "Acceleration": 15,
          "Horsepower": 97,
          "Miles_per_Gallon": 24,
          "rowid": 156
         },
         {
          "Acceleration": 15.5,
          "Horsepower": 93,
          "Miles_per_Gallon": 26,
          "rowid": 157
         },
         {
          "Acceleration": 16,
          "Horsepower": 67,
          "Miles_per_Gallon": 31,
          "rowid": 158
         },
         {
          "Acceleration": 16,
          "Horsepower": 95,
          "Miles_per_Gallon": 19,
          "rowid": 159
         }
        ]
       },
       "encoding": {
        "size": {
         "field": "Acceleration",
         "scale": {
          "domain": [
           0,
           20
          ]
         },
         "type": "quantitative"
        },
        "x": {
         "field": "Horsepower",
         "scale": {
          "domain": [
           0,
           240
          ],
          "range": "width"
         },
         "type": "quantitative"
        },
        "y": {
         "field": "Miles_per_Gallon",
         "scale": {
          "domain": [
           0,
           50
          ],
          "range": "height"
         },
         "type": "quantitative"
        }
       },
       "mark": {
        "fill": "black",
        "opacity": 0.1,
        "type": "point"
       }
      },
      "image/png": "[encoded data removed]",
      "text/plain": [
       "<VegaLite 2 object>\n",
       "\n",
       "If you see this message, it means the renderer has not been properly enabled\n",
       "for the frontend that you are using. For more information, see\n",
       "https://altair-viz.github.io/user_guide/troubleshooting.html\n"
      ]
     },
     "execution_count": 8,
     "metadata": {},
     "output_type": "execute_result"
    }
   ],
   "source": [
    "alt.renderers.enable('default')\n",
    "chart(expr.execute())"
   ]
  },
  {
   "cell_type": "code",
   "execution_count": 9,
   "metadata": {},
   "outputs": [
    {
     "data": {
      "application/vnd.mapd.vega+json": {
       "connection": {
        "dbName": "mapd",
        "host": "qs-dev.mapd.com",
        "password": "HyperInteractive",
        "port": "9092",
        "protocol": "http",
        "user": "mapd"
       },
       "vegalite": {
        "$schema": "https://vega.github.io/schema/vega-lite/v2.4.1.json",
        "config": {
         "view": {
          "height": 300,
          "width": 400
         }
        },
        "data": {
         "name": "mapd_data"
        },
        "encoding": {
         "size": {
          "field": "Acceleration",
          "scale": {
           "domain": [
            0,
            20
           ]
          },
          "type": "quantitative"
         },
         "x": {
          "field": "Horsepower",
          "scale": {
           "domain": [
            0,
            240
           ],
           "range": "width"
          },
          "type": "quantitative"
         },
         "y": {
          "field": "Miles_per_Gallon",
          "scale": {
           "domain": [
            0,
            50
           ],
           "range": "height"
          },
          "type": "quantitative"
         }
        },
        "mark": {
         "fill": "black",
         "opacity": 0.1,
         "type": "point"
        }
       }
      },
      "image/png": "[encoded data removed]",
      "text/plain": [
       "Chart({\n",
       "  data: 'SELECT \"Horsepower\", \"Miles_per_Gallon\", \"Acceleration\", rowid AS rowid\\nFROM cars',\n",
       "  encoding: EncodingWithFacet({\n",
       "    size: Size({\n",
       "      scale: Scale({\n",
       "        domain: [0, 20]\n",
       "      }),\n",
       "      shorthand: 'Acceleration:Q'\n",
       "    }),\n",
       "    x: X({\n",
       "      scale: Scale({\n",
       "        domain: [0, 240],\n",
       "        range: 'width'\n",
       "      }),\n",
       "      shorthand: 'Horsepower:Q'\n",
       "    }),\n",
       "    y: Y({\n",
       "      scale: Scale({\n",
       "        domain: [0, 50],\n",
       "        range: 'height'\n",
       "      }),\n",
       "      shorthand: 'Miles_per_Gallon:Q'\n",
       "    })\n",
       "  }),\n",
       "  mark: MarkDef({\n",
       "    fill: 'black',\n",
       "    opacity: 0.1,\n",
       "    type: 'point'\n",
       "  })\n",
       "})"
      ]
     },
     "execution_count": 9,
     "metadata": {},
     "output_type": "execute_result"
    }
   ],
   "source": [
    "alt.renderers.enable('mapd', conn=conn)\n",
    "chart(expr.compile())"
   ]
  }
 ],
 "metadata": {
  "kernelspec": {
   "display_name": "Python 3",
   "language": "python",
   "name": "python3"
  },
  "language_info": {
   "codemirror_mode": {
    "name": "ipython",
    "version": 3
   },
   "file_extension": ".py",
   "mimetype": "text/x-python",
   "name": "python",
   "nbconvert_exporter": "python",
   "pygments_lexer": "ipython3",
   "version": "3.6.5"
  }
 },
 "nbformat": 4,
 "nbformat_minor": 2
}
