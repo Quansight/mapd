{
 "cells": [
  {
   "cell_type": "code",
   "execution_count": 3,
   "metadata": {},
   "outputs": [],
   "source": [
    "import mapd_renderer\n",
    "import ibis\n",
    "import altair as alt"
   ]
  },
  {
   "cell_type": "code",
   "execution_count": 5,
   "metadata": {},
   "outputs": [],
   "source": [
    "host = dict(\n",
    "    host='metis.mapd.com', user='mapd', password='HyperInteractive',\n",
    "    port=443, database='mapd', protocol= 'https')"
   ]
  },
  {
   "cell_type": "code",
   "execution_count": 8,
   "metadata": {},
   "outputs": [],
   "source": [
    "mapd = ibis.mapd.connect(**host)\n",
    "table = mapd.table('tweets_nov_feb')\n",
    "expr = table[table.goog_x, table.goog_y, table.tweet_id]\n",
    "expr = expr.filter([\n",
    "    expr.goog_x < 7413325.514451755,\n",
    "    expr.goog_x > -3650484.1235206556, \n",
    "    expr.goog_y < 10471808.487466192,\n",
    "    expr.goog_y > -5778161.9183506705, \n",
    "])"
   ]
  },
  {
   "cell_type": "code",
   "execution_count": 14,
   "metadata": {},
   "outputs": [],
   "source": [
    "pandas = ibis.pandas.connect({table.name: expr.limit(100).execute()})"
   ]
  },
  {
   "cell_type": "markdown",
   "metadata": {},
   "source": [
    "# Plotting a subset of the MapD data."
   ]
  },
  {
   "cell_type": "code",
   "execution_count": 15,
   "metadata": {},
   "outputs": [],
   "source": [
    "def expression(t):\n",
    "    expr = t[t.goog_x.name('x'), t.goog_y.name('y'), t.tweet_id.name('rowid')]\n",
    "    expr = expr.filter([\n",
    "        expr.x < 7413325.514451755,\n",
    "        expr.x > -3650484.1235206556, \n",
    "        expr.y < 10471808.487466192,\n",
    "        expr.y > -5778161.9183506705, \n",
    "    ])\n",
    "    return expr"
   ]
  },
  {
   "cell_type": "code",
   "execution_count": 16,
   "metadata": {},
   "outputs": [],
   "source": [
    "pandas_expr = expression(pandas.table(table.name))"
   ]
  },
  {
   "cell_type": "code",
   "execution_count": 22,
   "metadata": {},
   "outputs": [],
   "source": [
    "alt.renderers.enable('default')\n",
    "\n",
    "chart = lambda object: alt.Chart(object).mark_square(\n",
    "    color='green',\n",
    "    size=20,\n",
    "    clip=True\n",
    ").encode(\n",
    "    alt.X(\n",
    "        'x:Q',\n",
    "        scale=alt.Scale(domain=[-3650484.1235206556, 7413325.514451755], range='width')\n",
    "    ),\n",
    "    alt.Y(\n",
    "        'y:Q',\n",
    "        scale=alt.Scale(domain=[-5778161.9183506705, 10471808.487466192], range='height')\n",
    "    ),)"
   ]
  },
  {
   "cell_type": "code",
   "execution_count": 23,
   "metadata": {},
   "outputs": [
    {
     "data": {
      "application/vnd.vegalite.v2+json": {
       "$schema": "https://vega.github.io/schema/vega-lite/v2.4.1.json",
       "config": {
        "view": {
         "height": 300,
         "width": 400
        }
       },
       "data": {
        "values": [
         {
          "rowid": 528342293980667900,
          "x": 3229157.5,
          "y": 5021989
         },
         {
          "rowid": 528338951363260400,
          "x": 5194176,
          "y": 2832543
         },
         {
          "rowid": 528342293993226240,
          "x": 3156759.5,
          "y": 4468318.5
         },
         {
          "rowid": 528341920729550850,
          "x": 2355335.75,
          "y": 5260633
         },
         {
          "rowid": 528342298535657500,
          "x": 3094718.75,
          "y": 4555683.5
         },
         {
          "rowid": 528338699420176400,
          "x": 2647534.75,
          "y": 4581290.5
         },
         {
          "rowid": 528342294148423700,
          "x": 3515859.5,
          "y": 4971906
         },
         {
          "rowid": 528338963845898240,
          "x": 3871894.75,
          "y": 3772823.75
         },
         {
          "rowid": 528342294085521400,
          "x": 1496110.75,
          "y": 6886840.5
         },
         {
          "rowid": 528338942752735200,
          "x": 3019632.75,
          "y": 4634390
         },
         {
          "rowid": 528342302348312600,
          "x": -960414.375,
          "y": 5007166
         },
         {
          "rowid": 528338955440488450,
          "x": 347376.375,
          "y": 6508941.5
         },
         {
          "rowid": 528342302553829400,
          "x": -75858,
          "y": 5602238.5
         },
         {
          "rowid": 528338943029542900,
          "x": -527076,
          "y": 5109594
         },
         {
          "rowid": 528342294240710660,
          "x": -254930.765625,
          "y": 7114072.5
         },
         {
          "rowid": 528338687172808700,
          "x": 3649646.5,
          "y": 4861059.5
         },
         {
          "rowid": 528342604581445600,
          "x": 441133.53125,
          "y": 6494728
         },
         {
          "rowid": 528338682705895400,
          "x": 3875987,
          "y": 4840976.5
         },
         {
          "rowid": 528342298133012500,
          "x": 4069001.75,
          "y": 4911527
         },
         {
          "rowid": 528341912655507460,
          "x": 272439.53125,
          "y": 6238860
         },
         {
          "rowid": 528342298393059300,
          "x": 264532.75,
          "y": 6250829.5
         },
         {
          "rowid": 528338699608944640,
          "x": 494876.8125,
          "y": 6657462
         },
         {
          "rowid": 528342616929476600,
          "x": -461313.75,
          "y": 7860546
         },
         {
          "rowid": 528338695225892860,
          "x": 1350127.25,
          "y": 6535370.5
         },
         {
          "rowid": 528342617189519360,
          "x": -4055.814208984375,
          "y": 4865040.5
         },
         {
          "rowid": 528338687252504600,
          "x": 287764.4375,
          "y": 6204467.5
         },
         {
          "rowid": 528339597185789950,
          "x": -566392.4375,
          "y": 4896562
         },
         {
          "rowid": 528338682957557760,
          "x": 3238563,
          "y": 5025847
         },
         {
          "rowid": 528342281737474050,
          "x": -684169.5,
          "y": 7249477
         },
         {
          "rowid": 528341912621969400,
          "x": -441650.625,
          "y": 591286.375
         },
         {
          "rowid": 528342302545440800,
          "x": -167968.75,
          "y": 7110508.5
         },
         {
          "rowid": 528338683024646140,
          "x": 3396397.5,
          "y": 4835003
         },
         {
          "rowid": 528342306584559600,
          "x": -172119.40625,
          "y": 7132802
         },
         {
          "rowid": 528341916459737100,
          "x": 3391380.5,
          "y": 6521145.5
         },
         {
          "rowid": 528341559952289800,
          "x": 4322309.5,
          "y": 5012462.5
         },
         {
          "rowid": 528342239576350700,
          "x": -274668.5,
          "y": 5340339.5
         },
         {
          "rowid": 528338678775812100,
          "x": 2555022,
          "y": 4953950
         },
         {
          "rowid": 528342457877291000,
          "x": 420446.15625,
          "y": 5878944
         },
         {
          "rowid": 528341924999348200,
          "x": -377466.125,
          "y": 6554751.5
         },
         {
          "rowid": 528342285743046660,
          "x": 1268248.875,
          "y": 6136016
         },
         {
          "rowid": 528338678587072500,
          "x": -664830.8125,
          "y": 4496607.5
         },
         {
          "rowid": 528342290033811460,
          "x": 466682.6875,
          "y": 851137.3125
         },
         {
          "rowid": 528338682689122300,
          "x": -951704.9375,
          "y": 5043277
         },
         {
          "rowid": 528342617315344400,
          "x": 325879.125,
          "y": 6517608
         },
         {
          "rowid": 528338686887215100,
          "x": 3940002.5,
          "y": 3970490.5
         },
         {
          "rowid": 528339651577536500,
          "x": -88548.3125,
          "y": 4646090
         },
         {
          "rowid": 528338695251038200,
          "x": 3643559.75,
          "y": 4847243
         },
         {
          "rowid": 528342608838275100,
          "x": 5574756,
          "y": 3050008.5
         },
         {
          "rowid": 528338682697482240,
          "x": 2259912,
          "y": 5261039
         },
         {
          "rowid": 528342457860513800,
          "x": 15173.8486328125,
          "y": 6835092.5
         },
         {
          "rowid": 528338913426145300,
          "x": -28273.703125,
          "y": 6707637.5
         },
         {
          "rowid": 528342465921945600,
          "x": 3957331.5,
          "y": 4681399.5
         },
         {
          "rowid": 528339299604115460,
          "x": 2982781,
          "y": 4753072.5
         },
         {
          "rowid": 528342625406177300,
          "x": 13477.1171875,
          "y": 6837319
         },
         {
          "rowid": 528338695485943800,
          "x": -661754.9375,
          "y": 4493729
         },
         {
          "rowid": 528342625339052000,
          "x": 3214972.5,
          "y": 5010785
         },
         {
          "rowid": 528338913409380350,
          "x": -775103.375,
          "y": 4703118
         },
         {
          "rowid": 528342239517229060,
          "x": 4365316,
          "y": 2483905.75
         },
         {
          "rowid": 528339307908837400,
          "x": -200720.953125,
          "y": 4518296.5
         },
         {
          "rowid": 528342239731540000,
          "x": -177924.5,
          "y": 6758752
         },
         {
          "rowid": 528338913480691700,
          "x": 3412915.5,
          "y": 4423824
         },
         {
          "rowid": 528342306794266600,
          "x": 3473559,
          "y": 3507501.75
         },
         {
          "rowid": 528339307942408200,
          "x": -292933.5625,
          "y": 6843083.5
         },
         {
          "rowid": 528342386494431200,
          "x": -1015500.6875,
          "y": 4687201
         },
         {
          "rowid": 528342038132301800,
          "x": -954260.3125,
          "y": 5046358.5
         },
         {
          "rowid": 528342407478525950,
          "x": -674666.5625,
          "y": 4492562
         },
         {
          "rowid": 528341975359971300,
          "x": 5267859.5,
          "y": 2771727.25
         },
         {
          "rowid": 528339651598114800,
          "x": 4764220,
          "y": 2061056.75
         },
         {
          "rowid": 528341933245337600,
          "x": 266715.375,
          "y": 6254502.5
         },
         {
          "rowid": 528342440864792600,
          "x": 5215680,
          "y": 2838501.25
         },
         {
          "rowid": 528339311792775200,
          "x": 352539.375,
          "y": 6567716.5
         },
         {
          "rowid": 528342248153681900,
          "x": 97620.40625,
          "y": 6678070.5
         },
         {
          "rowid": 528338922108366850,
          "x": 3258001.75,
          "y": 4995195.5
         },
         {
          "rowid": 528342247843307500,
          "x": -707911.9375,
          "y": 4709373
         },
         {
          "rowid": 528342038392356860,
          "x": 3223169.25,
          "y": 5020951
         },
         {
          "rowid": 528342314973138940,
          "x": -291152.125,
          "y": 7058975
         },
         {
          "rowid": 528341933362802700,
          "x": -954260.3125,
          "y": 5046358.5
         },
         {
          "rowid": 528342386519597060,
          "x": 1574859.125,
          "y": 8241906
         },
         {
          "rowid": 528342038320644100,
          "x": 5198972,
          "y": 2546957.25
         },
         {
          "rowid": 528342306865573900,
          "x": -246650.15625,
          "y": 7067634.5
         },
         {
          "rowid": 528341933601853440,
          "x": -25603.482421875,
          "y": 6693546
         },
         {
          "rowid": 528339597336395800,
          "x": 5201056.5,
          "y": 2822170.75
         },
         {
          "rowid": 528338917532368900,
          "x": -33415.44140625,
          "y": 6636272
         },
         {
          "rowid": 528342398829858800,
          "x": -109817.7890625,
          "y": 4525975.5
         },
         {
          "rowid": 528339312073789440,
          "x": 282739.03125,
          "y": 6246726
         },
         {
          "rowid": 528342399001452540,
          "x": 5211340,
          "y": 2845759.5
         },
         {
          "rowid": 528338943100874750,
          "x": 3257699,
          "y": 4997777
         },
         {
          "rowid": 528342441020375040,
          "x": -89986.5546875,
          "y": 6800865
         },
         {
          "rowid": 528338917725306900,
          "x": -881188.1875,
          "y": 4660922.5
         },
         {
          "rowid": 528342248044638200,
          "x": -121197.3125,
          "y": 5581615.5
         },
         {
          "rowid": 528338586283048960,
          "x": -234791.953125,
          "y": 7026563
         },
         {
          "rowid": 528338603123150850,
          "x": 1333021.375,
          "y": 7904712.5
         },
         {
          "rowid": 528342403175182340,
          "x": -19586.44140625,
          "y": 6745458
         },
         {
          "rowid": 528342482833375200,
          "x": -129487.2734375,
          "y": 6904888.5
         },
         {
          "rowid": 528342038366806000,
          "x": 5209732,
          "y": 2836013
         },
         {
          "rowid": 528341937737445400,
          "x": 145764.859375,
          "y": 6919986
         },
         {
          "rowid": 528342441079078900,
          "x": 351005.59375,
          "y": 744122.8125
         },
         {
          "rowid": 528342398947323900,
          "x": -410084.3125,
          "y": 4893985
         },
         {
          "rowid": 528342034189664260,
          "x": 3216670.75,
          "y": 5025660
         },
         {
          "rowid": 528339601417838600,
          "x": 263667.21875,
          "y": 6272935
         }
        ]
       },
       "encoding": {
        "x": {
         "field": "x",
         "scale": {
          "domain": [
           -3650484.1235206556,
           7413325.514451755
          ],
          "range": "width"
         },
         "type": "quantitative"
        },
        "y": {
         "field": "y",
         "scale": {
          "domain": [
           -5778161.9183506705,
           10471808.487466192
          ],
          "range": "height"
         },
         "type": "quantitative"
        }
       },
       "mark": {
        "clip": true,
        "color": "green",
        "size": 20,
        "type": "square"
       }
      },
      "image/png": "[encoded data removed]",
      "text/plain": [
       "<VegaLite 2 object>\n",
       "\n",
       "If you see this message, it means the renderer has not been properly enabled\n",
       "for the frontend that you are using. For more information, see\n",
       "https://altair-viz.github.io/user_guide/troubleshooting.html\n"
      ]
     },
     "execution_count": 23,
     "metadata": {},
     "output_type": "execute_result"
    }
   ],
   "source": [
    "chart(pandas_expr.execute())"
   ]
  },
  {
   "cell_type": "code",
   "execution_count": 24,
   "metadata": {},
   "outputs": [],
   "source": [
    "mapd_expr = expression(mapd.table(table.name))"
   ]
  },
  {
   "cell_type": "markdown",
   "metadata": {},
   "source": [
    "# Plotting All the MapD data"
   ]
  },
  {
   "cell_type": "markdown",
   "metadata": {},
   "source": [
    "## Basic Altair Renderer"
   ]
  },
  {
   "cell_type": "code",
   "execution_count": 25,
   "metadata": {},
   "outputs": [
    {
     "data": {
      "application/vnd.vegalite.v2+json": {
       "$schema": "https://vega.github.io/schema/vega-lite/v2.4.1.json",
       "config": {
        "view": {
         "height": 300,
         "width": 400
        }
       },
       "data": {
        "values": [
         {
          "rowid": 528342059313537000,
          "x": 274390.53125,
          "y": 6210067.5
         },
         {
          "rowid": 528341723538542600,
          "x": 266029.53125,
          "y": 6252752.5
         },
         {
          "rowid": 528342071984541700,
          "x": 3288382.5,
          "y": 4980064.5
         },
         {
          "rowid": 528339315987075100,
          "x": -962386.375,
          "y": 6794507
         },
         {
          "rowid": 528341975359971300,
          "x": 5267859.5,
          "y": 2771727.25
         },
         {
          "rowid": 528342063663046660,
          "x": 563493.125,
          "y": 6646325.5
         },
         {
          "rowid": 528341719373594600,
          "x": 1053486.375,
          "y": 5001922.5
         },
         {
          "rowid": 528342071804170240,
          "x": -19569.521484375,
          "y": 6591271.5
         },
         {
          "rowid": 528341719541379100,
          "x": 272433.1875,
          "y": 6261807.5
         },
         {
          "rowid": 528341723819540500,
          "x": -194804.4375,
          "y": 5188176.5
         },
         {
          "rowid": 528342075902021600,
          "x": -270713.40625,
          "y": 7097776.5
         },
         {
          "rowid": 528342076233375740,
          "x": 2673583,
          "y": 7749601
         },
         {
          "rowid": 528341723924410400,
          "x": 4357341.5,
          "y": 4672227
         },
         {
          "rowid": 528341727896424450,
          "x": 666146.625,
          "y": 6838841
         },
         {
          "rowid": 528339370840162300,
          "x": 3997636.75,
          "y": 7733943.5
         },
         {
          "rowid": 528341979546288100,
          "x": -270909.4375,
          "y": 5326502
         },
         {
          "rowid": 528342084269658100,
          "x": -20267.939453125,
          "y": 6786064
         },
         {
          "rowid": 528341736285012000,
          "x": -29403.70703125,
          "y": 4827610.5
         },
         {
          "rowid": 528342407478525950,
          "x": -674666.5625,
          "y": 4492562
         },
         {
          "rowid": 528339316029022200,
          "x": 3659333.25,
          "y": 4863593
         },
         {
          "rowid": 528341719654617100,
          "x": -120112.3984375,
          "y": 7164359
         },
         {
          "rowid": 528341732099112960,
          "x": -124784.6953125,
          "y": 4578529.5
         },
         {
          "rowid": 528342411605708800,
          "x": 3969936,
          "y": 5008324.5
         },
         {
          "rowid": 528338712368005100,
          "x": 3202644,
          "y": -3710876.25
         },
         {
          "rowid": 528339316045774850,
          "x": -299148.53125,
          "y": 7113909.5
         },
         {
          "rowid": 528341740538052600,
          "x": 3656041.75,
          "y": 4854942.5
         },
         {
          "rowid": 528339320504336400,
          "x": -823897.375,
          "y": 6953732.5
         },
         {
          "rowid": 528341979407855600,
          "x": 358423.59375,
          "y": 5364162
         },
         {
          "rowid": 528341979722428400,
          "x": 3333245.25,
          "y": 3662581
         },
         {
          "rowid": 528339823795642400,
          "x": 3189749,
          "y": 5014926
         },
         {
          "rowid": 528341937485410300,
          "x": 255256.921875,
          "y": 6247015.5
         },
         {
          "rowid": 528342399001452540,
          "x": 5211340,
          "y": 2845759.5
         },
         {
          "rowid": 528339315987075100,
          "x": -668770.875,
          "y": 4493279.5
         },
         {
          "rowid": 528341920729550850,
          "x": 2355335.75,
          "y": 5260633
         },
         {
          "rowid": 528341937833906200,
          "x": -8489.3359375,
          "y": 6714491.5
         },
         {
          "rowid": 528342403175182340,
          "x": -19586.44140625,
          "y": 6745458
         },
         {
          "rowid": 528341946054344700,
          "x": 4407251.5,
          "y": 2811771
         },
         {
          "rowid": 528338716306472960,
          "x": 259727.859375,
          "y": 6399404
         },
         {
          "rowid": 528342407528869900,
          "x": 3225943.75,
          "y": 5016080.5
         },
         {
          "rowid": 528338716327415800,
          "x": 259591.59375,
          "y": 6238872.5
         },
         {
          "rowid": 528338951363260400,
          "x": 5194176,
          "y": 2832543
         },
         {
          "rowid": 528339320286240800,
          "x": 266142.40625,
          "y": 6215487.5
         },
         {
          "rowid": 528339379211993100,
          "x": 3335006,
          "y": 3662031.25
         },
         {
          "rowid": 528341941726240800,
          "x": 3762960.25,
          "y": 3648800.75
         },
         {
          "rowid": 528341941839466500,
          "x": 3225184.5,
          "y": 5016879.5
         },
         {
          "rowid": 528339840660959200,
          "x": -303149.25,
          "y": 7131447.5
         },
         {
          "rowid": 528339370760482800,
          "x": -1733115.125,
          "y": 3218992.75
         },
         {
          "rowid": 528341849736765440,
          "x": -1868396,
          "y": 3275575.75
         },
         {
          "rowid": 528342403296813060,
          "x": 225394.578125,
          "y": 6278173
         },
         {
          "rowid": 528341912655507460,
          "x": 272439.53125,
          "y": 6238860
         },
         {
          "rowid": 528342411769311200,
          "x": -590007.6875,
          "y": 7500235
         },
         {
          "rowid": 528338720500768800,
          "x": 2645459.25,
          "y": 4585245.5
         },
         {
          "rowid": 528339370659835900,
          "x": -7484.23193359375,
          "y": 6713110.5
         },
         {
          "rowid": 528341950056136700,
          "x": -50364.9453125,
          "y": 6754265
         },
         {
          "rowid": 528342566904008700,
          "x": 366142.59375,
          "y": 6417555.5
         },
         {
          "rowid": 528342134781644800,
          "x": -306086.84375,
          "y": 7297312.5
         },
         {
          "rowid": 528341933245337600,
          "x": 266715.375,
          "y": 6254502.5
         },
         {
          "rowid": 528342415661629440,
          "x": -235699.3125,
          "y": 7799794.5
         },
         {
          "rowid": 528341950093877250,
          "x": -320136.15625,
          "y": 7087175
         },
         {
          "rowid": 528342659065450500,
          "x": -68461.265625,
          "y": 6743600
         },
         {
          "rowid": 528339374766063600,
          "x": -332296.03125,
          "y": 6644136.5
         },
         {
          "rowid": 528338720463024100,
          "x": 3097203,
          "y": -3029783.25
         },
         {
          "rowid": 528342570955735040,
          "x": -951598,
          "y": 4459951.5
         },
         {
          "rowid": 528341933362802700,
          "x": -954260.3125,
          "y": 5046358.5
         },
         {
          "rowid": 528339831936806900,
          "x": 3853016.25,
          "y": 4411264.5
         },
         {
          "rowid": 528342415858339840,
          "x": 4438519.5,
          "y": 3477662.5
         },
         {
          "rowid": 528342570855063550,
          "x": -300508.40625,
          "y": 7119915.5
         },
         {
          "rowid": 528339341559734300,
          "x": 265235.5,
          "y": 6255647.5
         },
         {
          "rowid": 528338963845898240,
          "x": 3871894.75,
          "y": 3772823.75
         },
         {
          "rowid": 528339353765175300,
          "x": 264901.09375,
          "y": 6243634
         },
         {
          "rowid": 528339832066826240,
          "x": 269335.0625,
          "y": 6212208.5
         },
         {
          "rowid": 528342403301015550,
          "x": 3225774.25,
          "y": 4902352
         },
         {
          "rowid": 528339890787078140,
          "x": -141523.359375,
          "y": 6757386.5
         },
         {
          "rowid": 528339374942212100,
          "x": 2259051.75,
          "y": 5259967.5
         },
         {
          "rowid": 528341912621969400,
          "x": -441650.625,
          "y": 591286.375
         },
         {
          "rowid": 528338942752735200,
          "x": 3019632.75,
          "y": 4634390
         },
         {
          "rowid": 528342424314449900,
          "x": -441722.1875,
          "y": 598930.125
         },
         {
          "rowid": 528339341492244500,
          "x": 5352291,
          "y": 3419560.25
         },
         {
          "rowid": 528339823661445100,
          "x": -268981.28125,
          "y": 7066326.5
         },
         {
          "rowid": 528339387374108700,
          "x": -19611.04296875,
          "y": 6713210.5
         },
         {
          "rowid": 528342411437953000,
          "x": -372317.15625,
          "y": 6757047.5
         },
         {
          "rowid": 528338712221188100,
          "x": 367072.78125,
          "y": 5351173.5
         },
         {
          "rowid": 528339840668930050,
          "x": -962352.3125,
          "y": 5013276.5
         },
         {
          "rowid": 528342134957826050,
          "x": -97948.796875,
          "y": 4597233
         },
         {
          "rowid": 528342659048673300,
          "x": -6404.43310546875,
          "y": 6694793.5
         },
         {
          "rowid": 528341858100207600,
          "x": -189727.484375,
          "y": 7145521.5
         },
         {
          "rowid": 528339693772234750,
          "x": -174149.109375,
          "y": 7132648.5
         },
         {
          "rowid": 528338741560377340,
          "x": 3338519,
          "y": 3667256.75
         },
         {
          "rowid": 528339895103012860,
          "x": 3159168.5,
          "y": 4462554
         },
         {
          "rowid": 528341916459737100,
          "x": 3391380.5,
          "y": 6521145.5
         },
         {
          "rowid": 528342680099913700,
          "x": -450393.96875,
          "y": 5366254
         },
         {
          "rowid": 528341933601853440,
          "x": -25603.482421875,
          "y": 6693546
         },
         {
          "rowid": 528339894901702660,
          "x": 3204739.75,
          "y": 5028672.5
         },
         {
          "rowid": 528339349822513150,
          "x": 4161142,
          "y": 7312498.5
         },
         {
          "rowid": 528342659077636100,
          "x": 5202924.5,
          "y": 2848738.5
         },
         {
          "rowid": 528339362287984640,
          "x": -77918.7421875,
          "y": 6676750.5
         },
         {
          "rowid": 528339597185789950,
          "x": -566392.4375,
          "y": 4896562
         },
         {
          "rowid": 528337252435636200,
          "x": -125402.296875,
          "y": 4577553.5
         },
         {
          "rowid": 528338716553908200,
          "x": 3853064,
          "y": 4418400.5
         },
         {
          "rowid": 528342570888597500,
          "x": -286809.78125,
          "y": 7058469.5
         }
        ]
       },
       "encoding": {
        "x": {
         "field": "x",
         "scale": {
          "domain": [
           -3650484.1235206556,
           7413325.514451755
          ],
          "range": "width"
         },
         "type": "quantitative"
        },
        "y": {
         "field": "y",
         "scale": {
          "domain": [
           -5778161.9183506705,
           10471808.487466192
          ],
          "range": "height"
         },
         "type": "quantitative"
        }
       },
       "mark": {
        "clip": true,
        "color": "green",
        "size": 20,
        "type": "square"
       }
      },
      "image/png": "[encoded data removed]",
      "text/plain": [
       "<VegaLite 2 object>\n",
       "\n",
       "If you see this message, it means the renderer has not been properly enabled\n",
       "for the frontend that you are using. For more information, see\n",
       "https://altair-viz.github.io/user_guide/troubleshooting.html\n"
      ]
     },
     "execution_count": 25,
     "metadata": {},
     "output_type": "execute_result"
    }
   ],
   "source": [
    "alt.renderers.enable('default')\n",
    "chart(mapd_expr.limit(100).execute())"
   ]
  },
  {
   "cell_type": "markdown",
   "metadata": {},
   "source": [
    "## MapD Altair renderer"
   ]
  },
  {
   "cell_type": "code",
   "execution_count": 27,
   "metadata": {},
   "outputs": [
    {
     "data": {
      "application/vnd.mapd.vega+json": {
       "connection": {
        "dbName": "mapd",
        "host": "metis.mapd.com",
        "password": "HyperInteractive",
        "port": 443,
        "protocol": "https",
        "user": "mapd"
       },
       "vegalite": {
        "$schema": "https://vega.github.io/schema/vega-lite/v2.4.1.json",
        "config": {
         "view": {
          "height": 300,
          "width": 400
         }
        },
        "data": {
         "name": "mapd_data"
        },
        "encoding": {
         "x": {
          "field": "x",
          "scale": {
           "domain": [
            -3650484.1235206556,
            7413325.514451755
           ],
           "range": "width"
          },
          "type": "quantitative"
         },
         "y": {
          "field": "y",
          "scale": {
           "domain": [
            -5778161.9183506705,
            10471808.487466192
           ],
           "range": "height"
          },
          "type": "quantitative"
         }
        },
        "mark": {
         "clip": true,
         "color": "green",
         "size": 20,
         "type": "square"
        }
       }
      },
      "image/png": "[encoded data removed]",
      "text/plain": [
       "Chart({\n",
       "  data: 'SELECT *\\nFROM (\\n  SELECT \"goog_x\" AS x, \"goog_y\" AS y, \"tweet_id\" AS rowid\\n  FROM tweets_nov_feb\\n) t0\\nWHERE \"x\" < 7413325.514451755 AND\\n      \"x\" > -3650484.1235206556 AND\\n      \"y\" < 10471808.487466192 AND\\n      \"y\" > -5778161.9183506705',\n",
       "  encoding: EncodingWithFacet({\n",
       "    x: X({\n",
       "      scale: Scale({\n",
       "        domain: [-3650484.1235206556, 7413325.514451755],\n",
       "        range: 'width'\n",
       "      }),\n",
       "      shorthand: 'x:Q'\n",
       "    }),\n",
       "    y: Y({\n",
       "      scale: Scale({\n",
       "        domain: [-5778161.9183506705, 10471808.487466192],\n",
       "        range: 'height'\n",
       "      }),\n",
       "      shorthand: 'y:Q'\n",
       "    })\n",
       "  }),\n",
       "  mark: MarkDef({\n",
       "    clip: True,\n",
       "    color: 'green',\n",
       "    size: 20,\n",
       "    type: 'square'\n",
       "  })\n",
       "})"
      ]
     },
     "execution_count": 27,
     "metadata": {},
     "output_type": "execute_result"
    }
   ],
   "source": [
    "alt.renderers.enable('mapd', conn=mapd_cli)\n",
    "chart(mapd_expr.compile())"
   ]
  },
  {
   "cell_type": "code",
   "execution_count": null,
   "metadata": {},
   "outputs": [],
   "source": []
  }
 ],
 "metadata": {
  "kernelspec": {
   "display_name": "Python 3",
   "language": "python",
   "name": "python3"
  },
  "language_info": {
   "codemirror_mode": {
    "name": "ipython",
    "version": 3
   },
   "file_extension": ".py",
   "mimetype": "text/x-python",
   "name": "python",
   "nbconvert_exporter": "python",
   "pygments_lexer": "ipython3",
   "version": "3.6.3"
  }
 },
 "nbformat": 4,
 "nbformat_minor": 2
}
