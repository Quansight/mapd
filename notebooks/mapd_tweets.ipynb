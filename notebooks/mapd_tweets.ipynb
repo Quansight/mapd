{
 "cells": [
  {
   "cell_type": "code",
   "execution_count": 28,
   "metadata": {},
   "outputs": [],
   "source": [
    "import mapd_renderer\n",
    "import ibis\n",
    "import altair as alt"
   ]
  },
  {
   "cell_type": "code",
   "execution_count": 50,
   "metadata": {},
   "outputs": [],
   "source": [
    "host = dict(\n",
    "    host='metis.mapd.com', user='mapd', password='HyperInteractive',\n",
    "    port=443, database='mapd', protocol= 'https')\n",
    "    \n",
    "TABLE_NAME = 'tweets_nov_feb'"
   ]
  },
  {
   "cell_type": "code",
   "execution_count": 51,
   "metadata": {},
   "outputs": [],
   "source": [
    "    host = dict(\n",
    "        host='qs-dev.mapd.com', port='9092', \n",
    "        user='mapd', password='HyperInteractive', \n",
    "        database='mapd', protocol=\"http\")\n",
    "    TABLE_NAME = 'tweet'"
   ]
  },
  {
   "cell_type": "code",
   "execution_count": 52,
   "metadata": {},
   "outputs": [],
   "source": [
    "mapd = ibis.mapd.connect(**host)\n",
    "table = mapd.table(TABLE_NAME)\n",
    "expr = table[table.goog_x, table.goog_y, table.tweet_id]\n",
    "expr = expr.filter([\n",
    "    expr.goog_x < 7413325.514451755,\n",
    "    expr.goog_x > -3650484.1235206556, \n",
    "    expr.goog_y < 10471808.487466192,\n",
    "    expr.goog_y > -5778161.9183506705, \n",
    "])"
   ]
  },
  {
   "cell_type": "code",
   "execution_count": 53,
   "metadata": {},
   "outputs": [],
   "source": [
    "pandas = ibis.pandas.connect({table.name: expr.limit(100).execute()})"
   ]
  },
  {
   "cell_type": "markdown",
   "metadata": {},
   "source": [
    "# Plotting a subset of the MapD data."
   ]
  },
  {
   "cell_type": "code",
   "execution_count": 54,
   "metadata": {},
   "outputs": [],
   "source": [
    "def expression(t):\n",
    "    expr = t[t.goog_x.name('x'), t.goog_y.name('y'), t.tweet_id.name('rowid')]\n",
    "    expr = expr.filter([\n",
    "        expr.x < 7413325.514451755,\n",
    "        expr.x > -3650484.1235206556, \n",
    "        expr.y < 10471808.487466192,\n",
    "        expr.y > -5778161.9183506705, \n",
    "    ])\n",
    "    return expr"
   ]
  },
  {
   "cell_type": "code",
   "execution_count": 55,
   "metadata": {},
   "outputs": [],
   "source": [
    "pandas_expr = expression(pandas.table(table.name))"
   ]
  },
  {
   "cell_type": "code",
   "execution_count": 56,
   "metadata": {},
   "outputs": [],
   "source": [
    "alt.renderers.enable('default')\n",
    "\n",
    "chart = lambda object: alt.Chart(object).mark_square(\n",
    "    color='green',\n",
    "    size=20,\n",
    "    clip=True\n",
    ").encode(\n",
    "    alt.X(\n",
    "        'x:Q',\n",
    "        scale=alt.Scale(domain=[-3650484.1235206556, 7413325.514451755], range='width')\n",
    "    ),\n",
    "    alt.Y(\n",
    "        'y:Q',\n",
    "        scale=alt.Scale(domain=[-5778161.9183506705, 10471808.487466192], range='height')\n",
    "    ),)"
   ]
  },
  {
   "cell_type": "code",
   "execution_count": 57,
   "metadata": {},
   "outputs": [
    {
     "data": {
      "application/vnd.vegalite.v2+json": {
       "$schema": "https://vega.github.io/schema/vega-lite/v2.4.1.json",
       "config": {
        "view": {
         "height": 300,
         "width": 400
        }
       },
       "data": {
        "values": [
         {
          "rowid": 528338628142190600,
          "x": 264361.09375,
          "y": 6269348.5
         },
         {
          "rowid": 528341924999348200,
          "x": -377466.125,
          "y": 6554751.5
         },
         {
          "rowid": 528342155820269600,
          "x": -377850.84375,
          "y": 6554952.5
         },
         {
          "rowid": 528341014923448300,
          "x": 194038.5625,
          "y": 5905242.5
         },
         {
          "rowid": 528341191071658000,
          "x": -1021111,
          "y": 4663120.5
         },
         {
          "rowid": 528336371879256060,
          "x": 3246801.75,
          "y": 5012516.5
         },
         {
          "rowid": 528339836126494700,
          "x": 4503205,
          "y": 2420709.25
         },
         {
          "rowid": 528339358034968600,
          "x": 3562137.25,
          "y": 4375844.5
         },
         {
          "rowid": 528340536613408800,
          "x": 3021492.25,
          "y": 4641388
         },
         {
          "rowid": 528337214699487200,
          "x": -210038.734375,
          "y": 6887296.5
         },
         {
          "rowid": 528340662635483140,
          "x": 342602.09375,
          "y": 6548405.5
         },
         {
          "rowid": 528340771410571260,
          "x": -89368.953125,
          "y": 4602769
         },
         {
          "rowid": 528341484689698800,
          "x": 3383219.75,
          "y": 4980028
         },
         {
          "rowid": 528342294148423700,
          "x": 3515859.5,
          "y": 4971906
         },
         {
          "rowid": 528337101704949760,
          "x": 307622.625,
          "y": 6252332.5
         },
         {
          "rowid": 528342910605877250,
          "x": 5201865,
          "y": 2853298.5
         },
         {
          "rowid": 528339681222484000,
          "x": 5329774.5,
          "y": 3410057
         },
         {
          "rowid": 528337206260555800,
          "x": -231925.03125,
          "y": 6944986.5
         },
         {
          "rowid": 528342298535657500,
          "x": 3094718.75,
          "y": 4555683.5
         },
         {
          "rowid": 528342147519741950,
          "x": -322617.125,
          "y": 7019511
         },
         {
          "rowid": 528341501215252500,
          "x": 3482912.5,
          "y": 3513774
         },
         {
          "rowid": 528338334834507800,
          "x": 4227150,
          "y": 7517760
         },
         {
          "rowid": 528337961226887200,
          "x": 212505.34375,
          "y": 6270666.5
         },
         {
          "rowid": 528342688282984450,
          "x": 59802.8359375,
          "y": 6688350.5
         },
         {
          "rowid": 528342856109666300,
          "x": 6666.36767578125,
          "y": 6708524
         },
         {
          "rowid": 528342302545440800,
          "x": -167968.75,
          "y": 7110508.5
         },
         {
          "rowid": 528338733255626750,
          "x": -154500.09375,
          "y": 7156916.5
         },
         {
          "rowid": 528342004791382000,
          "x": 5723310.5,
          "y": 2909667
         },
         {
          "rowid": 528341958482468860,
          "x": -891161.625,
          "y": 4456896.5
         },
         {
          "rowid": 528338150004109300,
          "x": -421740.5625,
          "y": 4908022.5
         },
         {
          "rowid": 528342130599931900,
          "x": 1151085.5,
          "y": 5698933.5
         },
         {
          "rowid": 528342524814192640,
          "x": 3658703.75,
          "y": 4852369
         },
         {
          "rowid": 528339769244545000,
          "x": 3239944.75,
          "y": 4897314
         },
         {
          "rowid": 528341673219473400,
          "x": 3995565.25,
          "y": 7728567
         },
         {
          "rowid": 528338586429833200,
          "x": 1614048.125,
          "y": 6460033
         },
         {
          "rowid": 528337906981957600,
          "x": 563492.6875,
          "y": 6646324
         },
         {
          "rowid": 528342843702906900,
          "x": 160727.203125,
          "y": 5404031.5
         },
         {
          "rowid": 528337319527739400,
          "x": -709605.5625,
          "y": 7036886
         },
         {
          "rowid": 528341946054344700,
          "x": 4407251.5,
          "y": 2811771
         },
         {
          "rowid": 528338800402239500,
          "x": 50377.5234375,
          "y": 6337077.5
         },
         {
          "rowid": 528342746965479400,
          "x": 2010883.625,
          "y": 8252581
         },
         {
          "rowid": 528342482833375200,
          "x": -129487.2734375,
          "y": 6904888.5
         },
         {
          "rowid": 528341484760625150,
          "x": 4365114.5,
          "y": 2462994
         },
         {
          "rowid": 528339991660093440,
          "x": -4272.21923828125,
          "y": 6717935.5
         },
         {
          "rowid": 528339525790347260,
          "x": 511486.21875,
          "y": 6852293.5
         },
         {
          "rowid": 528337223230701600,
          "x": 31122.703125,
          "y": 7039624.5
         },
         {
          "rowid": 528336627735613440,
          "x": 5358972.5,
          "y": 3386579.75
         },
         {
          "rowid": 528338913409380350,
          "x": -775103.375,
          "y": 4703118
         },
         {
          "rowid": 528341958608289800,
          "x": -934829.5625,
          "y": 5370518.5
         },
         {
          "rowid": 528338330677952500,
          "x": 3430740.25,
          "y": 3609871.25
         },
         {
          "rowid": 528342239517229060,
          "x": 4365316,
          "y": 2483905.75
         },
         {
          "rowid": 528339861481484300,
          "x": 3218896,
          "y": 5017504.5
         },
         {
          "rowid": 528336665589592060,
          "x": 351357.15625,
          "y": 6574272.5
         },
         {
          "rowid": 528337282143891460,
          "x": -891257.6875,
          "y": 4757423.5
         },
         {
          "rowid": 528339307942408200,
          "x": -292933.5625,
          "y": 6843083.5
         },
         {
          "rowid": 528342172547162100,
          "x": 4902002,
          "y": 3844368.25
         },
         {
          "rowid": 528338854676156400,
          "x": 544980.375,
          "y": 6866521
         },
         {
          "rowid": 528343455815454700,
          "x": 3098112.5,
          "y": 4710687
         },
         {
          "rowid": 528343615249334300,
          "x": 1107902.25,
          "y": 6827871.5
         },
         {
          "rowid": 528339320504336400,
          "x": -823897.375,
          "y": 6953732.5
         },
         {
          "rowid": 528342445206286340,
          "x": 495980.65625,
          "y": 6783386
         },
         {
          "rowid": 528341815796432900,
          "x": -376922.78125,
          "y": 6754965
         },
         {
          "rowid": 528339806733213700,
          "x": 3029853.25,
          "y": 5120959
         },
         {
          "rowid": 528339483863683100,
          "x": 5201019.5,
          "y": 2830635
         },
         {
          "rowid": 528338359903871000,
          "x": 3633646.75,
          "y": 4862879.5
         },
         {
          "rowid": 528336669649678340,
          "x": -709786.75,
          "y": 4787245.5
         },
         {
          "rowid": 528342973508227100,
          "x": 362975.5625,
          "y": 719740.3125
         },
         {
          "rowid": 528342009036419100,
          "x": -660135.625,
          "y": 5399161
         },
         {
          "rowid": 528338741455503360,
          "x": 261998.65625,
          "y": 6255346.5
         },
         {
          "rowid": 528342273264992260,
          "x": -508434.53125,
          "y": 4441799
         },
         {
          "rowid": 528339408475652100,
          "x": -493289.625,
          "y": 4505620
         },
         {
          "rowid": 528340666896900100,
          "x": -7051.978515625,
          "y": 6713267
         },
         {
          "rowid": 528338213161955300,
          "x": -406623.5,
          "y": 4924325
         },
         {
          "rowid": 528342038442291200,
          "x": 5194876,
          "y": 2831648.5
         },
         {
          "rowid": 528343871131222000,
          "x": -832967.125,
          "y": 4838651.5
         },
         {
          "rowid": 528338208967643140,
          "x": -1001972.125,
          "y": 7036076.5
         },
         {
          "rowid": 528338611427880960,
          "x": 2644799.75,
          "y": 4576619.5
         },
         {
          "rowid": 528342000655798300,
          "x": 4605271.5,
          "y": 2117977.25
         },
         {
          "rowid": 528343174763544600,
          "x": 636778.4375,
          "y": 7039149.5
         },
         {
          "rowid": 528342407528869900,
          "x": 3225943.75,
          "y": 5016080.5
         },
         {
          "rowid": 528340293419298800,
          "x": -13804.28515625,
          "y": 6598131.5
         },
         {
          "rowid": 528339605536649200,
          "x": 249508.28125,
          "y": 6303029.5
         },
         {
          "rowid": 528343326102392800,
          "x": -1044065.625,
          "y": 4682413.5
         },
         {
          "rowid": 528339807051984900,
          "x": 2334413.5,
          "y": 5284442
         },
         {
          "rowid": 528337286032031740,
          "x": 605285.375,
          "y": 6696085
         },
         {
          "rowid": 528338263254532100,
          "x": 3242802,
          "y": 5001446
         },
         {
          "rowid": 528342579424026600,
          "x": 3261515.5,
          "y": 4999983.5
         },
         {
          "rowid": 528338636799246340,
          "x": -119446.1484375,
          "y": 4575323
         },
         {
          "rowid": 528340767610515460,
          "x": 370971.09375,
          "y": 724685.625
         },
         {
          "rowid": 528339580622499840,
          "x": -306276,
          "y": 6930595
         },
         {
          "rowid": 528338896745017340,
          "x": 4367612.5,
          "y": 2456052.75
         },
         {
          "rowid": 528338796052770800,
          "x": 287089.0625,
          "y": 6357190
         },
         {
          "rowid": 528340951836942340,
          "x": 254024.953125,
          "y": 6247953.5
         },
         {
          "rowid": 528339676944683000,
          "x": 3015894.75,
          "y": 4649276
         },
         {
          "rowid": 528338091581640700,
          "x": 1321118.25,
          "y": -536580.9375
         },
         {
          "rowid": 528340541071953900,
          "x": 242443.171875,
          "y": 6264851.5
         },
         {
          "rowid": 528339953865199600,
          "x": 4422533,
          "y": 5010955.5
         },
         {
          "rowid": 528338208850186240,
          "x": -175437.625,
          "y": 7291889
         },
         {
          "rowid": 528342734554550300,
          "x": 3399711.25,
          "y": 6519277.5
         },
         {
          "rowid": 528342625607503900,
          "x": 3097203,
          "y": -3029783.25
         }
        ]
       },
       "encoding": {
        "x": {
         "field": "x",
         "scale": {
          "domain": [
           -3650484.1235206556,
           7413325.514451755
          ],
          "range": "width"
         },
         "type": "quantitative"
        },
        "y": {
         "field": "y",
         "scale": {
          "domain": [
           -5778161.9183506705,
           10471808.487466192
          ],
          "range": "height"
         },
         "type": "quantitative"
        }
       },
       "mark": {
        "clip": true,
        "color": "green",
        "size": 20,
        "type": "square"
       }
      },
      "image/png": "[encoded data removed]",
      "text/plain": [
       "<VegaLite 2 object>\n",
       "\n",
       "If you see this message, it means the renderer has not been properly enabled\n",
       "for the frontend that you are using. For more information, see\n",
       "https://altair-viz.github.io/user_guide/troubleshooting.html\n"
      ]
     },
     "execution_count": 57,
     "metadata": {},
     "output_type": "execute_result"
    }
   ],
   "source": [
    "chart(pandas_expr.execute())"
   ]
  },
  {
   "cell_type": "code",
   "execution_count": 58,
   "metadata": {},
   "outputs": [],
   "source": [
    "mapd_expr = expression(mapd.table(table.name))"
   ]
  },
  {
   "cell_type": "markdown",
   "metadata": {},
   "source": [
    "# Plotting All the MapD data"
   ]
  },
  {
   "cell_type": "markdown",
   "metadata": {},
   "source": [
    "## Basic Altair Renderer"
   ]
  },
  {
   "cell_type": "code",
   "execution_count": 59,
   "metadata": {},
   "outputs": [
    {
     "data": {
      "application/vnd.vegalite.v2+json": {
       "$schema": "https://vega.github.io/schema/vega-lite/v2.4.1.json",
       "config": {
        "view": {
         "height": 300,
         "width": 400
        }
       },
       "data": {
        "values": [
         {
          "rowid": 528339358034968600,
          "x": 3562137.25,
          "y": 4375844.5
         },
         {
          "rowid": 528341484689698800,
          "x": 3383219.75,
          "y": 4980028
         },
         {
          "rowid": 528337101704949760,
          "x": 307622.625,
          "y": 6252332.5
         },
         {
          "rowid": 528342298535657500,
          "x": 3094718.75,
          "y": 4555683.5
         },
         {
          "rowid": 528342688282984450,
          "x": 59802.8359375,
          "y": 6688350.5
         },
         {
          "rowid": 528342445206286340,
          "x": 495980.65625,
          "y": 6783386
         },
         {
          "rowid": 528338733255626750,
          "x": -154500.09375,
          "y": 7156916.5
         },
         {
          "rowid": 528340771410571260,
          "x": -89368.953125,
          "y": 4602769
         },
         {
          "rowid": 528342000655798300,
          "x": 4605271.5,
          "y": 2117977.25
         },
         {
          "rowid": 528337319527739400,
          "x": -709605.5625,
          "y": 7036886
         },
         {
          "rowid": 528342239517229060,
          "x": 4365316,
          "y": 2483905.75
         },
         {
          "rowid": 528338263254532100,
          "x": 3242802,
          "y": 5001446
         },
         {
          "rowid": 528338334834507800,
          "x": 4227150,
          "y": 7517760
         },
         {
          "rowid": 528340951836942340,
          "x": 254024.953125,
          "y": 6247953.5
         },
         {
          "rowid": 528342172547162100,
          "x": 4902002,
          "y": 3844368.25
         },
         {
          "rowid": 528339483863683100,
          "x": 5201019.5,
          "y": 2830635
         },
         {
          "rowid": 528343615249334300,
          "x": 1107902.25,
          "y": 6827871.5
         },
         {
          "rowid": 528343451902181400,
          "x": 3480354,
          "y": 3506524.75
         },
         {
          "rowid": 528342444954640400,
          "x": -709476.5,
          "y": 4789263
         },
         {
          "rowid": 528338213161955300,
          "x": -406623.5,
          "y": 4924325
         },
         {
          "rowid": 528338045477867500,
          "x": 223909.578125,
          "y": 6283131
         },
         {
          "rowid": 528337093333106700,
          "x": 4170517.5,
          "y": 7520089
         },
         {
          "rowid": 528341014923448300,
          "x": 194038.5625,
          "y": 5905242.5
         },
         {
          "rowid": 528337235947847700,
          "x": 3156759.5,
          "y": 4468318.5
         },
         {
          "rowid": 528342038442291200,
          "x": 5194876,
          "y": 2831648.5
         },
         {
          "rowid": 528338586283048960,
          "x": -234791.953125,
          "y": 7026563
         },
         {
          "rowid": 528342407528869900,
          "x": 3225943.75,
          "y": 5016080.5
         },
         {
          "rowid": 528343091133313000,
          "x": 1021081.9375,
          "y": 5685731.5
         },
         {
          "rowid": 528337319833915400,
          "x": 287086.5,
          "y": 6357192.5
         },
         {
          "rowid": 528338636799246340,
          "x": -119446.1484375,
          "y": 4575323
         },
         {
          "rowid": 528339836126494700,
          "x": 4503205,
          "y": 2420709.25
         },
         {
          "rowid": 528338800213524500,
          "x": -963711.4375,
          "y": 5241757.5
         },
         {
          "rowid": 528342302553829400,
          "x": -75858,
          "y": 5602238.5
         },
         {
          "rowid": 528343066021986300,
          "x": 534206.75,
          "y": 5742244
         },
         {
          "rowid": 528337235918471200,
          "x": 2024181.5,
          "y": 4917890
         },
         {
          "rowid": 528341958482468860,
          "x": -891161.625,
          "y": 4456896.5
         },
         {
          "rowid": 528339874206982140,
          "x": 394256.21875,
          "y": 6507798
         },
         {
          "rowid": 528341950228090900,
          "x": 3704.267333984375,
          "y": 6957301
         },
         {
          "rowid": 528339785971417100,
          "x": 260985.3125,
          "y": 6250156.5
         },
         {
          "rowid": 528339316029022200,
          "x": 3659333.25,
          "y": 4863593
         },
         {
          "rowid": 528339496379891700,
          "x": -934501.0625,
          "y": 5365596.5
         },
         {
          "rowid": 528338917532368900,
          "x": -33415.44140625,
          "y": 6636272
         },
         {
          "rowid": 528343871110254600,
          "x": 2640069.25,
          "y": 4579553
         },
         {
          "rowid": 528341669326749700,
          "x": 240515.78125,
          "y": 5070876
         },
         {
          "rowid": 528339882243264500,
          "x": 539473.0625,
          "y": 5747434
         },
         {
          "rowid": 528339525790347260,
          "x": 511486.21875,
          "y": 6852293.5
         },
         {
          "rowid": 528339408593100800,
          "x": 778170,
          "y": 5400792
         },
         {
          "rowid": 528342159792275460,
          "x": -882558.875,
          "y": 4962025.5
         },
         {
          "rowid": 528342482741108740,
          "x": -954260.3125,
          "y": 5046358.5
         },
         {
          "rowid": 528337269313515500,
          "x": -409223.90625,
          "y": 4926944
         },
         {
          "rowid": 528342168348655600,
          "x": 3069917.5,
          "y": 5010421.5
         },
         {
          "rowid": 528342201970204700,
          "x": -956815.0625,
          "y": 4953231.5
         },
         {
          "rowid": 528341199250530300,
          "x": -664515.5625,
          "y": 4497283.5
         },
         {
          "rowid": 528339320504336400,
          "x": -823897.375,
          "y": 6953732.5
         },
         {
          "rowid": 528341287720976400,
          "x": 500623.78125,
          "y": 6593367.5
         },
         {
          "rowid": 528342009036419100,
          "x": -660135.625,
          "y": 5399161
         },
         {
          "rowid": 528340666779062300,
          "x": -14148.70703125,
          "y": 6711345.5
         },
         {
          "rowid": 528342608838275100,
          "x": 5574756,
          "y": 3050008.5
         },
         {
          "rowid": 528343619422269440,
          "x": 4414835,
          "y": 2809038
         },
         {
          "rowid": 528339811133038600,
          "x": 339377.9375,
          "y": 4399669.5
         },
         {
          "rowid": 528342860559822850,
          "x": -280972.96875,
          "y": 6929281
         },
         {
          "rowid": 528342738648174600,
          "x": 3380427.25,
          "y": 4973172.5
         },
         {
          "rowid": 528342700920438800,
          "x": 2477639.5,
          "y": 5398689.5
         },
         {
          "rowid": 528342579424026600,
          "x": 3261515.5,
          "y": 4999983.5
         },
         {
          "rowid": 528340956089962500,
          "x": 4271843,
          "y": 4999669
         },
         {
          "rowid": 528339823795642400,
          "x": 3189749,
          "y": 5014926
         },
         {
          "rowid": 528343632324345860,
          "x": 3068771.75,
          "y": 4558203.5
         },
         {
          "rowid": 528342675674918900,
          "x": 218330.03125,
          "y": 6200995
         },
         {
          "rowid": 528338770920505340,
          "x": 3221454.75,
          "y": 5015536.5
         },
         {
          "rowid": 528339492307238900,
          "x": 211502.796875,
          "y": 6098696
         },
         {
          "rowid": 528337348983914500,
          "x": 4363157,
          "y": 2481813
         },
         {
          "rowid": 528342294240710660,
          "x": -254930.765625,
          "y": 7114072.5
         },
         {
          "rowid": 528341501353689100,
          "x": 772588.3125,
          "y": 5395624.5
         },
         {
          "rowid": 528338649088524300,
          "x": 517748.71875,
          "y": 6875590
         },
         {
          "rowid": 528339370760482800,
          "x": -1733115.125,
          "y": 3218992.75
         },
         {
          "rowid": 528337214699487200,
          "x": -210038.734375,
          "y": 6887296.5
         },
         {
          "rowid": 528340952021467140,
          "x": -186267.890625,
          "y": 4585618.5
         },
         {
          "rowid": 528340805040500740,
          "x": -12371.8251953125,
          "y": 6727592
         },
         {
          "rowid": 528342579537276900,
          "x": 372644,
          "y": 737761.1875
         },
         {
          "rowid": 528343879725350900,
          "x": 165611.34375,
          "y": 6049797.5
         },
         {
          "rowid": 528339916086730750,
          "x": 5168283.5,
          "y": 2852119.75
         },
         {
          "rowid": 528338854689136640,
          "x": -722380.125,
          "y": 4492058.5
         },
         {
          "rowid": 528341203461603300,
          "x": -57925.09765625,
          "y": 5597494.5
         },
         {
          "rowid": 528337273637830660,
          "x": 2834029.25,
          "y": 6947583
         },
         {
          "rowid": 528342864385015800,
          "x": 286586.6875,
          "y": 6263934
         },
         {
          "rowid": 528342025515860000,
          "x": 3225154,
          "y": 5020227
         },
         {
          "rowid": 528338741459681300,
          "x": 3213313.25,
          "y": 5011395
         },
         {
          "rowid": 528341686104391700,
          "x": 122981.2109375,
          "y": 6330912
         },
         {
          "rowid": 528338477520519200,
          "x": 1944640.125,
          "y": 7227793
         },
         {
          "rowid": 528341056665186300,
          "x": 5353171,
          "y": 3400255.25
         },
         {
          "rowid": 528343078470680600,
          "x": 241400.4375,
          "y": 6235093
         },
         {
          "rowid": 528342202032734200,
          "x": 4365542.5,
          "y": 2482910.75
         },
         {
          "rowid": 528338649352777700,
          "x": 3478377.25,
          "y": 3514122.25
         },
         {
          "rowid": 528342583467323400,
          "x": 3232049,
          "y": 5020068.5
         },
         {
          "rowid": 528341312530300900,
          "x": 281945.78125,
          "y": 6227980
         },
         {
          "rowid": 528341920729550850,
          "x": 2355335.75,
          "y": 5260633
         },
         {
          "rowid": 528339953689055200,
          "x": 255527.875,
          "y": 6201376
         },
         {
          "rowid": 528340272372281340,
          "x": -945281.6875,
          "y": 4994649.5
         },
         {
          "rowid": 528338720463024100,
          "x": 3097203,
          "y": -3029783.25
         },
         {
          "rowid": 528343875333918700,
          "x": 964426.5625,
          "y": 6339839
         }
        ]
       },
       "encoding": {
        "x": {
         "field": "x",
         "scale": {
          "domain": [
           -3650484.1235206556,
           7413325.514451755
          ],
          "range": "width"
         },
         "type": "quantitative"
        },
        "y": {
         "field": "y",
         "scale": {
          "domain": [
           -5778161.9183506705,
           10471808.487466192
          ],
          "range": "height"
         },
         "type": "quantitative"
        }
       },
       "mark": {
        "clip": true,
        "color": "green",
        "size": 20,
        "type": "square"
       }
      },
      "image/png": "[encoded data removed]",
      "text/plain": [
       "<VegaLite 2 object>\n",
       "\n",
       "If you see this message, it means the renderer has not been properly enabled\n",
       "for the frontend that you are using. For more information, see\n",
       "https://altair-viz.github.io/user_guide/troubleshooting.html\n"
      ]
     },
     "execution_count": 59,
     "metadata": {},
     "output_type": "execute_result"
    }
   ],
   "source": [
    "alt.renderers.enable('default')\n",
    "chart(mapd_expr.limit(100).execute())"
   ]
  },
  {
   "cell_type": "markdown",
   "metadata": {},
   "source": [
    "## MapD Altair renderer"
   ]
  },
  {
   "cell_type": "code",
   "execution_count": 60,
   "metadata": {},
   "outputs": [
    {
     "data": {
      "application/vnd.mapd.vega+json": {
       "connection": {
        "dbName": "mapd",
        "host": "qs-dev.mapd.com",
        "password": "HyperInteractive",
        "port": "9092",
        "protocol": "http",
        "user": "mapd"
       },
       "vegalite": {
        "$schema": "https://vega.github.io/schema/vega-lite/v2.4.1.json",
        "config": {
         "view": {
          "height": 300,
          "width": 400
         }
        },
        "data": {
         "name": "mapd_data"
        },
        "encoding": {
         "x": {
          "field": "x",
          "scale": {
           "domain": [
            -3650484.1235206556,
            7413325.514451755
           ],
           "range": "width"
          },
          "type": "quantitative"
         },
         "y": {
          "field": "y",
          "scale": {
           "domain": [
            -5778161.9183506705,
            10471808.487466192
           ],
           "range": "height"
          },
          "type": "quantitative"
         }
        },
        "mark": {
         "clip": true,
         "color": "green",
         "size": 20,
         "type": "square"
        }
       }
      },
      "image/png": "[encoded data removed]",
      "text/plain": [
       "Chart({\n",
       "  data: 'SELECT *\\nFROM (\\n  SELECT \"goog_x\" AS x, \"goog_y\" AS y, \"tweet_id\" AS rowid\\n  FROM tweet\\n) t0\\nWHERE (\"x\" < 7413325.514451755) AND\\n      (\"x\" > -3650484.1235206556) AND\\n      (\"y\" < 10471808.487466192) AND\\n      (\"y\" > -5778161.9183506705)',\n",
       "  encoding: EncodingWithFacet({\n",
       "    x: X({\n",
       "      scale: Scale({\n",
       "        domain: [-3650484.1235206556, 7413325.514451755],\n",
       "        range: 'width'\n",
       "      }),\n",
       "      shorthand: 'x:Q'\n",
       "    }),\n",
       "    y: Y({\n",
       "      scale: Scale({\n",
       "        domain: [-5778161.9183506705, 10471808.487466192],\n",
       "        range: 'height'\n",
       "      }),\n",
       "      shorthand: 'y:Q'\n",
       "    })\n",
       "  }),\n",
       "  mark: MarkDef({\n",
       "    clip: True,\n",
       "    color: 'green',\n",
       "    size: 20,\n",
       "    type: 'square'\n",
       "  })\n",
       "})"
      ]
     },
     "execution_count": 60,
     "metadata": {},
     "output_type": "execute_result"
    }
   ],
   "source": [
    "alt.renderers.enable('mapd', conn=mapd)\n",
    "chart(mapd_expr.compile())"
   ]
  }
 ],
 "metadata": {
  "kernelspec": {
   "display_name": "Python 3",
   "language": "python",
   "name": "python3"
  },
  "language_info": {
   "codemirror_mode": {
    "name": "ipython",
    "version": 3
   },
   "file_extension": ".py",
   "mimetype": "text/x-python",
   "name": "python",
   "nbconvert_exporter": "python",
   "pygments_lexer": "ipython3",
   "version": "3.6.3"
  }
 },
 "nbformat": 4,
 "nbformat_minor": 2
}
