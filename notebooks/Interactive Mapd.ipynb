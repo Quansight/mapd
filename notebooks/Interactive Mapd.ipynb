{
 "cells": [
  {
   "cell_type": "markdown",
   "metadata": {},
   "source": [
    "# Creating interactive MapD components with IPython\n",
    "\n",
    "MapD connects to the scipy ecosystem using the Ibis productivity framework and Jupyter Map D renderer.  These tools produce rich display representations of databases, dataframes and visualizations.  This notebook demonstrates these benefits using IPython widgets and magics to make MapD an interactive experience in the notebook.  \n",
    "\n",
    "* The jupyter MapD renderer provides Jupyter Lab user components to interact with MapD. This notebook uses a running I Python kernel and widgets to establish interactive components"
   ]
  },
  {
   "cell_type": "code",
   "execution_count": 51,
   "metadata": {
    "scrolled": true
   },
   "outputs": [],
   "source": [
    "    import ibis.mapd; from ipywidgets import *; from traitlets import dlink, observe\n",
    "    from IPython import display; from pandas import DataFrame, Series\n",
    "    yaml = lambda object: __import__('yaml').safe_load(__import__('io').StringIO(object))"
   ]
  },
  {
   "cell_type": "markdown",
   "metadata": {},
   "source": [
    "## Database connecions\n",
    "\n",
    "Store the database connections in a configparser."
   ]
  },
  {
   "cell_type": "code",
   "execution_count": 52,
   "metadata": {},
   "outputs": [],
   "source": [
    "    parser = __import__('configparser').ConfigParser(defaults=yaml(\"\"\"\n",
    "    {host: localhost, port: '9091', user: mapd, password: HyperInteractive, protocol: binary, database: mapd}\"\"\"))"
   ]
  },
  {
   "cell_type": "markdown",
   "metadata": {},
   "source": [
    "Add other databases, like the local immerse database provided by Docker hub"
   ]
  },
  {
   "cell_type": "markdown",
   "metadata": {},
   "source": [
    "Note: you can start the docker server with `docker run -p 9090-9092:9090-9092 mapd/mapd-ce-cpu:v4.1.0`"
   ]
  },
  {
   "cell_type": "code",
   "execution_count": 53,
   "metadata": {},
   "outputs": [],
   "source": [
    "    parser.read_dict(yaml(\"\"\"default: {}\n",
    "    immerse: {port: '9092', host: qs-dev.mapd.com, protocol: http}\n",
    "    metis: {host: metis.mapd.com, port: '443', protocol: https}\"\"\"))"
   ]
  },
  {
   "cell_type": "markdown",
   "metadata": {},
   "source": [
    "## Creating the widgets\n",
    "\n",
    "Using `ipywidgets` container objects hold state for our connections.  The `tables` object preview information about the table."
   ]
  },
  {
   "cell_type": "code",
   "execution_count": 54,
   "metadata": {},
   "outputs": [],
   "source": [
    "    connections = HBox(children=[Dropdown(options=parser.sections(), value='default', description='Connection'), HTML()])\n",
    "    tables = VBox(children=[Dropdown(description='tables'), HBox(), HTML()])"
   ]
  },
  {
   "cell_type": "markdown",
   "metadata": {},
   "source": [
    "The widget will hold the state for our application.  The `get_info` function returns the current active selection as told by the `connections` object."
   ]
  },
  {
   "cell_type": "code",
   "execution_count": 55,
   "metadata": {},
   "outputs": [],
   "source": [
    "    def get_info(): info = parser[connections.children[0].value]; return {**info, 'port': int(info['port'])}"
   ]
  },
  {
   "cell_type": "markdown",
   "metadata": {},
   "source": [
    "When a new connection is selected there will be a table that shares the connection information, and we reset our connection preview each time with `reset_tables`."
   ]
  },
  {
   "cell_type": "code",
   "execution_count": 56,
   "metadata": {},
   "outputs": [],
   "source": [
    "    def show_config(_): return reset_tables() or Series(dict(parser[_])).to_frame('').T.to_html()\n",
    "    def reset_tables(): tables.children[0].options, tables.children[1].children, tables.children[2].value = [], [], \"\""
   ]
  },
  {
   "cell_type": "markdown",
   "metadata": {},
   "source": [
    "Once a new connection is established we `list_tables` that are in the connection."
   ]
  },
  {
   "cell_type": "code",
   "execution_count": 57,
   "metadata": {},
   "outputs": [],
   "source": [
    "    def list_tables(_):\n",
    "        with ibis.mapd.connect(**get_info()) as con: return con.list_tables()"
   ]
  },
  {
   "cell_type": "markdown",
   "metadata": {},
   "source": [
    "After establishing the possible tables we can use the Ibis repr and pandas DataFrame to provide a preview of the data."
   ]
  },
  {
   "cell_type": "code",
   "execution_count": 58,
   "metadata": {},
   "outputs": [],
   "source": [
    "    def show_table(_):\n",
    "        try:\n",
    "            tablename = tables.children[0].value\n",
    "            with ibis.mapd.connect(**get_info()) as con:\n",
    "                selection = con.table(tablename)\n",
    "                img, table = HBox(children=[Output()]), HBox(children=[Output()])\n",
    "                with img.children[0]:  display.display(selection)\n",
    "                with table.children[0]:  display.display(selection.head().execute())\n",
    "                tables.children[2].value = f\"\"\"<code>select * from {tablename}</code>\"\"\"\n",
    "                return img, table\n",
    "        except: return []\n",
    "        "
   ]
  },
  {
   "cell_type": "markdown",
   "metadata": {},
   "source": [
    "## Dynamic Linking\n",
    "\n",
    "Dynamically linking the widget objects."
   ]
  },
  {
   "cell_type": "code",
   "execution_count": 59,
   "metadata": {},
   "outputs": [],
   "source": [
    "    dlink((connections.children[0], 'value'), (connections.children[1], 'value'), show_config)\n",
    "    dlink((connections.children[0], 'value'), (tables.children[0], 'options'), list_tables)\n",
    "    dlink((tables.children[0], 'value'), (tables.children[1], 'children'), show_table);"
   ]
  },
  {
   "cell_type": "code",
   "execution_count": 60,
   "metadata": {},
   "outputs": [
    {
     "data": {
      "application/vnd.jupyter.widget-view+json": {
       "model_id": "209d10927fa84b2cab5208ec609729d4",
       "version_major": 2,
       "version_minor": 0
      },
      "text/plain": [
       "VBox(children=(HBox(children=(Dropdown(description='Connection', options=('default', 'immerse', 'metis'), valu…"
      ]
     },
     "metadata": {},
     "output_type": "display_data"
    }
   ],
   "source": [
    "    manager = VBox(children=[connections, tables])\n",
    "    __name__ == '__main__' and manager"
   ]
  },
  {
   "cell_type": "code",
   "execution_count": 70,
   "metadata": {},
   "outputs": [],
   "source": [
    "    from IPython.core.magic import Magics, magics_class, register_line_cell_magic, cell_magic\n",
    "\n",
    "    @magics_class\n",
    "    class MapD(Magics):\n",
    "        def __init__(self, shell):\n",
    "            super().__init__(shell)\n",
    "            self.connections, self.tables = connections, tables\n",
    "\n",
    "        current_table = property(lambda x: x.tables.children[0].value)\n",
    "\n",
    "        @cell_magic\n",
    "        def mapd(self, line, cell=None):\n",
    "            cell = yaml(cell)\n",
    "            return {str: self.query, dict: self.view}[type(cell)](cell)\n",
    "\n",
    "        def query(self, object):\n",
    "            with ibis.mapd.connect(**get_info()) as con: return con.raw_sql(object, results=True).to_df()\n",
    "\n",
    "        def view(self, object):\n",
    "            m = __import__('mapd_renderer').MapDBackendRenderer({\n",
    "                'dbName' if 'database' == _0 else _0 : _1 \n",
    "                for _0, _1 in  get_info().items()}, object)\n",
    "            print(m._repr_mimebundle(None, None))\n",
    "            return m\n",
    "        \n",
    "   "
   ]
  },
  {
   "cell_type": "markdown",
   "metadata": {},
   "source": [
    "* Register the extension."
   ]
  },
  {
   "cell_type": "code",
   "execution_count": 62,
   "metadata": {},
   "outputs": [],
   "source": [
    "    def load_ipython_extension(ip): ip.register_magics(MapD(get_ipython()))\n",
    "    __name__ == '__main__' and load_ipython_extension(get_ipython())"
   ]
  },
  {
   "cell_type": "code",
   "execution_count": 64,
   "metadata": {},
   "outputs": [
    {
     "data": {
      "text/html": [
       "<div>\n",
       "<style scoped>\n",
       "    .dataframe tbody tr th:only-of-type {\n",
       "        vertical-align: middle;\n",
       "    }\n",
       "\n",
       "    .dataframe tbody tr th {\n",
       "        vertical-align: top;\n",
       "    }\n",
       "\n",
       "    .dataframe thead th {\n",
       "        text-align: right;\n",
       "    }\n",
       "</style>\n",
       "<table border=\"1\" class=\"dataframe\">\n",
       "  <thead>\n",
       "    <tr style=\"text-align: right;\">\n",
       "      <th></th>\n",
       "      <th>flight_year</th>\n",
       "      <th>flight_month</th>\n",
       "      <th>flight_dayofmonth</th>\n",
       "      <th>flight_dayofweek</th>\n",
       "      <th>deptime</th>\n",
       "      <th>crsdeptime</th>\n",
       "      <th>arrtime</th>\n",
       "      <th>crsarrtime</th>\n",
       "      <th>uniquecarrier</th>\n",
       "      <th>flightnum</th>\n",
       "      <th>...</th>\n",
       "      <th>dest_name</th>\n",
       "      <th>dest_city</th>\n",
       "      <th>dest_state</th>\n",
       "      <th>dest_country</th>\n",
       "      <th>dest_lat</th>\n",
       "      <th>dest_lon</th>\n",
       "      <th>origin_merc_x</th>\n",
       "      <th>origin_merc_y</th>\n",
       "      <th>dest_merc_x</th>\n",
       "      <th>dest_merc_y</th>\n",
       "    </tr>\n",
       "  </thead>\n",
       "  <tbody>\n",
       "    <tr>\n",
       "      <th>0</th>\n",
       "      <td>2008</td>\n",
       "      <td>1</td>\n",
       "      <td>31</td>\n",
       "      <td>4</td>\n",
       "      <td>2029</td>\n",
       "      <td>2015</td>\n",
       "      <td>2121</td>\n",
       "      <td>2120</td>\n",
       "      <td>WN</td>\n",
       "      <td>2809</td>\n",
       "      <td>...</td>\n",
       "      <td>Dallas Love</td>\n",
       "      <td>Dallas</td>\n",
       "      <td>TX</td>\n",
       "      <td>USA</td>\n",
       "      <td>32.847115</td>\n",
       "      <td>-96.851768</td>\n",
       "      <td>-11321852.0</td>\n",
       "      <td>4193733.0</td>\n",
       "      <td>-10781490.0</td>\n",
       "      <td>3875028.50</td>\n",
       "    </tr>\n",
       "    <tr>\n",
       "      <th>1</th>\n",
       "      <td>2008</td>\n",
       "      <td>1</td>\n",
       "      <td>31</td>\n",
       "      <td>4</td>\n",
       "      <td>1304</td>\n",
       "      <td>1225</td>\n",
       "      <td>1404</td>\n",
       "      <td>1330</td>\n",
       "      <td>WN</td>\n",
       "      <td>1064</td>\n",
       "      <td>...</td>\n",
       "      <td>Theodore F Green State</td>\n",
       "      <td>Providence</td>\n",
       "      <td>RI</td>\n",
       "      <td>USA</td>\n",
       "      <td>41.723999</td>\n",
       "      <td>-71.428223</td>\n",
       "      <td>-8534665.0</td>\n",
       "      <td>4746827.5</td>\n",
       "      <td>-7951353.0</td>\n",
       "      <td>5119725.00</td>\n",
       "    </tr>\n",
       "    <tr>\n",
       "      <th>2</th>\n",
       "      <td>2008</td>\n",
       "      <td>1</td>\n",
       "      <td>31</td>\n",
       "      <td>4</td>\n",
       "      <td>613</td>\n",
       "      <td>615</td>\n",
       "      <td>728</td>\n",
       "      <td>710</td>\n",
       "      <td>WN</td>\n",
       "      <td>1628</td>\n",
       "      <td>...</td>\n",
       "      <td>William P Hobby</td>\n",
       "      <td>Houston</td>\n",
       "      <td>TX</td>\n",
       "      <td>USA</td>\n",
       "      <td>29.645418</td>\n",
       "      <td>-95.278893</td>\n",
       "      <td>-10781490.0</td>\n",
       "      <td>3875028.5</td>\n",
       "      <td>-10606397.0</td>\n",
       "      <td>3458052.75</td>\n",
       "    </tr>\n",
       "    <tr>\n",
       "      <th>3</th>\n",
       "      <td>2008</td>\n",
       "      <td>1</td>\n",
       "      <td>31</td>\n",
       "      <td>4</td>\n",
       "      <td>1118</td>\n",
       "      <td>1120</td>\n",
       "      <td>1219</td>\n",
       "      <td>1225</td>\n",
       "      <td>WN</td>\n",
       "      <td>1759</td>\n",
       "      <td>...</td>\n",
       "      <td>Albany Cty</td>\n",
       "      <td>Albany</td>\n",
       "      <td>NY</td>\n",
       "      <td>USA</td>\n",
       "      <td>42.748119</td>\n",
       "      <td>-73.802979</td>\n",
       "      <td>-8534665.0</td>\n",
       "      <td>4746827.5</td>\n",
       "      <td>-8215710.0</td>\n",
       "      <td>5273711.50</td>\n",
       "    </tr>\n",
       "  </tbody>\n",
       "</table>\n",
       "<p>4 rows × 56 columns</p>\n",
       "</div>"
      ],
      "text/plain": [
       "   flight_year  flight_month  flight_dayofmonth  flight_dayofweek  deptime  \\\n",
       "0         2008             1                 31                 4     2029   \n",
       "1         2008             1                 31                 4     1304   \n",
       "2         2008             1                 31                 4      613   \n",
       "3         2008             1                 31                 4     1118   \n",
       "\n",
       "   crsdeptime  arrtime  crsarrtime uniquecarrier  flightnum     ...       \\\n",
       "0        2015     2121        2120            WN       2809     ...        \n",
       "1        1225     1404        1330            WN       1064     ...        \n",
       "2         615      728         710            WN       1628     ...        \n",
       "3        1120     1219        1225            WN       1759     ...        \n",
       "\n",
       "                dest_name   dest_city  dest_state  dest_country   dest_lat  \\\n",
       "0             Dallas Love      Dallas          TX           USA  32.847115   \n",
       "1  Theodore F Green State  Providence          RI           USA  41.723999   \n",
       "2         William P Hobby     Houston          TX           USA  29.645418   \n",
       "3              Albany Cty      Albany          NY           USA  42.748119   \n",
       "\n",
       "    dest_lon origin_merc_x origin_merc_y  dest_merc_x  dest_merc_y  \n",
       "0 -96.851768   -11321852.0     4193733.0  -10781490.0   3875028.50  \n",
       "1 -71.428223    -8534665.0     4746827.5   -7951353.0   5119725.00  \n",
       "2 -95.278893   -10781490.0     3875028.5  -10606397.0   3458052.75  \n",
       "3 -73.802979    -8534665.0     4746827.5   -8215710.0   5273711.50  \n",
       "\n",
       "[4 rows x 56 columns]"
      ]
     },
     "execution_count": 64,
     "metadata": {},
     "output_type": "execute_result"
    }
   ],
   "source": [
    "    %%mapd\n",
    "    select * from flights_donotmodify limit 4"
   ]
  },
  {
   "cell_type": "code",
   "execution_count": 65,
   "metadata": {},
   "outputs": [
    {
     "data": {
      "text/html": [
       "<div>\n",
       "<style scoped>\n",
       "    .dataframe tbody tr th:only-of-type {\n",
       "        vertical-align: middle;\n",
       "    }\n",
       "\n",
       "    .dataframe tbody tr th {\n",
       "        vertical-align: top;\n",
       "    }\n",
       "\n",
       "    .dataframe thead th {\n",
       "        text-align: right;\n",
       "    }\n",
       "</style>\n",
       "<table border=\"1\" class=\"dataframe\">\n",
       "  <thead>\n",
       "    <tr style=\"text-align: right;\">\n",
       "      <th></th>\n",
       "      <th>x</th>\n",
       "      <th>y</th>\n",
       "      <th>rowid</th>\n",
       "    </tr>\n",
       "  </thead>\n",
       "  <tbody>\n",
       "    <tr>\n",
       "      <th>0</th>\n",
       "      <td>-8.244688e+06</td>\n",
       "      <td>4972038.00</td>\n",
       "      <td>12640</td>\n",
       "    </tr>\n",
       "    <tr>\n",
       "      <th>1</th>\n",
       "      <td>-7.885474e+06</td>\n",
       "      <td>5135954.50</td>\n",
       "      <td>13248</td>\n",
       "    </tr>\n",
       "    <tr>\n",
       "      <th>2</th>\n",
       "      <td>-8.585785e+06</td>\n",
       "      <td>4708023.00</td>\n",
       "      <td>12096</td>\n",
       "    </tr>\n",
       "    <tr>\n",
       "      <th>3</th>\n",
       "      <td>-1.351459e+07</td>\n",
       "      <td>4635878.50</td>\n",
       "      <td>6880</td>\n",
       "    </tr>\n",
       "    <tr>\n",
       "      <th>4</th>\n",
       "      <td>-4.885402e+06</td>\n",
       "      <td>-1892679.75</td>\n",
       "      <td>8096</td>\n",
       "    </tr>\n",
       "    <tr>\n",
       "      <th>5</th>\n",
       "      <td>-7.654110e+06</td>\n",
       "      <td>-3882334.50</td>\n",
       "      <td>12097</td>\n",
       "    </tr>\n",
       "    <tr>\n",
       "      <th>6</th>\n",
       "      <td>-5.693870e+06</td>\n",
       "      <td>-2669869.00</td>\n",
       "      <td>8097</td>\n",
       "    </tr>\n",
       "    <tr>\n",
       "      <th>7</th>\n",
       "      <td>2.055925e+06</td>\n",
       "      <td>-4021811.00</td>\n",
       "      <td>12098</td>\n",
       "    </tr>\n",
       "    <tr>\n",
       "      <th>8</th>\n",
       "      <td>-1.187361e+07</td>\n",
       "      <td>4155311.75</td>\n",
       "      <td>13024</td>\n",
       "    </tr>\n",
       "    <tr>\n",
       "      <th>9</th>\n",
       "      <td>-3.500757e+05</td>\n",
       "      <td>7194443.00</td>\n",
       "      <td>6881</td>\n",
       "    </tr>\n",
       "  </tbody>\n",
       "</table>\n",
       "</div>"
      ],
      "text/plain": [
       "              x           y  rowid\n",
       "0 -8.244688e+06  4972038.00  12640\n",
       "1 -7.885474e+06  5135954.50  13248\n",
       "2 -8.585785e+06  4708023.00  12096\n",
       "3 -1.351459e+07  4635878.50   6880\n",
       "4 -4.885402e+06 -1892679.75   8096\n",
       "5 -7.654110e+06 -3882334.50  12097\n",
       "6 -5.693870e+06 -2669869.00   8097\n",
       "7  2.055925e+06 -4021811.00  12098\n",
       "8 -1.187361e+07  4155311.75  13024\n",
       "9 -3.500757e+05  7194443.00   6881"
      ]
     },
     "execution_count": 65,
     "metadata": {},
     "output_type": "execute_result"
    }
   ],
   "source": [
    "    %%mapd \n",
    "    SELECT goog_x as x, goog_y as y, tweets_nov_feb.rowid FROM tweets_nov_feb limit 10"
   ]
  },
  {
   "cell_type": "markdown",
   "metadata": {},
   "source": [
    "## Visualization\n",
    "\n",
    "The `mapd` magic may accept yaml in the body.  When `yaml` is used we return a visualization."
   ]
  },
  {
   "cell_type": "code",
   "execution_count": 67,
   "metadata": {},
   "outputs": [],
   "source": [
    "import mapd_renderer"
   ]
  },
  {
   "cell_type": "code",
   "execution_count": 71,
   "metadata": {},
   "outputs": [
    {
     "data": {
      "application/vnd.mapd.vega+json": {
       "connection": {
        "dbName": "mapd",
        "host": "metis.mapd.com",
        "password": "HyperInteractive",
        "port": 443,
        "protocol": "https",
        "user": "mapd"
       },
       "vega": {
        "config": {
         "ticks": false
        },
        "data": [
         {
          "name": "tweets",
          "sql": "SELECT goog_x as x, goog_y as y, tweets_nov_feb.rowid FROM tweets_nov_feb"
         }
        ],
        "height": 564,
        "marks": [
         {
          "from": {
           "data": "tweets"
          },
          "properties": {
           "fillColor": "green",
           "size": {
            "value": 1
           },
           "x": {
            "field": "x",
            "scale": "x"
           },
           "y": {
            "field": "y",
            "scale": "y"
           }
          },
          "type": "points"
         }
        ],
        "scales": [
         {
          "domain": [
           3650484.1235206556,
           7413325.514451755
          ],
          "name": "x",
          "range": "width",
          "type": "linear"
         },
         {
          "domain": [
           5778161.9183506705,
           10471808.487466192
          ],
          "name": "y",
          "range": "height",
          "type": "linear"
         }
        ],
        "width": 384
       }
      },
      "text/plain": [
       "<mapd_renderer.MapDBackendRenderer at 0x112d886a0>"
      ]
     },
     "execution_count": 71,
     "metadata": {},
     "output_type": "execute_result"
    }
   ],
   "source": [
    "%%mapd\n",
    "\n",
    "width: 384\n",
    "height: 564\n",
    "config: {ticks: false}\n",
    "data:\n",
    "  - name: 'tweets'\n",
    "    sql: 'SELECT goog_x as x, goog_y as y, tweets_nov_feb.rowid FROM tweets_nov_feb' \n",
    "scales:\n",
    "  - name: 'x'\n",
    "    type: 'linear'\n",
    "    domain: [3650484.1235206556, 7413325.514451755]\n",
    "    range: 'width'\n",
    "  - name: 'y'\n",
    "    type: 'linear'\n",
    "    domain: [5778161.9183506705, 10471808.487466192]\n",
    "    range: 'height'\n",
    "marks:\n",
    "  - type: 'points'\n",
    "    from: {data: 'tweets'}\n",
    "    properties:\n",
    "      x: {scale: 'x', field: 'x'}\n",
    "      y: {scale: 'y', field: 'y'}\n",
    "      fillColor: 'green'\n",
    "      size: {value: 1}"
   ]
  },
  {
   "cell_type": "code",
   "execution_count": null,
   "metadata": {},
   "outputs": [],
   "source": []
  }
 ],
 "metadata": {
  "kernelspec": {
   "display_name": "Python 3",
   "language": "python",
   "name": "python3"
  },
  "language_info": {
   "codemirror_mode": {
    "name": "ipython",
    "version": 3
   },
   "file_extension": ".py",
   "mimetype": "text/x-python",
   "name": "python",
   "nbconvert_exporter": "python",
   "pygments_lexer": "ipython3",
   "version": "3.6.6"
  },
  "widgets": {
   "application/vnd.jupyter.widget-state+json": {
    "state": {
     "00616b8b939a4bceba95dc82a24a43ed": {
      "model_module": "@jupyter-widgets/base",
      "model_module_version": "1.1.0",
      "model_name": "LayoutModel",
      "state": {}
     },
     "07d9a391e84c4626b05d189a34114c03": {
      "model_module": "@jupyter-widgets/controls",
      "model_module_version": "1.4.0",
      "model_name": "VBoxModel",
      "state": {
       "children": [
        "IPY_MODEL_0a0f432d4bb94366a7f3f9862f3fda8d",
        "IPY_MODEL_153b3413c6104e1b919c9191c1308f7a",
        "IPY_MODEL_3065b1f8708d46a28765478a76921b42"
       ],
       "layout": "IPY_MODEL_36215bb6568344009dde9f6db0f9bf5d"
      }
     },
     "0a0f432d4bb94366a7f3f9862f3fda8d": {
      "model_module": "@jupyter-widgets/controls",
      "model_module_version": "1.4.0",
      "model_name": "DropdownModel",
      "state": {
       "_options_labels": [
        "flights_donotmodify",
        "contributions_donotmodify",
        "tweets_nov_feb",
        "zipcodes_orig",
        "zipcodes",
        "demo_vote_clean"
       ],
       "description": "tables",
       "index": 0,
       "layout": "IPY_MODEL_3522e04741674e4a80b230f2330fc93b",
       "style": "IPY_MODEL_bd544158c07a4f1ab23e59783a40ada7"
      }
     },
     "12d15ad53c9042c1803ea895956910a4": {
      "model_module": "@jupyter-widgets/base",
      "model_module_version": "1.1.0",
      "model_name": "LayoutModel",
      "state": {}
     },
     "153b3413c6104e1b919c9191c1308f7a": {
      "model_module": "@jupyter-widgets/controls",
      "model_module_version": "1.4.0",
      "model_name": "HBoxModel",
      "state": {
       "children": [
        "IPY_MODEL_87f9963f8dd04dfdb857d100ee64a01c",
        "IPY_MODEL_34111cb46e6b4e0ea8ed970b159b47c6"
       ],
       "layout": "IPY_MODEL_6719baa93aac4547b94117c5d061d0fb"
      }
     },
     "1b3edf196206435a98071b39f4de4719": {
      "model_module": "@jupyter-widgets/output",
      "model_module_version": "1.0.0",
      "model_name": "OutputModel",
      "state": {
       "layout": "IPY_MODEL_dd4786d9cb34469fbddf9dafcabe42db",
       "outputs": [
        {
         "data": {
          "image/png": "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\n",
          "text/plain": "DatabaseTable[table]\n  name: flights_donotmodify\n  schema:\n    flight_year : int16\n    flight_month : int16\n    flight_dayofmonth : int16\n    flight_dayofweek : int16\n    deptime : int16\n    crsdeptime : int16\n    arrtime : int16\n    crsarrtime : int16\n    uniquecarrier : string\n    flightnum : int16\n    tailnum : string\n    actualelapsedtime : int16\n    crselapsedtime : int16\n    airtime : int16\n    arrdelay : int16\n    depdelay : int16\n    origin : string\n    dest : string\n    distance : int16\n    taxiin : int16\n    taxiout : int16\n    cancelled : int16\n    cancellationcode : string\n    diverted : int16\n    carrierdelay : int16\n    weatherdelay : int16\n    nasdelay : int16\n    securitydelay : int16\n    lateaircraftdelay : int16\n    dep_timestamp : timestamp\n    arr_timestamp : timestamp\n    carrier_name : string\n    plane_type : string\n    plane_manufacturer : string\n    plane_issue_date : date\n    plane_model : string\n    plane_status : string\n    plane_aircraft_type : string\n    plane_engine_type : string\n    plane_year : int16\n    origin_name : string\n    origin_city : string\n    origin_state : string\n    origin_country : string\n    origin_lat : float\n    origin_lon : float\n    dest_name : string\n    dest_city : string\n    dest_state : string\n    dest_country : string\n    dest_lat : float\n    dest_lon : float\n    origin_merc_x : float\n    origin_merc_y : float\n    dest_merc_x : float\n    dest_merc_y : float"
         },
         "metadata": {},
         "output_type": "display_data"
        }
       ]
      }
     },
     "21782ad4d8c44534818a4dbf565f21c8": {
      "model_module": "@jupyter-widgets/controls",
      "model_module_version": "1.4.0",
      "model_name": "HTMLModel",
      "state": {
       "layout": "IPY_MODEL_f69294f6baee4dcb86e8a861aba718c8",
       "style": "IPY_MODEL_9874338de05643dd901388b535fbcbdb",
       "value": "<code>select * from flights_donotmodify</code>"
      }
     },
     "2196a8a9ae224e9393f5cd73d8b06f2b": {
      "model_module": "@jupyter-widgets/controls",
      "model_module_version": "1.4.0",
      "model_name": "DropdownModel",
      "state": {
       "_options_labels": [
        "default",
        "immerse",
        "metis"
       ],
       "description": "Connection",
       "index": 0,
       "layout": "IPY_MODEL_b5ad05d083004bdd9a50052d555ec693",
       "style": "IPY_MODEL_5b50883708c14839bc943ec593c75bef"
      }
     },
     "234a769a52d446fca04df2ce124c4724": {
      "model_module": "@jupyter-widgets/controls",
      "model_module_version": "1.4.0",
      "model_name": "HTMLModel",
      "state": {
       "layout": "IPY_MODEL_6034e1586f4c437c9631bc9af4ed92c0",
       "style": "IPY_MODEL_e9ea44d965b94527827f55142e9d403d"
      }
     },
     "29091a03d79f407188c54564ca8a950d": {
      "model_module": "@jupyter-widgets/controls",
      "model_module_version": "1.4.0",
      "model_name": "DescriptionStyleModel",
      "state": {
       "description_width": ""
      }
     },
     "29ca9b631ed24c7791161d32a9b2a990": {
      "model_module": "@jupyter-widgets/base",
      "model_module_version": "1.1.0",
      "model_name": "LayoutModel",
      "state": {}
     },
     "3065b1f8708d46a28765478a76921b42": {
      "model_module": "@jupyter-widgets/controls",
      "model_module_version": "1.4.0",
      "model_name": "HTMLModel",
      "state": {
       "layout": "IPY_MODEL_4da88c80b2044ea6a9935b85c6ab28a7",
       "style": "IPY_MODEL_d814eceb837245ea874b5634d2e1147d",
       "value": "<code>select * from flights_donotmodify</code>"
      }
     },
     "34111cb46e6b4e0ea8ed970b159b47c6": {
      "model_module": "@jupyter-widgets/controls",
      "model_module_version": "1.4.0",
      "model_name": "HBoxModel",
      "state": {
       "children": [
        "IPY_MODEL_75a5e67df2df44beb6ccbe9cdb421034"
       ],
       "layout": "IPY_MODEL_d2ac3d136bfb413ebdda6f71ee9cb225"
      }
     },
     "3488c06294d543d28cdc2b78638f9e79": {
      "model_module": "@jupyter-widgets/base",
      "model_module_version": "1.1.0",
      "model_name": "LayoutModel",
      "state": {}
     },
     "3522e04741674e4a80b230f2330fc93b": {
      "model_module": "@jupyter-widgets/base",
      "model_module_version": "1.1.0",
      "model_name": "LayoutModel",
      "state": {}
     },
     "36215bb6568344009dde9f6db0f9bf5d": {
      "model_module": "@jupyter-widgets/base",
      "model_module_version": "1.1.0",
      "model_name": "LayoutModel",
      "state": {}
     },
     "3890256bf4734a7a998a8a62445e7803": {
      "model_module": "@jupyter-widgets/base",
      "model_module_version": "1.1.0",
      "model_name": "LayoutModel",
      "state": {}
     },
     "38bfb9100acd44edb43c422008a3d257": {
      "model_module": "@jupyter-widgets/controls",
      "model_module_version": "1.4.0",
      "model_name": "DropdownModel",
      "state": {
       "_options_labels": [
        "default",
        "immerse",
        "metis"
       ],
       "description": "Connection",
       "index": 2,
       "layout": "IPY_MODEL_29ca9b631ed24c7791161d32a9b2a990",
       "style": "IPY_MODEL_b1ccfd90084f48b5867c47c7af15a3de"
      }
     },
     "3a228b80a62f4ccb818ea19e3e0d64cc": {
      "model_module": "@jupyter-widgets/controls",
      "model_module_version": "1.4.0",
      "model_name": "HTMLModel",
      "state": {
       "layout": "IPY_MODEL_12d15ad53c9042c1803ea895956910a4",
       "style": "IPY_MODEL_672208bd15014183a889908ec8686c0e",
       "value": "<table border=\"1\" class=\"dataframe\">\n  <thead>\n    <tr style=\"text-align: right;\">\n      <th></th>\n      <th>host</th>\n      <th>port</th>\n      <th>protocol</th>\n      <th>user</th>\n      <th>password</th>\n      <th>database</th>\n    </tr>\n  </thead>\n  <tbody>\n    <tr>\n      <th></th>\n      <td>metis.mapd.com</td>\n      <td>443</td>\n      <td>https</td>\n      <td>mapd</td>\n      <td>HyperInteractive</td>\n      <td>mapd</td>\n    </tr>\n  </tbody>\n</table>"
      }
     },
     "4da88c80b2044ea6a9935b85c6ab28a7": {
      "model_module": "@jupyter-widgets/base",
      "model_module_version": "1.1.0",
      "model_name": "LayoutModel",
      "state": {}
     },
     "4e0d68c9906d42fc99094b9e9b3f994a": {
      "model_module": "@jupyter-widgets/controls",
      "model_module_version": "1.4.0",
      "model_name": "DescriptionStyleModel",
      "state": {
       "description_width": ""
      }
     },
     "4fccd266fb3e41b69f5c36a67019fe00": {
      "model_module": "@jupyter-widgets/controls",
      "model_module_version": "1.4.0",
      "model_name": "DescriptionStyleModel",
      "state": {
       "description_width": ""
      }
     },
     "55b43dcde7eb446daaa9f4fd985923f5": {
      "model_module": "@jupyter-widgets/base",
      "model_module_version": "1.1.0",
      "model_name": "LayoutModel",
      "state": {}
     },
     "5ab74ef45d7740819a99dc10f2fcb9ae": {
      "model_module": "@jupyter-widgets/controls",
      "model_module_version": "1.4.0",
      "model_name": "HTMLModel",
      "state": {
       "layout": "IPY_MODEL_bdb0dc8d33514cc3bad7b90a6edf211a",
       "style": "IPY_MODEL_ce79457d46a1493aa74c6982eea13f4d",
       "value": "<table border=\"1\" class=\"dataframe\">\n  <thead>\n    <tr style=\"text-align: right;\">\n      <th></th>\n      <th>host</th>\n      <th>port</th>\n      <th>protocol</th>\n      <th>user</th>\n      <th>password</th>\n      <th>database</th>\n    </tr>\n  </thead>\n  <tbody>\n    <tr>\n      <th></th>\n      <td>metis.mapd.com</td>\n      <td>443</td>\n      <td>https</td>\n      <td>mapd</td>\n      <td>HyperInteractive</td>\n      <td>mapd</td>\n    </tr>\n  </tbody>\n</table>"
      }
     },
     "5b50883708c14839bc943ec593c75bef": {
      "model_module": "@jupyter-widgets/controls",
      "model_module_version": "1.4.0",
      "model_name": "DescriptionStyleModel",
      "state": {
       "description_width": ""
      }
     },
     "6034e1586f4c437c9631bc9af4ed92c0": {
      "model_module": "@jupyter-widgets/base",
      "model_module_version": "1.1.0",
      "model_name": "LayoutModel",
      "state": {}
     },
     "61883741bd004726aed0929295d1b32a": {
      "model_module": "@jupyter-widgets/controls",
      "model_module_version": "1.4.0",
      "model_name": "HBoxModel",
      "state": {
       "children": [
        "IPY_MODEL_2196a8a9ae224e9393f5cd73d8b06f2b",
        "IPY_MODEL_c7bedb808869491c9b9432b05c679f99"
       ],
       "layout": "IPY_MODEL_63608b7928554405841a77737b279b4f"
      }
     },
     "63608b7928554405841a77737b279b4f": {
      "model_module": "@jupyter-widgets/base",
      "model_module_version": "1.1.0",
      "model_name": "LayoutModel",
      "state": {}
     },
     "65b569a52bfc484aaed719ff49cb6ae4": {
      "model_module": "@jupyter-widgets/base",
      "model_module_version": "1.1.0",
      "model_name": "LayoutModel",
      "state": {}
     },
     "6719baa93aac4547b94117c5d061d0fb": {
      "model_module": "@jupyter-widgets/base",
      "model_module_version": "1.1.0",
      "model_name": "LayoutModel",
      "state": {}
     },
     "672208bd15014183a889908ec8686c0e": {
      "model_module": "@jupyter-widgets/controls",
      "model_module_version": "1.4.0",
      "model_name": "DescriptionStyleModel",
      "state": {
       "description_width": ""
      }
     },
     "72765958c89d49258863a00ab69b2c9d": {
      "model_module": "@jupyter-widgets/base",
      "model_module_version": "1.1.0",
      "model_name": "LayoutModel",
      "state": {}
     },
     "75a5e67df2df44beb6ccbe9cdb421034": {
      "model_module": "@jupyter-widgets/output",
      "model_module_version": "1.0.0",
      "model_name": "OutputModel",
      "state": {
       "layout": "IPY_MODEL_75fc0944c21c434f8a14a93a0fa48c84"
      }
     },
     "75fc0944c21c434f8a14a93a0fa48c84": {
      "model_module": "@jupyter-widgets/base",
      "model_module_version": "1.1.0",
      "model_name": "LayoutModel",
      "state": {}
     },
     "7ba7e9e4a63041a08d988c49d9b49274": {
      "model_module": "@jupyter-widgets/controls",
      "model_module_version": "1.4.0",
      "model_name": "HBoxModel",
      "state": {
       "children": [
        "IPY_MODEL_bc622f82e7034268b36610b294d8ddf3",
        "IPY_MODEL_3a228b80a62f4ccb818ea19e3e0d64cc"
       ],
       "layout": "IPY_MODEL_919f8b1b273247999ef1a79e4aa3dcc6"
      }
     },
     "879788590a484b0c810626c0413225d3": {
      "model_module": "@jupyter-widgets/controls",
      "model_module_version": "1.4.0",
      "model_name": "HBoxModel",
      "state": {
       "children": [
        "IPY_MODEL_1b3edf196206435a98071b39f4de4719"
       ],
       "layout": "IPY_MODEL_00616b8b939a4bceba95dc82a24a43ed"
      }
     },
     "87f9963f8dd04dfdb857d100ee64a01c": {
      "model_module": "@jupyter-widgets/controls",
      "model_module_version": "1.4.0",
      "model_name": "HBoxModel",
      "state": {
       "children": [
        "IPY_MODEL_a8daea60f00940e28fdbae9dc9afc2b8"
       ],
       "layout": "IPY_MODEL_3488c06294d543d28cdc2b78638f9e79"
      }
     },
     "8cccf7fbca784ccd80c19c9b34e90c57": {
      "model_module": "@jupyter-widgets/base",
      "model_module_version": "1.1.0",
      "model_name": "LayoutModel",
      "state": {}
     },
     "8d628e730cff422c854655adfdf3c240": {
      "model_module": "@jupyter-widgets/controls",
      "model_module_version": "1.4.0",
      "model_name": "DescriptionStyleModel",
      "state": {
       "description_width": ""
      }
     },
     "8d75377de2a3484094807a1449c01aac": {
      "model_module": "@jupyter-widgets/controls",
      "model_module_version": "1.4.0",
      "model_name": "HBoxModel",
      "state": {
       "layout": "IPY_MODEL_938adc981f7242b885c86290aa460a2f"
      }
     },
     "9020adcbe15f4115bf6f50c0ee72c7f8": {
      "model_module": "@jupyter-widgets/controls",
      "model_module_version": "1.4.0",
      "model_name": "HBoxModel",
      "state": {
       "children": [
        "IPY_MODEL_38bfb9100acd44edb43c422008a3d257",
        "IPY_MODEL_5ab74ef45d7740819a99dc10f2fcb9ae"
       ],
       "layout": "IPY_MODEL_8cccf7fbca784ccd80c19c9b34e90c57"
      }
     },
     "919f8b1b273247999ef1a79e4aa3dcc6": {
      "model_module": "@jupyter-widgets/base",
      "model_module_version": "1.1.0",
      "model_name": "LayoutModel",
      "state": {}
     },
     "938adc981f7242b885c86290aa460a2f": {
      "model_module": "@jupyter-widgets/base",
      "model_module_version": "1.1.0",
      "model_name": "LayoutModel",
      "state": {}
     },
     "968be45e5c894d4399b677d21b57e160": {
      "model_module": "@jupyter-widgets/base",
      "model_module_version": "1.1.0",
      "model_name": "LayoutModel",
      "state": {}
     },
     "9874338de05643dd901388b535fbcbdb": {
      "model_module": "@jupyter-widgets/controls",
      "model_module_version": "1.4.0",
      "model_name": "DescriptionStyleModel",
      "state": {
       "description_width": ""
      }
     },
     "9dc08b8087c847a18757502148db5f4c": {
      "model_module": "@jupyter-widgets/controls",
      "model_module_version": "1.4.0",
      "model_name": "VBoxModel",
      "state": {
       "children": [
        "IPY_MODEL_b5cdfb87e8784dca85b81d99f3221847",
        "IPY_MODEL_e8f7f562a0584b81a51b00d5fa571604",
        "IPY_MODEL_21782ad4d8c44534818a4dbf565f21c8"
       ],
       "layout": "IPY_MODEL_a684d73a3cac444397ba536380e8ce39"
      }
     },
     "a0855129fc024d618e0f1af9c535eaab": {
      "model_module": "@jupyter-widgets/controls",
      "model_module_version": "1.4.0",
      "model_name": "VBoxModel",
      "state": {
       "children": [
        "IPY_MODEL_9020adcbe15f4115bf6f50c0ee72c7f8",
        "IPY_MODEL_07d9a391e84c4626b05d189a34114c03"
       ],
       "layout": "IPY_MODEL_3890256bf4734a7a998a8a62445e7803"
      }
     },
     "a1a01be7de9d44be96339f43b45ccec8": {
      "model_module": "@jupyter-widgets/base",
      "model_module_version": "1.1.0",
      "model_name": "LayoutModel",
      "state": {}
     },
     "a678496da7b84a67bd67949db46b4f6b": {
      "model_module": "@jupyter-widgets/controls",
      "model_module_version": "1.4.0",
      "model_name": "VBoxModel",
      "state": {
       "children": [
        "IPY_MODEL_df64c8e2bd9141c7a0bf8ebac4181860",
        "IPY_MODEL_8d75377de2a3484094807a1449c01aac",
        "IPY_MODEL_234a769a52d446fca04df2ce124c4724"
       ],
       "layout": "IPY_MODEL_fdd086adef2e473b8b354fde8f1f8bd7"
      }
     },
     "a684d73a3cac444397ba536380e8ce39": {
      "model_module": "@jupyter-widgets/base",
      "model_module_version": "1.1.0",
      "model_name": "LayoutModel",
      "state": {}
     },
     "a8daea60f00940e28fdbae9dc9afc2b8": {
      "model_module": "@jupyter-widgets/output",
      "model_module_version": "1.0.0",
      "model_name": "OutputModel",
      "state": {
       "layout": "IPY_MODEL_b81e6a21a9ef4c6f880a8ae961603747"
      }
     },
     "b1ccfd90084f48b5867c47c7af15a3de": {
      "model_module": "@jupyter-widgets/controls",
      "model_module_version": "1.4.0",
      "model_name": "DescriptionStyleModel",
      "state": {
       "description_width": ""
      }
     },
     "b5ad05d083004bdd9a50052d555ec693": {
      "model_module": "@jupyter-widgets/base",
      "model_module_version": "1.1.0",
      "model_name": "LayoutModel",
      "state": {}
     },
     "b5cdfb87e8784dca85b81d99f3221847": {
      "model_module": "@jupyter-widgets/controls",
      "model_module_version": "1.4.0",
      "model_name": "DropdownModel",
      "state": {
       "_options_labels": [
        "flights_donotmodify",
        "contributions_donotmodify",
        "tweets_nov_feb",
        "zipcodes_orig",
        "zipcodes",
        "demo_vote_clean"
       ],
       "description": "tables",
       "index": 0,
       "layout": "IPY_MODEL_e594893672a54c388df04f1c46fc62c9",
       "style": "IPY_MODEL_4fccd266fb3e41b69f5c36a67019fe00"
      }
     },
     "b81e6a21a9ef4c6f880a8ae961603747": {
      "model_module": "@jupyter-widgets/base",
      "model_module_version": "1.1.0",
      "model_name": "LayoutModel",
      "state": {}
     },
     "bc622f82e7034268b36610b294d8ddf3": {
      "model_module": "@jupyter-widgets/controls",
      "model_module_version": "1.4.0",
      "model_name": "DropdownModel",
      "state": {
       "_options_labels": [
        "default",
        "immerse",
        "metis"
       ],
       "description": "Connection",
       "index": 2,
       "layout": "IPY_MODEL_a1a01be7de9d44be96339f43b45ccec8",
       "style": "IPY_MODEL_8d628e730cff422c854655adfdf3c240"
      }
     },
     "bd544158c07a4f1ab23e59783a40ada7": {
      "model_module": "@jupyter-widgets/controls",
      "model_module_version": "1.4.0",
      "model_name": "DescriptionStyleModel",
      "state": {
       "description_width": ""
      }
     },
     "bdb0dc8d33514cc3bad7b90a6edf211a": {
      "model_module": "@jupyter-widgets/base",
      "model_module_version": "1.1.0",
      "model_name": "LayoutModel",
      "state": {}
     },
     "c7bedb808869491c9b9432b05c679f99": {
      "model_module": "@jupyter-widgets/controls",
      "model_module_version": "1.4.0",
      "model_name": "HTMLModel",
      "state": {
       "layout": "IPY_MODEL_968be45e5c894d4399b677d21b57e160",
       "style": "IPY_MODEL_29091a03d79f407188c54564ca8a950d",
       "value": "<table border=\"1\" class=\"dataframe\">\n  <thead>\n    <tr style=\"text-align: right;\">\n      <th></th>\n      <th>host</th>\n      <th>port</th>\n      <th>user</th>\n      <th>password</th>\n      <th>protocol</th>\n      <th>database</th>\n    </tr>\n  </thead>\n  <tbody>\n    <tr>\n      <th></th>\n      <td>localhost</td>\n      <td>9091</td>\n      <td>mapd</td>\n      <td>HyperInteractive</td>\n      <td>binary</td>\n      <td>mapd</td>\n    </tr>\n  </tbody>\n</table>"
      }
     },
     "c9a61e79a5714998891cfcfe91b3ab3e": {
      "model_module": "@jupyter-widgets/output",
      "model_module_version": "1.0.0",
      "model_name": "OutputModel",
      "state": {
       "layout": "IPY_MODEL_55b43dcde7eb446daaa9f4fd985923f5",
       "outputs": [
        {
         "data": {
          "text/html": "<div>\n<style scoped>\n    .dataframe tbody tr th:only-of-type {\n        vertical-align: middle;\n    }\n\n    .dataframe tbody tr th {\n        vertical-align: top;\n    }\n\n    .dataframe thead th {\n        text-align: right;\n    }\n</style>\n<table border=\"1\" class=\"dataframe\">\n  <thead>\n    <tr style=\"text-align: right;\">\n      <th></th>\n      <th>flight_year</th>\n      <th>flight_month</th>\n      <th>flight_dayofmonth</th>\n      <th>flight_dayofweek</th>\n      <th>deptime</th>\n      <th>crsdeptime</th>\n      <th>arrtime</th>\n      <th>crsarrtime</th>\n      <th>uniquecarrier</th>\n      <th>flightnum</th>\n      <th>...</th>\n      <th>dest_name</th>\n      <th>dest_city</th>\n      <th>dest_state</th>\n      <th>dest_country</th>\n      <th>dest_lat</th>\n      <th>dest_lon</th>\n      <th>origin_merc_x</th>\n      <th>origin_merc_y</th>\n      <th>dest_merc_x</th>\n      <th>dest_merc_y</th>\n    </tr>\n  </thead>\n  <tbody>\n    <tr>\n      <th>0</th>\n      <td>2008</td>\n      <td>1</td>\n      <td>30</td>\n      <td>3</td>\n      <td>1039</td>\n      <td>1040</td>\n      <td>1131</td>\n      <td>1140</td>\n      <td>WN</td>\n      <td>24</td>\n      <td>...</td>\n      <td>William P Hobby</td>\n      <td>Houston</td>\n      <td>TX</td>\n      <td>USA</td>\n      <td>29.645418</td>\n      <td>-95.278893</td>\n      <td>-10870837.0</td>\n      <td>3027410.0</td>\n      <td>-10606397.0</td>\n      <td>3458052.75</td>\n    </tr>\n    <tr>\n      <th>1</th>\n      <td>2008</td>\n      <td>1</td>\n      <td>30</td>\n      <td>3</td>\n      <td>1210</td>\n      <td>1210</td>\n      <td>1310</td>\n      <td>1310</td>\n      <td>WN</td>\n      <td>30</td>\n      <td>...</td>\n      <td>William P Hobby</td>\n      <td>Houston</td>\n      <td>TX</td>\n      <td>USA</td>\n      <td>29.645418</td>\n      <td>-95.278893</td>\n      <td>-10870837.0</td>\n      <td>3027410.0</td>\n      <td>-10606397.0</td>\n      <td>3458052.75</td>\n    </tr>\n    <tr>\n      <th>2</th>\n      <td>2008</td>\n      <td>1</td>\n      <td>30</td>\n      <td>3</td>\n      <td>1338</td>\n      <td>1340</td>\n      <td>1429</td>\n      <td>1440</td>\n      <td>WN</td>\n      <td>36</td>\n      <td>...</td>\n      <td>William P Hobby</td>\n      <td>Houston</td>\n      <td>TX</td>\n      <td>USA</td>\n      <td>29.645418</td>\n      <td>-95.278893</td>\n      <td>-10870837.0</td>\n      <td>3027410.0</td>\n      <td>-10606397.0</td>\n      <td>3458052.75</td>\n    </tr>\n    <tr>\n      <th>3</th>\n      <td>2008</td>\n      <td>1</td>\n      <td>30</td>\n      <td>3</td>\n      <td>1541</td>\n      <td>1540</td>\n      <td>1637</td>\n      <td>1640</td>\n      <td>WN</td>\n      <td>44</td>\n      <td>...</td>\n      <td>William P Hobby</td>\n      <td>Houston</td>\n      <td>TX</td>\n      <td>USA</td>\n      <td>29.645418</td>\n      <td>-95.278893</td>\n      <td>-10870837.0</td>\n      <td>3027410.0</td>\n      <td>-10606397.0</td>\n      <td>3458052.75</td>\n    </tr>\n    <tr>\n      <th>4</th>\n      <td>2008</td>\n      <td>1</td>\n      <td>30</td>\n      <td>3</td>\n      <td>1950</td>\n      <td>1945</td>\n      <td>2045</td>\n      <td>2045</td>\n      <td>WN</td>\n      <td>2181</td>\n      <td>...</td>\n      <td>Chicago Midway</td>\n      <td>Chicago</td>\n      <td>IL</td>\n      <td>USA</td>\n      <td>41.785984</td>\n      <td>-87.752426</td>\n      <td>-8622341.0</td>\n      <td>4713729.5</td>\n      <td>-9768555.0</td>\n      <td>5128974.50</td>\n    </tr>\n  </tbody>\n</table>\n<p>5 rows × 56 columns</p>\n</div>",
          "text/plain": "   flight_year  flight_month  flight_dayofmonth  flight_dayofweek  deptime  \\\n0         2008             1                 30                 3     1039   \n1         2008             1                 30                 3     1210   \n2         2008             1                 30                 3     1338   \n3         2008             1                 30                 3     1541   \n4         2008             1                 30                 3     1950   \n\n   crsdeptime  arrtime  crsarrtime uniquecarrier  flightnum     ...       \\\n0        1040     1131        1140            WN         24     ...        \n1        1210     1310        1310            WN         30     ...        \n2        1340     1429        1440            WN         36     ...        \n3        1540     1637        1640            WN         44     ...        \n4        1945     2045        2045            WN       2181     ...        \n\n         dest_name  dest_city  dest_state  dest_country   dest_lat   dest_lon  \\\n0  William P Hobby    Houston          TX           USA  29.645418 -95.278893   \n1  William P Hobby    Houston          TX           USA  29.645418 -95.278893   \n2  William P Hobby    Houston          TX           USA  29.645418 -95.278893   \n3  William P Hobby    Houston          TX           USA  29.645418 -95.278893   \n4   Chicago Midway    Chicago          IL           USA  41.785984 -87.752426   \n\n  origin_merc_x origin_merc_y  dest_merc_x  dest_merc_y  \n0   -10870837.0     3027410.0  -10606397.0   3458052.75  \n1   -10870837.0     3027410.0  -10606397.0   3458052.75  \n2   -10870837.0     3027410.0  -10606397.0   3458052.75  \n3   -10870837.0     3027410.0  -10606397.0   3458052.75  \n4    -8622341.0     4713729.5   -9768555.0   5128974.50  \n\n[5 rows x 56 columns]"
         },
         "metadata": {},
         "output_type": "display_data"
        }
       ]
      }
     },
     "ce79457d46a1493aa74c6982eea13f4d": {
      "model_module": "@jupyter-widgets/controls",
      "model_module_version": "1.4.0",
      "model_name": "DescriptionStyleModel",
      "state": {
       "description_width": ""
      }
     },
     "d18e53d69c9546e680d03c4070db34a0": {
      "model_module": "@jupyter-widgets/controls",
      "model_module_version": "1.4.0",
      "model_name": "VBoxModel",
      "state": {
       "children": [
        "IPY_MODEL_7ba7e9e4a63041a08d988c49d9b49274",
        "IPY_MODEL_9dc08b8087c847a18757502148db5f4c"
       ],
       "layout": "IPY_MODEL_eeaaae3bdb014efeb844c8c99d61bb48"
      }
     },
     "d2ac3d136bfb413ebdda6f71ee9cb225": {
      "model_module": "@jupyter-widgets/base",
      "model_module_version": "1.1.0",
      "model_name": "LayoutModel",
      "state": {}
     },
     "d814eceb837245ea874b5634d2e1147d": {
      "model_module": "@jupyter-widgets/controls",
      "model_module_version": "1.4.0",
      "model_name": "DescriptionStyleModel",
      "state": {
       "description_width": ""
      }
     },
     "dd4786d9cb34469fbddf9dafcabe42db": {
      "model_module": "@jupyter-widgets/base",
      "model_module_version": "1.1.0",
      "model_name": "LayoutModel",
      "state": {}
     },
     "df64c8e2bd9141c7a0bf8ebac4181860": {
      "model_module": "@jupyter-widgets/controls",
      "model_module_version": "1.4.0",
      "model_name": "DropdownModel",
      "state": {
       "description": "tables",
       "index": null,
       "layout": "IPY_MODEL_65b569a52bfc484aaed719ff49cb6ae4",
       "style": "IPY_MODEL_4e0d68c9906d42fc99094b9e9b3f994a"
      }
     },
     "e54973b8591041a595645d8f1b6da094": {
      "model_module": "@jupyter-widgets/base",
      "model_module_version": "1.1.0",
      "model_name": "LayoutModel",
      "state": {}
     },
     "e594893672a54c388df04f1c46fc62c9": {
      "model_module": "@jupyter-widgets/base",
      "model_module_version": "1.1.0",
      "model_name": "LayoutModel",
      "state": {}
     },
     "e888a69305404213ba1088ff05c464e7": {
      "model_module": "@jupyter-widgets/controls",
      "model_module_version": "1.4.0",
      "model_name": "HBoxModel",
      "state": {
       "children": [
        "IPY_MODEL_c9a61e79a5714998891cfcfe91b3ab3e"
       ],
       "layout": "IPY_MODEL_72765958c89d49258863a00ab69b2c9d"
      }
     },
     "e8f7f562a0584b81a51b00d5fa571604": {
      "model_module": "@jupyter-widgets/controls",
      "model_module_version": "1.4.0",
      "model_name": "HBoxModel",
      "state": {
       "children": [
        "IPY_MODEL_879788590a484b0c810626c0413225d3",
        "IPY_MODEL_e888a69305404213ba1088ff05c464e7"
       ],
       "layout": "IPY_MODEL_e54973b8591041a595645d8f1b6da094"
      }
     },
     "e9ea44d965b94527827f55142e9d403d": {
      "model_module": "@jupyter-widgets/controls",
      "model_module_version": "1.4.0",
      "model_name": "DescriptionStyleModel",
      "state": {
       "description_width": ""
      }
     },
     "eeaaae3bdb014efeb844c8c99d61bb48": {
      "model_module": "@jupyter-widgets/base",
      "model_module_version": "1.1.0",
      "model_name": "LayoutModel",
      "state": {}
     },
     "f69294f6baee4dcb86e8a861aba718c8": {
      "model_module": "@jupyter-widgets/base",
      "model_module_version": "1.1.0",
      "model_name": "LayoutModel",
      "state": {}
     },
     "fdd086adef2e473b8b354fde8f1f8bd7": {
      "model_module": "@jupyter-widgets/base",
      "model_module_version": "1.1.0",
      "model_name": "LayoutModel",
      "state": {}
     }
    },
    "version_major": 2,
    "version_minor": 0
   }
  }
 },
 "nbformat": 4,
 "nbformat_minor": 2
}
